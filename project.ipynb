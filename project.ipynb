{
 "cells": [
  {
   "cell_type": "markdown",
   "metadata": {},
   "source": [
    "# 521153S Deep Learning Final Project"
   ]
  },
  {
   "cell_type": "code",
   "execution_count": 22,
   "metadata": {},
   "outputs": [],
   "source": [
    "# import necessary packages\n",
    "import os\n",
    "import requests\n",
    "import zipfile\n",
    "import sys\n",
    "import numpy as np\n",
    "import matplotlib.pyplot as plt\n",
    "from torch.utils.data import Dataset, DataLoader\n",
    "import torchvision\n",
    "from PIL import Image\n",
    "import torch\n",
    "import torch.nn as nn\n",
    "import torch.nn.functional as F\n",
    "import torch.optim as optim\n",
    "from torchvision import transforms, datasets\n",
    "from torchvision.io import read_image\n",
    "from torchvision.models import resnet18, resnet34, resnet50, resnet101, resnet152, ResNet18_Weights, ResNet34_Weights, ResNet50_Weights, ResNet101_Weights, ResNet152_Weights, vgg11, vgg13, vgg16, vgg19, VGG11_Weights, VGG13_Weights, VGG16_Weights, VGG19_Weights\n",
    "import gdown\n",
    "import urllib\n",
    "import os\n",
    "import random\n",
    "import tarfile\n",
    "import time\n",
    "import shutil\n",
    "import logging as lg\n",
    "from tqdm.notebook import tqdm\n",
    "from torch.utils.data import random_split\n",
    "from sklearn.model_selection import train_test_split\n",
    "from torch.utils.data import Subset"
   ]
  },
  {
   "cell_type": "markdown",
   "metadata": {},
   "source": []
  },
  {
   "cell_type": "code",
   "execution_count": 23,
   "metadata": {},
   "outputs": [],
   "source": [
    "# Set the logging level\n",
    "# Possible Levels: DEBUG, INFO,\n",
    "lg.basicConfig(level=lg.DEBUG)"
   ]
  },
  {
   "cell_type": "code",
   "execution_count": 24,
   "metadata": {},
   "outputs": [
    {
     "name": "stdout",
     "output_type": "stream",
     "text": [
      "Device: cuda:0\n"
     ]
    }
   ],
   "source": [
    "device = torch.device('cuda:0' if torch.cuda.is_available() else 'cpu')\n",
    "\n",
    "# If you encounter some issues regarding cuda device, e.g., \"RuntimeError: CUDA Out of memory error\",\n",
    "# try to switch the device to cpu by using the following code\n",
    "\n",
    "# device = torch.device('cpu')\n",
    "print('Device:', device)"
   ]
  },
  {
   "cell_type": "code",
   "execution_count": 25,
   "metadata": {},
   "outputs": [],
   "source": [
    "# Image Size\n",
    "image_size = 224\n",
    "\n",
    "# Batch size during training\n",
    "batch_size = 128\n",
    "num_workers = 1\n",
    "\n",
    "# Learning rate for optimizers (id not good, decrease learning rate (try 0.001, 0.0001, 0.00001))\n",
    "lr = 0.001\n",
    "\n",
    "# Momentum\n",
    "momentum = 0.9\n",
    "\n",
    "# Number of training epochs\n",
    "num_epochs = 10\n",
    "\n",
    "# Weight decay (if not good, increase weight_decay (try 1e-4, 1e-3, 1e-2))\n",
    "weight_decay=1e-2"
   ]
  },
  {
   "cell_type": "code",
   "execution_count": 26,
   "metadata": {},
   "outputs": [],
   "source": [
    "# download the dataset\n",
    "val_url = 'https://drive.google.com/u/0/uc?id=1hSMUMj5IRpf-nQs1OwgiQLmGZCN0KDWl'\n",
    "train_url = 'https://drive.google.com/u/0/uc?id=107FTosYIeBn5QbynR46YG91nHcJ70whs'\n",
    "test_url = 'https://drive.google.com/u/0/uc?id=1yKyKgxcnGMIAnA_6Vr2ilbpHMc9COg-v'\n",
    "eurosat_url = 'https://zenodo.org/records/7711810/files/EuroSAT_RGB.zip?download=1'\n",
    "cub_url = 'https://data.caltech.edu/records/65de6-vp158/files/CUB_200_2011.tgz?download=1'\n",
    "\n",
    "val_file = './data/val.tar'\n",
    "train_file = './data/train.tar'\n",
    "test_file = './data/test.tar'\n",
    "eurosat_file = './data/eurosatrgb.zip'\n",
    "cub_file = './data/cub_200_2011.tgz'\n",
    "\n",
    "\n",
    "if not os.path.exists('./data'):\n",
    "    print('Creating data directory')\n",
    "    os.mkdir('./data')\n",
    "\n",
    "if not os.path.exists('./data/val.tar'):\n",
    "    print('Downloading val.tar')\n",
    "    gdown.download(val_url, val_file)\n",
    "    val_tar = tarfile.open(val_file)\n",
    "    val_tar.extractall('./data/')\n",
    "    val_tar.close()\n",
    "\n",
    "if not os.path.exists(train_file):\n",
    "    print('Downloading train.tar')\n",
    "    gdown.download(train_url, train_file)\n",
    "    train_tar = tarfile.open(train_file)\n",
    "    train_tar.extractall('./data/')\n",
    "    train_tar.close()\n",
    "\n",
    "if not os.path.exists(test_file):\n",
    "    print('Downloading test.tar')\n",
    "    gdown.download(test_url, test_file)\n",
    "    test_tar = tarfile.open(test_file)\n",
    "    test_tar.extractall('./data/')\n",
    "    test_tar.close()\n",
    "\n",
    "if not os.path.exists(eurosat_file):\n",
    "    print('Downloading EuroSAT_RGB.zip')\n",
    "    response = urllib.request.urlretrieve(eurosat_url, eurosat_file)\n",
    "    eurosat_zip = zipfile.ZipFile(eurosat_file)\n",
    "    eurosat_zip.extractall('./data/eurosat')\n",
    "    eurosat_zip.close()\n",
    "\n",
    "if not os.path.exists(cub_file):\n",
    "    print('Downloading cub200_2011.tgz')\n",
    "    response = urllib.request.urlretrieve(cub_url, cub_file)\n",
    "    tar = tarfile.open(cub_file, 'r')\n",
    "    for item in tar:\n",
    "        tar.extract(item, './data')\n",
    "    tar.close()\n"
   ]
  },
  {
   "cell_type": "code",
   "execution_count": 27,
   "metadata": {},
   "outputs": [],
   "source": [
    "model_resnet18 = resnet18(weights=ResNet18_Weights.DEFAULT)\n",
    "model_resnet34 = resnet34(weights=ResNet34_Weights.DEFAULT)\n",
    "model_resnet50 = resnet50(weights=ResNet50_Weights.DEFAULT)\n",
    "model_resnet101 = resnet101(weights=ResNet101_Weights.DEFAULT)\n",
    "model_resnet152 = resnet152(weights=ResNet152_Weights.DEFAULT)\n",
    "\n",
    "model_vgg11 = vgg11(weights=VGG11_Weights.DEFAULT)\n",
    "model_vgg13 = vgg13(weights=VGG13_Weights.DEFAULT)\n",
    "model_vgg16 = vgg16(weights=VGG16_Weights.DEFAULT)\n",
    "model_vgg19 = vgg19(weights=VGG19_Weights.DEFAULT)"
   ]
  },
  {
   "cell_type": "code",
   "execution_count": null,
   "metadata": {},
   "outputs": [],
   "source": [
    "\"\"\"\n",
    "train_dataset = torchvision.datasets.ImageFolder(\n",
    "    root='./data/train',\n",
    "    transform=transforms.Compose([\n",
    "        transforms.RandomResizedCrop(224),\n",
    "        transforms.RandomHorizontalFlip(),\n",
    "        transforms.ToTensor(),\n",
    "        transforms.Normalize([0.485, 0.456, 0.406], [0.229, 0.224, 0.225]), # mean and std for ImageNet dataset\n",
    "    ])\n",
    ")\n",
    "\n",
    "\n",
    "test_dataset = torchvision.datasets.ImageFolder(\n",
    "    root='./data/test',\n",
    "    transform=transforms.Compose([\n",
    "        #transforms.Resize(image_size),\n",
    "        #transforms.CenterCrop(image_size),\n",
    "        transforms.ToTensor(),\n",
    "        transforms.Normalize([0.485, 0.456, 0.406], [0.229, 0.224, 0.225]),\n",
    "    ])\n",
    ")\n",
    "\n",
    "validation_dataset = torchvision.datasets.ImageFolder(\n",
    "    root='./data/val',\n",
    "    transform=transforms.Compose([\n",
    "        #transforms.Resize(image_size),\n",
    "        #transforms.CenterCrop(image_size),\n",
    "        transforms.ToTensor(),\n",
    "        transforms.Normalize([0.485, 0.456, 0.406], [0.229, 0.224, 0.225]),\n",
    "    ])\n",
    ")\n",
    "\n",
    "\n",
    "dataloader_train = torch.utils.data.DataLoader(train_dataset, batch_size=batch_size, shuffle=True, num_workers=num_workers)\n",
    "dataloader_test = torch.utils.data.DataLoader(test_dataset, batch_size=batch_size, shuffle=False, num_workers=num_workers)\n",
    "dataloader_validation = torch.utils.data.DataLoader(validation_dataset, batch_size=batch_size, shuffle=False, num_workers=num_workers)\n",
    "\"\"\""
   ]
  },
  {
   "cell_type": "code",
   "execution_count": 28,
   "metadata": {},
   "outputs": [
    {
     "name": "stdout",
     "output_type": "stream",
     "text": [
      "Number of samples in the training set: 26880\n",
      "Number of samples in the validation set: 5760\n",
      "Number of samples in the test set: 5760\n"
     ]
    }
   ],
   "source": [
    "# Stratified split, tries to maintain a proportional distribution of samples for each class in all three sets (train, val and test).\n",
    "\n",
    "# Val and Test ratio total, Train ratio (1-test_ratio)\n",
    "test_ratio = 0.3\n",
    "\n",
    "# Split between Val and Test\n",
    "test_val_split = 0.5\n",
    "\n",
    "# Loading the ImageFolder dataset\n",
    "train_dataset = torchvision.datasets.ImageFolder(root='./data/train')\n",
    "\n",
    "# Getting the number of classes\n",
    "num_classes = len(train_dataset.classes)\n",
    "\n",
    "# Initializing lists to store indices for train, validation, and test sets\n",
    "train_indices, val_indices, test_indices = [], [], []\n",
    "\n",
    "# Splitting each class separately\n",
    "for class_index in range(num_classes):\n",
    "    # Getting indices for samples belonging to the current class\n",
    "    class_indices = np.where(np.array(train_dataset.targets) == class_index)[0]\n",
    "    \n",
    "    # Splitting indices for each class separately into train, validation, and test sets\n",
    "    train_idx, temp_idx = train_test_split(class_indices, test_size=test_ratio, random_state=42)\n",
    "    val_idx, test_idx = train_test_split(temp_idx, test_size=test_val_split, random_state=42)\n",
    "    \n",
    "    # Extending the lists to store indices for each set\n",
    "    train_indices.extend(train_idx)\n",
    "    val_indices.extend(val_idx)\n",
    "    test_indices.extend(test_idx)\n",
    "\n",
    "# Creating Subset objects using the selected indices for each set\n",
    "train_set = Subset(train_dataset, train_indices)\n",
    "val_set = Subset(train_dataset, val_indices)\n",
    "test_set = Subset(train_dataset, test_indices)\n",
    "\n",
    "# Transform functions\n",
    "transform_train = transforms.Compose([\n",
    "    transforms.Resize(256),\n",
    "    transforms.CenterCrop(image_size),      \n",
    "    transforms.RandomHorizontalFlip(),\n",
    "    transforms.ToTensor(),\n",
    "    transforms.Normalize([0.485, 0.456, 0.406], [0.229, 0.224, 0.225]), # mean and std for ImageNet dataset\n",
    "])\n",
    "\n",
    "transform_eval = transforms.Compose([\n",
    "    transforms.Resize(256),\n",
    "    transforms.CenterCrop(image_size),\n",
    "    transforms.ToTensor(),\n",
    "    transforms.Normalize([0.485, 0.456, 0.406], [0.229, 0.224, 0.225]), # mean and std for ImageNet dataset\n",
    "])\n",
    "\n",
    "train_set.dataset.transform = transform_train\n",
    "val_set.dataset.transform = transform_eval\n",
    "test_set.dataset.transform = transform_eval\n",
    "\n",
    "train_loader = DataLoader(train_set, batch_size=batch_size, shuffle=True, num_workers=num_workers)\n",
    "val_loader = DataLoader(val_set, batch_size=batch_size, shuffle=False, num_workers=num_workers)\n",
    "test_loader = DataLoader(test_set, batch_size=batch_size, shuffle=False, num_workers=num_workers)\n",
    "\n",
    "# Printing the sizes of the resulting sets\n",
    "print(f\"Number of samples in the training set: {len(train_set)}\")\n",
    "print(f\"Number of samples in the validation set: {len(val_set)}\")\n",
    "print(f\"Number of samples in the test set: {len(test_set)}\")"
   ]
  },
  {
   "cell_type": "code",
   "execution_count": 29,
   "metadata": {},
   "outputs": [],
   "source": [
    "# Define the used model\n",
    "model = model_resnet18\n",
    "model.name = \"resnet18\"     # Set name for saving\n",
    "\n",
    "model.fc = torch.nn.Linear(model.fc.in_features, num_classes)\n",
    "\n",
    "# Define loss function\n",
    "criterion = nn.CrossEntropyLoss()\n",
    "\n",
    "# Define optimizer\n",
    "optimizer = optim.SGD(model.parameters(), lr=lr, momentum=momentum)\n",
    "#optimizer = optim.Adam(model.parameters(), lr=lr, weight_decay=weight_decay)"
   ]
  },
  {
   "cell_type": "code",
   "execution_count": 30,
   "metadata": {},
   "outputs": [],
   "source": [
    "def evaluate(model, data_loader, device, criterion):\n",
    "\n",
    "    model.eval() \n",
    "    # valid_running_loss = 0.0\n",
    "    valid_running_correct = 0\n",
    "    counter = 0\n",
    "    num_images = 0.0 # used to accumulate number of images\n",
    "    \n",
    "    #with torch.no_grad():\n",
    "    for i, data in enumerate(data_loader, 0):\n",
    "        counter += 1\n",
    "        \n",
    "        image, labels = data\n",
    "        image = image.to(device)\n",
    "        labels = labels.to(device)\n",
    "        # Forward pass.\n",
    "        outputs = model(image)\n",
    "        # Calculate the loss.\n",
    "        loss = criterion(outputs, labels)\n",
    "        # valid_running_loss += loss.item()\n",
    "        # Calculate the accuracy.\n",
    "        #preds = outputs.argmax(dim=1)\n",
    "        preds = torch.max(outputs, 1).indices\n",
    "        \n",
    "        #valid_running_correct += preds.eq(labels).sum()\n",
    "        valid_running_correct += torch.sum(preds == labels.data)\n",
    "        num_images += len(labels)\n",
    "        \n",
    "    # Loss and accuracy for the complete epoch.\n",
    "    # epoch_loss = valid_running_loss / counter\n",
    "    lg.debug(f\"EVAL:   loss.item(): {loss.item()} valid_running_correct: {valid_running_correct.item()}\")\n",
    "\n",
    "    epoch_acc = valid_running_correct / num_images\n",
    "    return epoch_acc"
   ]
  },
  {
   "cell_type": "code",
   "execution_count": 31,
   "metadata": {},
   "outputs": [],
   "source": [
    "def train(model, trainLoader, valLoader, criterion, optimizer, num_epochs, device):\n",
    "    model.to(device)\n",
    "    train_loss = []\n",
    "    train_acc = []\n",
    "\n",
    "    # Start the training.\n",
    "    if torch.cuda.is_available():\n",
    "        print(\"Using CUDA\")\n",
    "\n",
    "    print('Training')\n",
    "    \n",
    "    lg.debug(f\" len(trainLoader.dataset): {len(trainLoader.dataset)}\")\n",
    "    lg.debug(f\" len(valLoader.dataset): {len(valLoader.dataset)}\")\n",
    "\n",
    "    \n",
    "    for epoch in range(num_epochs):\n",
    "        model.train()\n",
    "        train_running_loss = 0.0\n",
    "        train_running_correct = 0\n",
    "        counter = 0\n",
    "        num_images = 0.0 # used to accumulate number of images\n",
    "        for i, data in enumerate(trainLoader,0):\n",
    "            counter += 1\n",
    "            image, labels = data\n",
    "            image = image.to(device)\n",
    "            labels = labels.to(device)\n",
    "            optimizer.zero_grad()\n",
    "            # Forward pass.\n",
    "            outputs = model(image)\n",
    "            # Calculate the loss.\n",
    "            loss = criterion(outputs, labels)\n",
    "            train_running_loss += loss.item()\n",
    "            # Calculate the accuracy.\n",
    "            _, preds = torch.max(outputs.data, 1)\n",
    "            train_running_correct += torch.sum(preds == labels.data)\n",
    "            # Backpropagation\n",
    "            loss.backward()\n",
    "            # Update the weights.\n",
    "            optimizer.step()    # Output training \n",
    "            num_images += len(image)\n",
    "            if counter % 100 == 0:\n",
    "                print(f'Epoch: {epoch+1}/{num_epochs}, Step: {counter}/{len(trainLoader)}, Loss: {loss.item():.4f}')\n",
    "\n",
    "\n",
    "        # Validation\n",
    "        valid_epoch_acc = evaluate(model, valLoader, device, criterion)\n",
    "        lg.debug(f\"TRAIN: loss.item(): {loss.item()}, train_running_correct: {train_running_correct}\")\n",
    "        \n",
    "        # train_epoch_loss = train_running_loss / counter\n",
    "        # train_loss.append(train_epoch_loss)\n",
    "        # valid_loss.append(valid_epoch_loss)\n",
    "        train_epoch_acc = train_running_correct  / num_images\n",
    "        # train_acc.append(train_epoch_acc )\n",
    "\n",
    "        print('Epoch: %d/%d, Training accuracy: %f, Loss: %f, Validation accuracy: %f' % (epoch+1, num_epochs, train_epoch_acc, loss.item(), valid_epoch_acc))\n",
    "\n",
    "        # valid_acc.append(valid_epoch_acc)\n",
    "        # lg.debug(f\"Training loss mean: {train_epoch_loss :.3f}\")\n",
    "        # print(f\"Validation acc: {valid_epoch_acc:.3f}\")\n",
    "        print('-'*50)\n",
    "\n",
    "\n",
    "    return model"
   ]
  },
  {
   "cell_type": "code",
   "execution_count": null,
   "metadata": {},
   "outputs": [],
   "source": [
    "# pretrained_model = train(model, dataloader_train, dataloader_validation, criterion, optimizer, num_epochs, device)"
   ]
  },
  {
   "cell_type": "code",
   "execution_count": 32,
   "metadata": {},
   "outputs": [
    {
     "name": "stderr",
     "output_type": "stream",
     "text": [
      "DEBUG:root: len(trainLoader.dataset): 26880\n",
      "DEBUG:root: len(valLoader.dataset): 5760\n"
     ]
    },
    {
     "name": "stdout",
     "output_type": "stream",
     "text": [
      "Using CUDA\n",
      "Training\n",
      "Epoch: 1/10, Step: 100/210, Loss: 2.8310\n",
      "Epoch: 1/10, Step: 200/210, Loss: 1.7128\n"
     ]
    },
    {
     "name": "stderr",
     "output_type": "stream",
     "text": [
      "DEBUG:root:EVAL:   loss.item(): 2.3583860397338867 valid_running_correct: 4034\n",
      "DEBUG:root:TRAIN: loss.item(): 1.6559829711914062, train_running_correct: 11243\n"
     ]
    },
    {
     "name": "stdout",
     "output_type": "stream",
     "text": [
      "Epoch: 1/10, Training accuracy: 0.418266, Loss: 1.655983, Validation accuracy: 0.700347\n",
      "--------------------------------------------------\n",
      "Epoch: 2/10, Step: 100/210, Loss: 1.1455\n",
      "Epoch: 2/10, Step: 200/210, Loss: 0.9268\n"
     ]
    },
    {
     "name": "stderr",
     "output_type": "stream",
     "text": [
      "DEBUG:root:EVAL:   loss.item(): 1.2889606952667236 valid_running_correct: 4510\n",
      "DEBUG:root:TRAIN: loss.item(): 1.123974084854126, train_running_correct: 20419\n"
     ]
    },
    {
     "name": "stdout",
     "output_type": "stream",
     "text": [
      "Epoch: 2/10, Training accuracy: 0.759635, Loss: 1.123974, Validation accuracy: 0.782986\n",
      "--------------------------------------------------\n",
      "Epoch: 3/10, Step: 100/210, Loss: 0.7966\n",
      "Epoch: 3/10, Step: 200/210, Loss: 0.7529\n"
     ]
    },
    {
     "name": "stderr",
     "output_type": "stream",
     "text": [
      "DEBUG:root:EVAL:   loss.item(): 1.0130066871643066 valid_running_correct: 4664\n",
      "DEBUG:root:TRAIN: loss.item(): 0.6720293164253235, train_running_correct: 22036\n"
     ]
    },
    {
     "name": "stdout",
     "output_type": "stream",
     "text": [
      "Epoch: 3/10, Training accuracy: 0.819792, Loss: 0.672029, Validation accuracy: 0.809722\n",
      "--------------------------------------------------\n",
      "Epoch: 4/10, Step: 100/210, Loss: 0.5519\n",
      "Epoch: 4/10, Step: 200/210, Loss: 0.6234\n"
     ]
    },
    {
     "name": "stderr",
     "output_type": "stream",
     "text": [
      "DEBUG:root:EVAL:   loss.item(): 0.9021157026290894 valid_running_correct: 4742\n",
      "DEBUG:root:TRAIN: loss.item(): 0.5895287990570068, train_running_correct: 22950\n"
     ]
    },
    {
     "name": "stdout",
     "output_type": "stream",
     "text": [
      "Epoch: 4/10, Training accuracy: 0.853795, Loss: 0.589529, Validation accuracy: 0.823264\n",
      "--------------------------------------------------\n",
      "Epoch: 5/10, Step: 100/210, Loss: 0.5154\n",
      "Epoch: 5/10, Step: 200/210, Loss: 0.5028\n"
     ]
    },
    {
     "name": "stderr",
     "output_type": "stream",
     "text": [
      "DEBUG:root:EVAL:   loss.item(): 0.8686224222183228 valid_running_correct: 4800\n",
      "DEBUG:root:TRAIN: loss.item(): 0.5199425220489502, train_running_correct: 23616\n"
     ]
    },
    {
     "name": "stdout",
     "output_type": "stream",
     "text": [
      "Epoch: 5/10, Training accuracy: 0.878571, Loss: 0.519943, Validation accuracy: 0.833333\n",
      "--------------------------------------------------\n",
      "Epoch: 6/10, Step: 100/210, Loss: 0.4681\n",
      "Epoch: 6/10, Step: 200/210, Loss: 0.4194\n"
     ]
    },
    {
     "name": "stderr",
     "output_type": "stream",
     "text": [
      "DEBUG:root:EVAL:   loss.item(): 0.804081380367279 valid_running_correct: 4822\n",
      "DEBUG:root:TRAIN: loss.item(): 0.46084141731262207, train_running_correct: 24227\n"
     ]
    },
    {
     "name": "stdout",
     "output_type": "stream",
     "text": [
      "Epoch: 6/10, Training accuracy: 0.901302, Loss: 0.460841, Validation accuracy: 0.837153\n",
      "--------------------------------------------------\n",
      "Epoch: 7/10, Step: 100/210, Loss: 0.3703\n",
      "Epoch: 7/10, Step: 200/210, Loss: 0.3078\n"
     ]
    },
    {
     "name": "stderr",
     "output_type": "stream",
     "text": [
      "DEBUG:root:EVAL:   loss.item(): 0.7402129173278809 valid_running_correct: 4840\n",
      "DEBUG:root:TRAIN: loss.item(): 0.32397887110710144, train_running_correct: 24670\n"
     ]
    },
    {
     "name": "stdout",
     "output_type": "stream",
     "text": [
      "Epoch: 7/10, Training accuracy: 0.917783, Loss: 0.323979, Validation accuracy: 0.840278\n",
      "--------------------------------------------------\n",
      "Epoch: 8/10, Step: 100/210, Loss: 0.2849\n",
      "Epoch: 8/10, Step: 200/210, Loss: 0.2818\n"
     ]
    },
    {
     "name": "stderr",
     "output_type": "stream",
     "text": [
      "DEBUG:root:EVAL:   loss.item(): 0.7276484966278076 valid_running_correct: 4879\n",
      "DEBUG:root:TRAIN: loss.item(): 0.2579147219657898, train_running_correct: 25127\n"
     ]
    },
    {
     "name": "stdout",
     "output_type": "stream",
     "text": [
      "Epoch: 8/10, Training accuracy: 0.934784, Loss: 0.257915, Validation accuracy: 0.847049\n",
      "--------------------------------------------------\n",
      "Epoch: 9/10, Step: 100/210, Loss: 0.2704\n",
      "Epoch: 9/10, Step: 200/210, Loss: 0.3734\n"
     ]
    },
    {
     "name": "stderr",
     "output_type": "stream",
     "text": [
      "DEBUG:root:EVAL:   loss.item(): 0.6640430688858032 valid_running_correct: 4898\n",
      "DEBUG:root:TRAIN: loss.item(): 0.16336844861507416, train_running_correct: 25488\n"
     ]
    },
    {
     "name": "stdout",
     "output_type": "stream",
     "text": [
      "Epoch: 9/10, Training accuracy: 0.948214, Loss: 0.163368, Validation accuracy: 0.850347\n",
      "--------------------------------------------------\n",
      "Epoch: 10/10, Step: 100/210, Loss: 0.1529\n",
      "Epoch: 10/10, Step: 200/210, Loss: 0.2073\n"
     ]
    },
    {
     "name": "stderr",
     "output_type": "stream",
     "text": [
      "DEBUG:root:EVAL:   loss.item(): 0.6935462951660156 valid_running_correct: 4902\n",
      "DEBUG:root:TRAIN: loss.item(): 0.19226767122745514, train_running_correct: 25786\n"
     ]
    },
    {
     "name": "stdout",
     "output_type": "stream",
     "text": [
      "Epoch: 10/10, Training accuracy: 0.959301, Loss: 0.192268, Validation accuracy: 0.851042\n",
      "--------------------------------------------------\n"
     ]
    }
   ],
   "source": [
    "pretrained_model = train(model, train_loader, val_loader, criterion, optimizer, num_epochs, device)"
   ]
  },
  {
   "cell_type": "code",
   "execution_count": 33,
   "metadata": {},
   "outputs": [],
   "source": [
    "def save_model(trained_model):\n",
    "    # Create Models Folder\n",
    "    if not os.path.exists('./models'):\n",
    "        print('Creating models directory')\n",
    "        os.mkdir('./models')\n",
    "\n",
    "    # Save the model\n",
    "    if not os.path.exists(f'./models/{trained_model.name}.pth'):\n",
    "        print(f'Saving Model {trained_model.name}')\n",
    "        torch.save(trained_model, f'./models/{trained_model.name}.pth')\n",
    "\n",
    "def load_model(model_name):\n",
    "    if not os.path.exists(f'./models/{model_name}.pth'):\n",
    "        print(f'Cannot Load {model_name}')\n",
    "        return None\n",
    "    print(f'Loading Model {model_name}')\n",
    "    model = torch.load(f'./models/{model_name}.pth')\n",
    "    model.eval()\n",
    "    return model"
   ]
  },
  {
   "cell_type": "code",
   "execution_count": 34,
   "metadata": {},
   "outputs": [],
   "source": [
    "save_model(pretrained_model)"
   ]
  },
  {
   "cell_type": "code",
   "execution_count": 35,
   "metadata": {},
   "outputs": [
    {
     "name": "stderr",
     "output_type": "stream",
     "text": [
      "DEBUG:root:EVAL:   loss.item(): 0.8225520849227905 valid_running_correct: 4919\n"
     ]
    },
    {
     "name": "stdout",
     "output_type": "stream",
     "text": [
      "test acc: 0.854\n"
     ]
    }
   ],
   "source": [
    "# validate_loss, validate_acc = evaluate(trained_model, dataloader_validation, criterion, device)\n",
    "# print(f\"Validation loss: {validate_loss:.3f}, validation acc: {validate_acc:.3f}\")\n",
    "test_acc = evaluate(pretrained_model, test_loader, device, criterion)\n",
    "print(f\"test acc: {test_acc:.3f}\")"
   ]
  },
  {
   "cell_type": "code",
   "execution_count": 37,
   "metadata": {},
   "outputs": [],
   "source": [
    "def choose_100_eurosat():\n",
    "    '''\n",
    "    The `choose_100_eurosat()` function selects 100 images from the EuroSAT dataset and copies them to the `data/eurosat_validation` folder. It also creates a `data/eurosat_training` folder if it doesn't already exist.\n",
    "    '''\n",
    "    if not os.path.exists('./data/eurosat_validation'):\n",
    "        print('Creating data directory')\n",
    "        os.mkdir('./data/eurosat_validation')\n",
    "    else:\n",
    "        # Folder full of images -> delete all files in the directory\n",
    "        shutil.rmtree(os.path.join('./data/eurosat_validation'))\n",
    "        os.mkdir('./data/eurosat_validation')\n",
    "\n",
    "    if not os.path.exists('./data/eurosat_training'):\n",
    "        print('Creating training directory')\n",
    "        os.mkdir('./data/eurosat_training')\n",
    "    else:\n",
    "        # Folder full of images -> delete all files in the directory\n",
    "        shutil.rmtree(os.path.join('./data/eurosat_training'))\n",
    "        os.mkdir('./data/eurosat_training')\n",
    "\n",
    "    # Load the EuroSAT Categories\n",
    "    eurosat_categories = [name for name in os.listdir('./data/eurosat/EuroSAT_RGB/') if os.path.isdir(os.path.join('./data/eurosat/EuroSAT_RGB/', name))]\n",
    "    # Randomly select 5 categories\n",
    "    lg.debug(f\"Selecting 5 categories from {eurosat_categories} categories\")\n",
    "    selected_categories = np.random.choice(eurosat_categories, 5, replace=False)\n",
    "    lg.debug(f\"Selected categories: {selected_categories}\")\n",
    "\n",
    "    selected_images = []\n",
    "    training_images = []\n",
    "\n",
    "    # From each directory, randomly select 20 images\n",
    "    for category in selected_categories:\n",
    "        images = os.listdir(os.path.join('./data/eurosat/EuroSAT_RGB/', category))\n",
    "        selected = random.sample(images, 20)\n",
    "        selected_images.extend([(category, image) for image in selected])\n",
    "        lg.debug(f\"Selected {selected} from {category}\")\n",
    "        # Copy selected images to the selected directory\n",
    "        for image in selected:\n",
    "            if not os.path.exists(f\"./data/eurosat_validation/{category}\"):\n",
    "                lg.debug(f\"Creating {category} directory\")\n",
    "                os.mkdir(f\"./data/eurosat_validation/{category}\")\n",
    "            shutil.copyfile(os.path.join('./data/eurosat/EuroSAT_RGB', category, image), os.path.join(f\"./data/eurosat_validation/{category}\", image))\n",
    "\n",
    "    # From these 100 images, randomly select 5 images from each category for the training set\n",
    "    for category in selected_categories:\n",
    "        category_images = [image for (cat, image) in selected_images if cat == category]\n",
    "        training = random.sample(category_images, 5)\n",
    "        training_images.extend(training)\n",
    "        lg.debug(f\"Selected {training} for training\")\n",
    "\n",
    "        # Copy training images to the training directory\n",
    "        for image in training:\n",
    "            if not os.path.exists(f\"./data/eurosat_training/{category}\"):\n",
    "                lg.debug(f\"Creating {category} directory\")\n",
    "                os.mkdir(f\"./data/eurosat_training/{category}\")\n",
    "            shutil.move(os.path.join(f\"./data/eurosat_validation/{category}\", image), os.path.join(f\"./data/eurosat_training/{category}\", image))"
   ]
  },
  {
   "cell_type": "code",
   "execution_count": 38,
   "metadata": {},
   "outputs": [],
   "source": [
    "batch_size = 12"
   ]
  },
  {
   "cell_type": "code",
   "execution_count": 39,
   "metadata": {},
   "outputs": [],
   "source": [
    "def load_euro_datasets():\n",
    "\n",
    "    # Choose 100 images from EuroSAT dataset\n",
    "    choose_100_eurosat()\n",
    "\n",
    "    eurosat_train_dataset = torchvision.datasets.ImageFolder(\n",
    "        root='./data/eurosat_training',\n",
    "        transform=transforms.Compose([\n",
    "            transforms.RandomResizedCrop(image_size),\n",
    "            transforms.RandomHorizontalFlip(),\n",
    "            transforms.ToTensor(),\n",
    "            transforms.Normalize([0.485, 0.456, 0.406], [0.229, 0.224, 0.225]), # mean and std for ImageNet dataset\n",
    "        ])\n",
    "    )\n",
    "\n",
    "    eurosat_validation_dataset = torchvision.datasets.ImageFolder(\n",
    "        root='./data/eurosat_validation',\n",
    "        transform=transforms.Compose([\n",
    "            transforms.Resize(256),\n",
    "            transforms.CenterCrop(image_size),\n",
    "            transforms.ToTensor(),\n",
    "            transforms.Normalize([0.485, 0.456, 0.406], [0.229, 0.224, 0.225]),\n",
    "        ])\n",
    "    )\n",
    "\n",
    "    eurosat_dataloader_train = DataLoader(eurosat_train_dataset, batch_size=batch_size, shuffle=True, num_workers=num_workers)\n",
    "    eurosat_dataloader_validation = DataLoader(eurosat_validation_dataset, batch_size=batch_size, shuffle = False, num_workers=num_workers)\n",
    "\n",
    "    return eurosat_dataloader_train, eurosat_dataloader_validation"
   ]
  },
  {
   "cell_type": "code",
   "execution_count": 40,
   "metadata": {},
   "outputs": [
    {
     "name": "stderr",
     "output_type": "stream",
     "text": [
      "DEBUG:root:Selecting 5 categories from ['AnnualCrop', 'Forest', 'HerbaceousVegetation', 'Highway', 'Industrial', 'Pasture', 'PermanentCrop', 'Residential', 'River', 'SeaLake'] categories\n",
      "DEBUG:root:Selected categories: ['Residential' 'PermanentCrop' 'HerbaceousVegetation' 'River' 'SeaLake']\n",
      "DEBUG:root:Selected ['Residential_1541.jpg', 'Residential_40.jpg', 'Residential_158.jpg', 'Residential_1945.jpg', 'Residential_1617.jpg', 'Residential_1105.jpg', 'Residential_66.jpg', 'Residential_193.jpg', 'Residential_424.jpg', 'Residential_1889.jpg', 'Residential_2951.jpg', 'Residential_2.jpg', 'Residential_2690.jpg', 'Residential_423.jpg', 'Residential_1132.jpg', 'Residential_2785.jpg', 'Residential_1381.jpg', 'Residential_1046.jpg', 'Residential_1532.jpg', 'Residential_2700.jpg'] from Residential\n",
      "DEBUG:root:Creating Residential directory\n",
      "DEBUG:root:Selected ['PermanentCrop_287.jpg', 'PermanentCrop_2308.jpg', 'PermanentCrop_715.jpg', 'PermanentCrop_290.jpg', 'PermanentCrop_702.jpg', 'PermanentCrop_60.jpg', 'PermanentCrop_1884.jpg', 'PermanentCrop_1201.jpg', 'PermanentCrop_2029.jpg', 'PermanentCrop_1352.jpg', 'PermanentCrop_2275.jpg', 'PermanentCrop_333.jpg', 'PermanentCrop_98.jpg', 'PermanentCrop_1736.jpg', 'PermanentCrop_2019.jpg', 'PermanentCrop_1831.jpg', 'PermanentCrop_923.jpg', 'PermanentCrop_992.jpg', 'PermanentCrop_2328.jpg', 'PermanentCrop_1452.jpg'] from PermanentCrop\n",
      "DEBUG:root:Creating PermanentCrop directory\n",
      "DEBUG:root:Selected ['HerbaceousVegetation_632.jpg', 'HerbaceousVegetation_1497.jpg', 'HerbaceousVegetation_974.jpg', 'HerbaceousVegetation_639.jpg', 'HerbaceousVegetation_2129.jpg', 'HerbaceousVegetation_2075.jpg', 'HerbaceousVegetation_2998.jpg', 'HerbaceousVegetation_2419.jpg', 'HerbaceousVegetation_1463.jpg', 'HerbaceousVegetation_2625.jpg', 'HerbaceousVegetation_2536.jpg', 'HerbaceousVegetation_2418.jpg', 'HerbaceousVegetation_2253.jpg', 'HerbaceousVegetation_22.jpg', 'HerbaceousVegetation_904.jpg', 'HerbaceousVegetation_1682.jpg', 'HerbaceousVegetation_2939.jpg', 'HerbaceousVegetation_2738.jpg', 'HerbaceousVegetation_1787.jpg', 'HerbaceousVegetation_2995.jpg'] from HerbaceousVegetation\n",
      "DEBUG:root:Creating HerbaceousVegetation directory\n",
      "DEBUG:root:Selected ['River_20.jpg', 'River_448.jpg', 'River_109.jpg', 'River_715.jpg', 'River_2202.jpg', 'River_1742.jpg', 'River_1800.jpg', 'River_1988.jpg', 'River_293.jpg', 'River_537.jpg', 'River_2071.jpg', 'River_2243.jpg', 'River_2296.jpg', 'River_940.jpg', 'River_470.jpg', 'River_157.jpg', 'River_472.jpg', 'River_1127.jpg', 'River_356.jpg', 'River_1864.jpg'] from River\n",
      "DEBUG:root:Creating River directory\n",
      "DEBUG:root:Selected ['SeaLake_458.jpg', 'SeaLake_2764.jpg', 'SeaLake_1031.jpg', 'SeaLake_2735.jpg', 'SeaLake_2392.jpg', 'SeaLake_785.jpg', 'SeaLake_613.jpg', 'SeaLake_590.jpg', 'SeaLake_1407.jpg', 'SeaLake_2600.jpg', 'SeaLake_1007.jpg', 'SeaLake_80.jpg', 'SeaLake_1387.jpg', 'SeaLake_827.jpg', 'SeaLake_998.jpg', 'SeaLake_362.jpg', 'SeaLake_977.jpg', 'SeaLake_378.jpg', 'SeaLake_1570.jpg', 'SeaLake_104.jpg'] from SeaLake\n",
      "DEBUG:root:Creating SeaLake directory\n",
      "DEBUG:root:Selected ['Residential_2690.jpg', 'Residential_1945.jpg', 'Residential_1532.jpg', 'Residential_1889.jpg', 'Residential_423.jpg'] for training\n",
      "DEBUG:root:Creating Residential directory\n",
      "DEBUG:root:Selected ['PermanentCrop_333.jpg', 'PermanentCrop_2308.jpg', 'PermanentCrop_2029.jpg', 'PermanentCrop_992.jpg', 'PermanentCrop_1452.jpg'] for training\n",
      "DEBUG:root:Creating PermanentCrop directory\n",
      "DEBUG:root:Selected ['HerbaceousVegetation_1497.jpg', 'HerbaceousVegetation_2419.jpg', 'HerbaceousVegetation_2075.jpg', 'HerbaceousVegetation_2129.jpg', 'HerbaceousVegetation_904.jpg'] for training\n",
      "DEBUG:root:Creating HerbaceousVegetation directory\n",
      "DEBUG:root:Selected ['River_2243.jpg', 'River_940.jpg', 'River_293.jpg', 'River_715.jpg', 'River_448.jpg'] for training\n",
      "DEBUG:root:Creating River directory\n",
      "DEBUG:root:Selected ['SeaLake_785.jpg', 'SeaLake_1407.jpg', 'SeaLake_1031.jpg', 'SeaLake_1387.jpg', 'SeaLake_80.jpg'] for training\n",
      "DEBUG:root:Creating SeaLake directory\n",
      "DEBUG:root: len(trainLoader.dataset): 25\n",
      "DEBUG:root: len(valLoader.dataset): 75\n"
     ]
    },
    {
     "name": "stdout",
     "output_type": "stream",
     "text": [
      "Loading Model resnet18\n",
      "Using CUDA\n",
      "Training\n"
     ]
    },
    {
     "name": "stderr",
     "output_type": "stream",
     "text": [
      "DEBUG:root:EVAL:   loss.item(): 1.6423953771591187 valid_running_correct: 14\n",
      "DEBUG:root:TRAIN: loss.item(): 2.4552183151245117, train_running_correct: 5\n"
     ]
    },
    {
     "name": "stdout",
     "output_type": "stream",
     "text": [
      "Epoch: 1/30, Training accuracy: 0.200000, Loss: 2.455218, Validation accuracy: 0.186667\n",
      "--------------------------------------------------\n"
     ]
    },
    {
     "name": "stderr",
     "output_type": "stream",
     "text": [
      "DEBUG:root:EVAL:   loss.item(): 1.841840386390686 valid_running_correct: 15\n",
      "DEBUG:root:TRAIN: loss.item(): 1.1028521060943604, train_running_correct: 6\n"
     ]
    },
    {
     "name": "stdout",
     "output_type": "stream",
     "text": [
      "Epoch: 2/30, Training accuracy: 0.240000, Loss: 1.102852, Validation accuracy: 0.200000\n",
      "--------------------------------------------------\n"
     ]
    },
    {
     "name": "stderr",
     "output_type": "stream",
     "text": [
      "DEBUG:root:EVAL:   loss.item(): 1.8407410383224487 valid_running_correct: 15\n",
      "DEBUG:root:TRAIN: loss.item(): 2.312901258468628, train_running_correct: 5\n"
     ]
    },
    {
     "name": "stdout",
     "output_type": "stream",
     "text": [
      "Epoch: 3/30, Training accuracy: 0.200000, Loss: 2.312901, Validation accuracy: 0.200000\n",
      "--------------------------------------------------\n"
     ]
    },
    {
     "name": "stderr",
     "output_type": "stream",
     "text": [
      "DEBUG:root:EVAL:   loss.item(): 1.591775894165039 valid_running_correct: 22\n",
      "DEBUG:root:TRAIN: loss.item(): 0.9199113845825195, train_running_correct: 5\n"
     ]
    },
    {
     "name": "stdout",
     "output_type": "stream",
     "text": [
      "Epoch: 4/30, Training accuracy: 0.200000, Loss: 0.919911, Validation accuracy: 0.293333\n",
      "--------------------------------------------------\n"
     ]
    },
    {
     "name": "stderr",
     "output_type": "stream",
     "text": [
      "DEBUG:root:EVAL:   loss.item(): 1.3473542928695679 valid_running_correct: 35\n",
      "DEBUG:root:TRAIN: loss.item(): 1.3981192111968994, train_running_correct: 8\n"
     ]
    },
    {
     "name": "stdout",
     "output_type": "stream",
     "text": [
      "Epoch: 5/30, Training accuracy: 0.320000, Loss: 1.398119, Validation accuracy: 0.466667\n",
      "--------------------------------------------------\n"
     ]
    },
    {
     "name": "stderr",
     "output_type": "stream",
     "text": [
      "DEBUG:root:EVAL:   loss.item(): 1.1076643466949463 valid_running_correct: 40\n",
      "DEBUG:root:TRAIN: loss.item(): 1.445085048675537, train_running_correct: 8\n"
     ]
    },
    {
     "name": "stdout",
     "output_type": "stream",
     "text": [
      "Epoch: 6/30, Training accuracy: 0.320000, Loss: 1.445085, Validation accuracy: 0.533333\n",
      "--------------------------------------------------\n"
     ]
    },
    {
     "name": "stderr",
     "output_type": "stream",
     "text": [
      "DEBUG:root:EVAL:   loss.item(): 0.8751246333122253 valid_running_correct: 42\n",
      "DEBUG:root:TRAIN: loss.item(): 1.721306324005127, train_running_correct: 16\n"
     ]
    },
    {
     "name": "stdout",
     "output_type": "stream",
     "text": [
      "Epoch: 7/30, Training accuracy: 0.640000, Loss: 1.721306, Validation accuracy: 0.560000\n",
      "--------------------------------------------------\n"
     ]
    },
    {
     "name": "stderr",
     "output_type": "stream",
     "text": [
      "DEBUG:root:EVAL:   loss.item(): 0.7203018665313721 valid_running_correct: 31\n",
      "DEBUG:root:TRAIN: loss.item(): 2.505167245864868, train_running_correct: 19\n"
     ]
    },
    {
     "name": "stdout",
     "output_type": "stream",
     "text": [
      "Epoch: 8/30, Training accuracy: 0.760000, Loss: 2.505167, Validation accuracy: 0.413333\n",
      "--------------------------------------------------\n"
     ]
    },
    {
     "name": "stderr",
     "output_type": "stream",
     "text": [
      "DEBUG:root:EVAL:   loss.item(): 0.3292461931705475 valid_running_correct: 33\n",
      "DEBUG:root:TRAIN: loss.item(): 0.7796617150306702, train_running_correct: 13\n"
     ]
    },
    {
     "name": "stdout",
     "output_type": "stream",
     "text": [
      "Epoch: 9/30, Training accuracy: 0.520000, Loss: 0.779662, Validation accuracy: 0.440000\n",
      "--------------------------------------------------\n"
     ]
    },
    {
     "name": "stderr",
     "output_type": "stream",
     "text": [
      "DEBUG:root:EVAL:   loss.item(): 0.2577981650829315 valid_running_correct: 30\n",
      "DEBUG:root:TRAIN: loss.item(): 2.8000028133392334, train_running_correct: 15\n"
     ]
    },
    {
     "name": "stdout",
     "output_type": "stream",
     "text": [
      "Epoch: 10/30, Training accuracy: 0.600000, Loss: 2.800003, Validation accuracy: 0.400000\n",
      "--------------------------------------------------\n"
     ]
    },
    {
     "name": "stderr",
     "output_type": "stream",
     "text": [
      "DEBUG:root:EVAL:   loss.item(): 0.3416111469268799 valid_running_correct: 50\n",
      "DEBUG:root:TRAIN: loss.item(): 2.288508415222168, train_running_correct: 19\n"
     ]
    },
    {
     "name": "stdout",
     "output_type": "stream",
     "text": [
      "Epoch: 11/30, Training accuracy: 0.760000, Loss: 2.288508, Validation accuracy: 0.666667\n",
      "--------------------------------------------------\n"
     ]
    },
    {
     "name": "stderr",
     "output_type": "stream",
     "text": [
      "DEBUG:root:EVAL:   loss.item(): 0.4253270626068115 valid_running_correct: 54\n",
      "DEBUG:root:TRAIN: loss.item(): 1.2741020917892456, train_running_correct: 16\n"
     ]
    },
    {
     "name": "stdout",
     "output_type": "stream",
     "text": [
      "Epoch: 12/30, Training accuracy: 0.640000, Loss: 1.274102, Validation accuracy: 0.720000\n",
      "--------------------------------------------------\n"
     ]
    },
    {
     "name": "stderr",
     "output_type": "stream",
     "text": [
      "DEBUG:root:EVAL:   loss.item(): 0.6885266900062561 valid_running_correct: 44\n",
      "DEBUG:root:TRAIN: loss.item(): 2.700993061065674, train_running_correct: 16\n"
     ]
    },
    {
     "name": "stdout",
     "output_type": "stream",
     "text": [
      "Epoch: 13/30, Training accuracy: 0.640000, Loss: 2.700993, Validation accuracy: 0.586667\n",
      "--------------------------------------------------\n"
     ]
    },
    {
     "name": "stderr",
     "output_type": "stream",
     "text": [
      "DEBUG:root:EVAL:   loss.item(): 0.7035146355628967 valid_running_correct: 44\n",
      "DEBUG:root:TRAIN: loss.item(): 0.6270663738250732, train_running_correct: 18\n"
     ]
    },
    {
     "name": "stdout",
     "output_type": "stream",
     "text": [
      "Epoch: 14/30, Training accuracy: 0.720000, Loss: 0.627066, Validation accuracy: 0.586667\n",
      "--------------------------------------------------\n"
     ]
    },
    {
     "name": "stderr",
     "output_type": "stream",
     "text": [
      "DEBUG:root:EVAL:   loss.item(): 0.6168118119239807 valid_running_correct: 42\n",
      "DEBUG:root:TRAIN: loss.item(): 3.08608078956604, train_running_correct: 17\n"
     ]
    },
    {
     "name": "stdout",
     "output_type": "stream",
     "text": [
      "Epoch: 15/30, Training accuracy: 0.680000, Loss: 3.086081, Validation accuracy: 0.560000\n",
      "--------------------------------------------------\n"
     ]
    },
    {
     "name": "stderr",
     "output_type": "stream",
     "text": [
      "DEBUG:root:EVAL:   loss.item(): 0.5353259444236755 valid_running_correct: 45\n",
      "DEBUG:root:TRAIN: loss.item(): 1.5930731296539307, train_running_correct: 18\n"
     ]
    },
    {
     "name": "stdout",
     "output_type": "stream",
     "text": [
      "Epoch: 16/30, Training accuracy: 0.720000, Loss: 1.593073, Validation accuracy: 0.600000\n",
      "--------------------------------------------------\n"
     ]
    },
    {
     "name": "stderr",
     "output_type": "stream",
     "text": [
      "DEBUG:root:EVAL:   loss.item(): 0.4178647994995117 valid_running_correct: 41\n",
      "DEBUG:root:TRAIN: loss.item(): 1.4918522834777832, train_running_correct: 19\n"
     ]
    },
    {
     "name": "stdout",
     "output_type": "stream",
     "text": [
      "Epoch: 17/30, Training accuracy: 0.760000, Loss: 1.491852, Validation accuracy: 0.546667\n",
      "--------------------------------------------------\n"
     ]
    },
    {
     "name": "stderr",
     "output_type": "stream",
     "text": [
      "DEBUG:root:EVAL:   loss.item(): 0.30357229709625244 valid_running_correct: 50\n",
      "DEBUG:root:TRAIN: loss.item(): 3.5779361724853516, train_running_correct: 21\n"
     ]
    },
    {
     "name": "stdout",
     "output_type": "stream",
     "text": [
      "Epoch: 18/30, Training accuracy: 0.840000, Loss: 3.577936, Validation accuracy: 0.666667\n",
      "--------------------------------------------------\n"
     ]
    },
    {
     "name": "stderr",
     "output_type": "stream",
     "text": [
      "DEBUG:root:EVAL:   loss.item(): 0.095213882625103 valid_running_correct: 47\n",
      "DEBUG:root:TRAIN: loss.item(): 0.7022126317024231, train_running_correct: 17\n"
     ]
    },
    {
     "name": "stdout",
     "output_type": "stream",
     "text": [
      "Epoch: 19/30, Training accuracy: 0.680000, Loss: 0.702213, Validation accuracy: 0.626667\n",
      "--------------------------------------------------\n"
     ]
    },
    {
     "name": "stderr",
     "output_type": "stream",
     "text": [
      "DEBUG:root:EVAL:   loss.item(): 0.05948719382286072 valid_running_correct: 44\n",
      "DEBUG:root:TRAIN: loss.item(): 0.7382724285125732, train_running_correct: 18\n"
     ]
    },
    {
     "name": "stdout",
     "output_type": "stream",
     "text": [
      "Epoch: 20/30, Training accuracy: 0.720000, Loss: 0.738272, Validation accuracy: 0.586667\n",
      "--------------------------------------------------\n"
     ]
    },
    {
     "name": "stderr",
     "output_type": "stream",
     "text": [
      "DEBUG:root:EVAL:   loss.item(): 0.07121492177248001 valid_running_correct: 39\n",
      "DEBUG:root:TRAIN: loss.item(): 1.4224555492401123, train_running_correct: 14\n"
     ]
    },
    {
     "name": "stdout",
     "output_type": "stream",
     "text": [
      "Epoch: 21/30, Training accuracy: 0.560000, Loss: 1.422456, Validation accuracy: 0.520000\n",
      "--------------------------------------------------\n"
     ]
    },
    {
     "name": "stderr",
     "output_type": "stream",
     "text": [
      "DEBUG:root:EVAL:   loss.item(): 0.05676199495792389 valid_running_correct: 43\n",
      "DEBUG:root:TRAIN: loss.item(): 2.899841070175171, train_running_correct: 21\n"
     ]
    },
    {
     "name": "stdout",
     "output_type": "stream",
     "text": [
      "Epoch: 22/30, Training accuracy: 0.840000, Loss: 2.899841, Validation accuracy: 0.573333\n",
      "--------------------------------------------------\n"
     ]
    },
    {
     "name": "stderr",
     "output_type": "stream",
     "text": [
      "DEBUG:root:EVAL:   loss.item(): 0.11926469206809998 valid_running_correct: 49\n",
      "DEBUG:root:TRAIN: loss.item(): 1.0115563869476318, train_running_correct: 24\n"
     ]
    },
    {
     "name": "stdout",
     "output_type": "stream",
     "text": [
      "Epoch: 23/30, Training accuracy: 0.960000, Loss: 1.011556, Validation accuracy: 0.653333\n",
      "--------------------------------------------------\n"
     ]
    },
    {
     "name": "stderr",
     "output_type": "stream",
     "text": [
      "DEBUG:root:EVAL:   loss.item(): 0.1395360231399536 valid_running_correct: 43\n",
      "DEBUG:root:TRAIN: loss.item(): 2.3395068645477295, train_running_correct: 20\n"
     ]
    },
    {
     "name": "stdout",
     "output_type": "stream",
     "text": [
      "Epoch: 24/30, Training accuracy: 0.800000, Loss: 2.339507, Validation accuracy: 0.573333\n",
      "--------------------------------------------------\n"
     ]
    },
    {
     "name": "stderr",
     "output_type": "stream",
     "text": [
      "DEBUG:root:EVAL:   loss.item(): 0.19262272119522095 valid_running_correct: 43\n",
      "DEBUG:root:TRAIN: loss.item(): 1.0440404415130615, train_running_correct: 22\n"
     ]
    },
    {
     "name": "stdout",
     "output_type": "stream",
     "text": [
      "Epoch: 25/30, Training accuracy: 0.880000, Loss: 1.044040, Validation accuracy: 0.573333\n",
      "--------------------------------------------------\n"
     ]
    },
    {
     "name": "stderr",
     "output_type": "stream",
     "text": [
      "DEBUG:root:EVAL:   loss.item(): 0.3005083501338959 valid_running_correct: 44\n",
      "DEBUG:root:TRAIN: loss.item(): 3.4589810371398926, train_running_correct: 22\n"
     ]
    },
    {
     "name": "stdout",
     "output_type": "stream",
     "text": [
      "Epoch: 26/30, Training accuracy: 0.880000, Loss: 3.458981, Validation accuracy: 0.586667\n",
      "--------------------------------------------------\n"
     ]
    },
    {
     "name": "stderr",
     "output_type": "stream",
     "text": [
      "DEBUG:root:EVAL:   loss.item(): 0.39830002188682556 valid_running_correct: 57\n",
      "DEBUG:root:TRAIN: loss.item(): 2.0505309104919434, train_running_correct: 23\n"
     ]
    },
    {
     "name": "stdout",
     "output_type": "stream",
     "text": [
      "Epoch: 27/30, Training accuracy: 0.920000, Loss: 2.050531, Validation accuracy: 0.760000\n",
      "--------------------------------------------------\n"
     ]
    },
    {
     "name": "stderr",
     "output_type": "stream",
     "text": [
      "DEBUG:root:EVAL:   loss.item(): 0.3025105893611908 valid_running_correct: 57\n",
      "DEBUG:root:TRAIN: loss.item(): 3.524022102355957, train_running_correct: 23\n"
     ]
    },
    {
     "name": "stdout",
     "output_type": "stream",
     "text": [
      "Epoch: 28/30, Training accuracy: 0.920000, Loss: 3.524022, Validation accuracy: 0.760000\n",
      "--------------------------------------------------\n"
     ]
    },
    {
     "name": "stderr",
     "output_type": "stream",
     "text": [
      "DEBUG:root:EVAL:   loss.item(): 0.1097554937005043 valid_running_correct: 52\n",
      "DEBUG:root:TRAIN: loss.item(): 2.8431854248046875, train_running_correct: 22\n"
     ]
    },
    {
     "name": "stdout",
     "output_type": "stream",
     "text": [
      "Epoch: 29/30, Training accuracy: 0.880000, Loss: 2.843185, Validation accuracy: 0.693333\n",
      "--------------------------------------------------\n"
     ]
    },
    {
     "name": "stderr",
     "output_type": "stream",
     "text": [
      "DEBUG:root:EVAL:   loss.item(): 0.041999027132987976 valid_running_correct: 43\n",
      "DEBUG:root:TRAIN: loss.item(): 3.1651673316955566, train_running_correct: 19\n"
     ]
    },
    {
     "name": "stdout",
     "output_type": "stream",
     "text": [
      "Epoch: 30/30, Training accuracy: 0.760000, Loss: 3.165167, Validation accuracy: 0.573333\n",
      "--------------------------------------------------\n"
     ]
    }
   ],
   "source": [
    "# Load the pretrained model\n",
    "model_resnet18_fine = load_model(\"resnet18\")\n",
    "\n",
    "for param in model_resnet18_fine.parameters():\n",
    "    param.requires_grad = False\n",
    "\n",
    "model_resnet18_fine.fc = nn.Linear(model_resnet18_fine.fc.in_features, 5)\n",
    "\n",
    "# Define loss function and optimizer for fine-tuning\n",
    "criterion = nn.CrossEntropyLoss()\n",
    "optimizer = optim.SGD(model_resnet18_fine.parameters(), lr=0.001, momentum=0.9)\n",
    "\n",
    "num_epochs = 30\n",
    "\n",
    "# Load the EuroSAT dataset\n",
    "eurosat_dataloader_train, eurosat_dataloader_validation = load_euro_datasets()\n",
    "\n",
    "eurosat_trained_model = train(model_resnet18_fine, eurosat_dataloader_train, eurosat_dataloader_validation, criterion, optimizer, num_epochs, device)\n"
   ]
  },
  {
   "cell_type": "code",
   "execution_count": 41,
   "metadata": {},
   "outputs": [
    {
     "name": "stderr",
     "output_type": "stream",
     "text": [
      "DEBUG:root:Selecting 5 categories from ['AnnualCrop', 'Forest', 'HerbaceousVegetation', 'Highway', 'Industrial', 'Pasture', 'PermanentCrop', 'Residential', 'River', 'SeaLake'] categories\n",
      "DEBUG:root:Selected categories: ['AnnualCrop' 'Forest' 'Pasture' 'Industrial' 'SeaLake']\n",
      "DEBUG:root:Selected ['AnnualCrop_826.jpg', 'AnnualCrop_1762.jpg', 'AnnualCrop_126.jpg', 'AnnualCrop_548.jpg', 'AnnualCrop_1278.jpg', 'AnnualCrop_2534.jpg', 'AnnualCrop_1415.jpg', 'AnnualCrop_1435.jpg', 'AnnualCrop_2991.jpg', 'AnnualCrop_1267.jpg', 'AnnualCrop_1592.jpg', 'AnnualCrop_2571.jpg', 'AnnualCrop_1663.jpg', 'AnnualCrop_1441.jpg', 'AnnualCrop_2180.jpg', 'AnnualCrop_2354.jpg', 'AnnualCrop_1950.jpg', 'AnnualCrop_2909.jpg', 'AnnualCrop_2291.jpg', 'AnnualCrop_2962.jpg'] from AnnualCrop\n",
      "DEBUG:root:Creating AnnualCrop directory\n",
      "DEBUG:root:Selected ['Forest_2328.jpg', 'Forest_444.jpg', 'Forest_2988.jpg', 'Forest_1704.jpg', 'Forest_1508.jpg', 'Forest_2755.jpg', 'Forest_461.jpg', 'Forest_1987.jpg', 'Forest_364.jpg', 'Forest_2631.jpg', 'Forest_1171.jpg', 'Forest_1793.jpg', 'Forest_43.jpg', 'Forest_2855.jpg', 'Forest_9.jpg', 'Forest_2343.jpg', 'Forest_1548.jpg', 'Forest_2662.jpg', 'Forest_1952.jpg', 'Forest_2799.jpg'] from Forest\n",
      "DEBUG:root:Creating Forest directory\n",
      "DEBUG:root:Selected ['Pasture_1984.jpg', 'Pasture_279.jpg', 'Pasture_1667.jpg', 'Pasture_812.jpg', 'Pasture_1310.jpg', 'Pasture_1322.jpg', 'Pasture_1854.jpg', 'Pasture_506.jpg', 'Pasture_1491.jpg', 'Pasture_1039.jpg', 'Pasture_307.jpg', 'Pasture_1222.jpg', 'Pasture_1964.jpg', 'Pasture_1450.jpg', 'Pasture_37.jpg', 'Pasture_1403.jpg', 'Pasture_1246.jpg', 'Pasture_1413.jpg', 'Pasture_1053.jpg', 'Pasture_258.jpg'] from Pasture\n",
      "DEBUG:root:Creating Pasture directory\n",
      "DEBUG:root:Selected ['Industrial_300.jpg', 'Industrial_716.jpg', 'Industrial_2005.jpg', 'Industrial_2308.jpg', 'Industrial_2107.jpg', 'Industrial_1971.jpg', 'Industrial_2250.jpg', 'Industrial_258.jpg', 'Industrial_2085.jpg', 'Industrial_967.jpg', 'Industrial_44.jpg', 'Industrial_2173.jpg', 'Industrial_1696.jpg', 'Industrial_2080.jpg', 'Industrial_2271.jpg', 'Industrial_612.jpg', 'Industrial_1004.jpg', 'Industrial_1280.jpg', 'Industrial_907.jpg', 'Industrial_506.jpg'] from Industrial\n",
      "DEBUG:root:Creating Industrial directory\n",
      "DEBUG:root:Selected ['SeaLake_2964.jpg', 'SeaLake_1957.jpg', 'SeaLake_2455.jpg', 'SeaLake_1622.jpg', 'SeaLake_1679.jpg', 'SeaLake_864.jpg', 'SeaLake_2744.jpg', 'SeaLake_1268.jpg', 'SeaLake_1538.jpg', 'SeaLake_456.jpg', 'SeaLake_1230.jpg', 'SeaLake_67.jpg', 'SeaLake_1365.jpg', 'SeaLake_266.jpg', 'SeaLake_2448.jpg', 'SeaLake_2129.jpg', 'SeaLake_393.jpg', 'SeaLake_1867.jpg', 'SeaLake_1693.jpg', 'SeaLake_2359.jpg'] from SeaLake\n",
      "DEBUG:root:Creating SeaLake directory\n",
      "DEBUG:root:Selected ['AnnualCrop_2354.jpg', 'AnnualCrop_1762.jpg', 'AnnualCrop_548.jpg', 'AnnualCrop_1415.jpg', 'AnnualCrop_826.jpg'] for training\n",
      "DEBUG:root:Creating AnnualCrop directory\n",
      "DEBUG:root:Selected ['Forest_1793.jpg', 'Forest_2328.jpg', 'Forest_444.jpg', 'Forest_2662.jpg', 'Forest_461.jpg'] for training\n",
      "DEBUG:root:Creating Forest directory\n",
      "DEBUG:root:Selected ['Pasture_1667.jpg', 'Pasture_1491.jpg', 'Pasture_1246.jpg', 'Pasture_1403.jpg', 'Pasture_1450.jpg'] for training\n",
      "DEBUG:root:Creating Pasture directory\n",
      "DEBUG:root:Selected ['Industrial_1004.jpg', 'Industrial_612.jpg', 'Industrial_2005.jpg', 'Industrial_1971.jpg', 'Industrial_300.jpg'] for training\n",
      "DEBUG:root:Creating Industrial directory\n",
      "DEBUG:root:Selected ['SeaLake_864.jpg', 'SeaLake_2455.jpg', 'SeaLake_2359.jpg', 'SeaLake_67.jpg', 'SeaLake_393.jpg'] for training\n",
      "DEBUG:root:Creating SeaLake directory\n",
      "DEBUG:root: len(trainLoader.dataset): 25\n",
      "DEBUG:root: len(valLoader.dataset): 75\n"
     ]
    },
    {
     "name": "stdout",
     "output_type": "stream",
     "text": [
      "Training EuroSAT model 1/11\n",
      "Using CUDA\n",
      "Training\n"
     ]
    },
    {
     "name": "stderr",
     "output_type": "stream",
     "text": [
      "DEBUG:root:EVAL:   loss.item(): 0.1003943607211113 valid_running_correct: 26\n",
      "DEBUG:root:TRAIN: loss.item(): 2.009840488433838, train_running_correct: 7\n"
     ]
    },
    {
     "name": "stdout",
     "output_type": "stream",
     "text": [
      "Epoch: 1/30, Training accuracy: 0.280000, Loss: 2.009840, Validation accuracy: 0.346667\n",
      "--------------------------------------------------\n"
     ]
    },
    {
     "name": "stderr",
     "output_type": "stream",
     "text": [
      "DEBUG:root:EVAL:   loss.item(): 0.3048619329929352 valid_running_correct: 29\n",
      "DEBUG:root:TRAIN: loss.item(): 0.3893222212791443, train_running_correct: 11\n"
     ]
    },
    {
     "name": "stdout",
     "output_type": "stream",
     "text": [
      "Epoch: 2/30, Training accuracy: 0.440000, Loss: 0.389322, Validation accuracy: 0.386667\n",
      "--------------------------------------------------\n"
     ]
    },
    {
     "name": "stderr",
     "output_type": "stream",
     "text": [
      "DEBUG:root:EVAL:   loss.item(): 0.44830194115638733 valid_running_correct: 34\n",
      "DEBUG:root:TRAIN: loss.item(): 3.39719557762146, train_running_correct: 12\n"
     ]
    },
    {
     "name": "stdout",
     "output_type": "stream",
     "text": [
      "Epoch: 3/30, Training accuracy: 0.480000, Loss: 3.397196, Validation accuracy: 0.453333\n",
      "--------------------------------------------------\n"
     ]
    },
    {
     "name": "stderr",
     "output_type": "stream",
     "text": [
      "DEBUG:root:EVAL:   loss.item(): 0.41282472014427185 valid_running_correct: 35\n",
      "DEBUG:root:TRAIN: loss.item(): 3.3490467071533203, train_running_correct: 7\n"
     ]
    },
    {
     "name": "stdout",
     "output_type": "stream",
     "text": [
      "Epoch: 4/30, Training accuracy: 0.280000, Loss: 3.349047, Validation accuracy: 0.466667\n",
      "--------------------------------------------------\n"
     ]
    },
    {
     "name": "stderr",
     "output_type": "stream",
     "text": [
      "DEBUG:root:EVAL:   loss.item(): 0.1977727860212326 valid_running_correct: 29\n",
      "DEBUG:root:TRAIN: loss.item(): 2.322681188583374, train_running_correct: 12\n"
     ]
    },
    {
     "name": "stdout",
     "output_type": "stream",
     "text": [
      "Epoch: 5/30, Training accuracy: 0.480000, Loss: 2.322681, Validation accuracy: 0.386667\n",
      "--------------------------------------------------\n"
     ]
    },
    {
     "name": "stderr",
     "output_type": "stream",
     "text": [
      "DEBUG:root:EVAL:   loss.item(): 0.20431303977966309 valid_running_correct: 21\n",
      "DEBUG:root:TRAIN: loss.item(): 0.7399664521217346, train_running_correct: 13\n"
     ]
    },
    {
     "name": "stdout",
     "output_type": "stream",
     "text": [
      "Epoch: 6/30, Training accuracy: 0.520000, Loss: 0.739966, Validation accuracy: 0.280000\n",
      "--------------------------------------------------\n"
     ]
    },
    {
     "name": "stderr",
     "output_type": "stream",
     "text": [
      "DEBUG:root:EVAL:   loss.item(): 0.2028259038925171 valid_running_correct: 16\n",
      "DEBUG:root:TRAIN: loss.item(): 2.919813394546509, train_running_correct: 8\n"
     ]
    },
    {
     "name": "stdout",
     "output_type": "stream",
     "text": [
      "Epoch: 7/30, Training accuracy: 0.320000, Loss: 2.919813, Validation accuracy: 0.213333\n",
      "--------------------------------------------------\n"
     ]
    },
    {
     "name": "stderr",
     "output_type": "stream",
     "text": [
      "DEBUG:root:EVAL:   loss.item(): 0.13480623066425323 valid_running_correct: 23\n",
      "DEBUG:root:TRAIN: loss.item(): 1.6728150844573975, train_running_correct: 9\n"
     ]
    },
    {
     "name": "stdout",
     "output_type": "stream",
     "text": [
      "Epoch: 8/30, Training accuracy: 0.360000, Loss: 1.672815, Validation accuracy: 0.306667\n",
      "--------------------------------------------------\n"
     ]
    },
    {
     "name": "stderr",
     "output_type": "stream",
     "text": [
      "DEBUG:root:EVAL:   loss.item(): 0.14706744253635406 valid_running_correct: 34\n",
      "DEBUG:root:TRAIN: loss.item(): 3.6854894161224365, train_running_correct: 7\n"
     ]
    },
    {
     "name": "stdout",
     "output_type": "stream",
     "text": [
      "Epoch: 9/30, Training accuracy: 0.280000, Loss: 3.685489, Validation accuracy: 0.453333\n",
      "--------------------------------------------------\n"
     ]
    },
    {
     "name": "stderr",
     "output_type": "stream",
     "text": [
      "DEBUG:root:EVAL:   loss.item(): 0.1974080353975296 valid_running_correct: 40\n",
      "DEBUG:root:TRAIN: loss.item(): 2.9241678714752197, train_running_correct: 11\n"
     ]
    },
    {
     "name": "stdout",
     "output_type": "stream",
     "text": [
      "Epoch: 10/30, Training accuracy: 0.440000, Loss: 2.924168, Validation accuracy: 0.533333\n",
      "--------------------------------------------------\n"
     ]
    },
    {
     "name": "stderr",
     "output_type": "stream",
     "text": [
      "DEBUG:root:EVAL:   loss.item(): 0.36599060893058777 valid_running_correct: 44\n",
      "DEBUG:root:TRAIN: loss.item(): 0.9772303700447083, train_running_correct: 14\n"
     ]
    },
    {
     "name": "stdout",
     "output_type": "stream",
     "text": [
      "Epoch: 11/30, Training accuracy: 0.560000, Loss: 0.977230, Validation accuracy: 0.586667\n",
      "--------------------------------------------------\n"
     ]
    },
    {
     "name": "stderr",
     "output_type": "stream",
     "text": [
      "DEBUG:root:EVAL:   loss.item(): 0.6294121146202087 valid_running_correct: 39\n",
      "DEBUG:root:TRAIN: loss.item(): 3.409911632537842, train_running_correct: 15\n"
     ]
    },
    {
     "name": "stdout",
     "output_type": "stream",
     "text": [
      "Epoch: 12/30, Training accuracy: 0.600000, Loss: 3.409912, Validation accuracy: 0.520000\n",
      "--------------------------------------------------\n"
     ]
    },
    {
     "name": "stderr",
     "output_type": "stream",
     "text": [
      "DEBUG:root:EVAL:   loss.item(): 0.31808170676231384 valid_running_correct: 44\n",
      "DEBUG:root:TRAIN: loss.item(): 3.4968631267547607, train_running_correct: 14\n"
     ]
    },
    {
     "name": "stdout",
     "output_type": "stream",
     "text": [
      "Epoch: 13/30, Training accuracy: 0.560000, Loss: 3.496863, Validation accuracy: 0.586667\n",
      "--------------------------------------------------\n"
     ]
    },
    {
     "name": "stderr",
     "output_type": "stream",
     "text": [
      "DEBUG:root:EVAL:   loss.item(): 0.2876558303833008 valid_running_correct: 51\n",
      "DEBUG:root:TRAIN: loss.item(): 1.699530839920044, train_running_correct: 16\n"
     ]
    },
    {
     "name": "stdout",
     "output_type": "stream",
     "text": [
      "Epoch: 14/30, Training accuracy: 0.640000, Loss: 1.699531, Validation accuracy: 0.680000\n",
      "--------------------------------------------------\n"
     ]
    },
    {
     "name": "stderr",
     "output_type": "stream",
     "text": [
      "DEBUG:root:EVAL:   loss.item(): 0.31278195977211 valid_running_correct: 50\n",
      "DEBUG:root:TRAIN: loss.item(): 2.1515486240386963, train_running_correct: 20\n"
     ]
    },
    {
     "name": "stdout",
     "output_type": "stream",
     "text": [
      "Epoch: 15/30, Training accuracy: 0.800000, Loss: 2.151549, Validation accuracy: 0.666667\n",
      "--------------------------------------------------\n"
     ]
    },
    {
     "name": "stderr",
     "output_type": "stream",
     "text": [
      "DEBUG:root:EVAL:   loss.item(): 0.21742059290409088 valid_running_correct: 46\n",
      "DEBUG:root:TRAIN: loss.item(): 1.019567847251892, train_running_correct: 21\n"
     ]
    },
    {
     "name": "stdout",
     "output_type": "stream",
     "text": [
      "Epoch: 16/30, Training accuracy: 0.840000, Loss: 1.019568, Validation accuracy: 0.613333\n",
      "--------------------------------------------------\n"
     ]
    },
    {
     "name": "stderr",
     "output_type": "stream",
     "text": [
      "DEBUG:root:EVAL:   loss.item(): 0.259945273399353 valid_running_correct: 42\n",
      "DEBUG:root:TRAIN: loss.item(): 3.035104751586914, train_running_correct: 18\n"
     ]
    },
    {
     "name": "stdout",
     "output_type": "stream",
     "text": [
      "Epoch: 17/30, Training accuracy: 0.720000, Loss: 3.035105, Validation accuracy: 0.560000\n",
      "--------------------------------------------------\n"
     ]
    },
    {
     "name": "stderr",
     "output_type": "stream",
     "text": [
      "DEBUG:root:EVAL:   loss.item(): 0.22252877056598663 valid_running_correct: 51\n",
      "DEBUG:root:TRAIN: loss.item(): 2.6244094371795654, train_running_correct: 20\n"
     ]
    },
    {
     "name": "stdout",
     "output_type": "stream",
     "text": [
      "Epoch: 18/30, Training accuracy: 0.800000, Loss: 2.624409, Validation accuracy: 0.680000\n",
      "--------------------------------------------------\n"
     ]
    },
    {
     "name": "stderr",
     "output_type": "stream",
     "text": [
      "DEBUG:root:EVAL:   loss.item(): 0.384018212556839 valid_running_correct: 50\n",
      "DEBUG:root:TRAIN: loss.item(): 1.6066995859146118, train_running_correct: 16\n"
     ]
    },
    {
     "name": "stdout",
     "output_type": "stream",
     "text": [
      "Epoch: 19/30, Training accuracy: 0.640000, Loss: 1.606700, Validation accuracy: 0.666667\n",
      "--------------------------------------------------\n"
     ]
    },
    {
     "name": "stderr",
     "output_type": "stream",
     "text": [
      "DEBUG:root:EVAL:   loss.item(): 0.4701951742172241 valid_running_correct: 47\n",
      "DEBUG:root:TRAIN: loss.item(): 2.929098606109619, train_running_correct: 17\n"
     ]
    },
    {
     "name": "stdout",
     "output_type": "stream",
     "text": [
      "Epoch: 20/30, Training accuracy: 0.680000, Loss: 2.929099, Validation accuracy: 0.626667\n",
      "--------------------------------------------------\n"
     ]
    },
    {
     "name": "stderr",
     "output_type": "stream",
     "text": [
      "DEBUG:root:EVAL:   loss.item(): 0.5499643087387085 valid_running_correct: 51\n",
      "DEBUG:root:TRAIN: loss.item(): 1.9813061952590942, train_running_correct: 17\n"
     ]
    },
    {
     "name": "stdout",
     "output_type": "stream",
     "text": [
      "Epoch: 21/30, Training accuracy: 0.680000, Loss: 1.981306, Validation accuracy: 0.680000\n",
      "--------------------------------------------------\n"
     ]
    },
    {
     "name": "stderr",
     "output_type": "stream",
     "text": [
      "DEBUG:root:EVAL:   loss.item(): 0.8039072155952454 valid_running_correct: 55\n",
      "DEBUG:root:TRAIN: loss.item(): 1.2781087160110474, train_running_correct: 21\n"
     ]
    },
    {
     "name": "stdout",
     "output_type": "stream",
     "text": [
      "Epoch: 22/30, Training accuracy: 0.840000, Loss: 1.278109, Validation accuracy: 0.733333\n",
      "--------------------------------------------------\n"
     ]
    },
    {
     "name": "stderr",
     "output_type": "stream",
     "text": [
      "DEBUG:root:EVAL:   loss.item(): 0.735253632068634 valid_running_correct: 58\n",
      "DEBUG:root:TRAIN: loss.item(): 3.647834539413452, train_running_correct: 21\n"
     ]
    },
    {
     "name": "stdout",
     "output_type": "stream",
     "text": [
      "Epoch: 23/30, Training accuracy: 0.840000, Loss: 3.647835, Validation accuracy: 0.773333\n",
      "--------------------------------------------------\n"
     ]
    },
    {
     "name": "stderr",
     "output_type": "stream",
     "text": [
      "DEBUG:root:EVAL:   loss.item(): 0.40956780314445496 valid_running_correct: 57\n",
      "DEBUG:root:TRAIN: loss.item(): 1.828963279724121, train_running_correct: 18\n"
     ]
    },
    {
     "name": "stdout",
     "output_type": "stream",
     "text": [
      "Epoch: 24/30, Training accuracy: 0.720000, Loss: 1.828963, Validation accuracy: 0.760000\n",
      "--------------------------------------------------\n"
     ]
    },
    {
     "name": "stderr",
     "output_type": "stream",
     "text": [
      "DEBUG:root:EVAL:   loss.item(): 0.194021537899971 valid_running_correct: 47\n",
      "DEBUG:root:TRAIN: loss.item(): 0.9400914907455444, train_running_correct: 22\n"
     ]
    },
    {
     "name": "stdout",
     "output_type": "stream",
     "text": [
      "Epoch: 25/30, Training accuracy: 0.880000, Loss: 0.940091, Validation accuracy: 0.626667\n",
      "--------------------------------------------------\n"
     ]
    },
    {
     "name": "stderr",
     "output_type": "stream",
     "text": [
      "DEBUG:root:EVAL:   loss.item(): 0.31656697392463684 valid_running_correct: 42\n",
      "DEBUG:root:TRAIN: loss.item(): 4.642149448394775, train_running_correct: 20\n"
     ]
    },
    {
     "name": "stdout",
     "output_type": "stream",
     "text": [
      "Epoch: 26/30, Training accuracy: 0.800000, Loss: 4.642149, Validation accuracy: 0.560000\n",
      "--------------------------------------------------\n"
     ]
    },
    {
     "name": "stderr",
     "output_type": "stream",
     "text": [
      "DEBUG:root:EVAL:   loss.item(): 0.2823837995529175 valid_running_correct: 48\n",
      "DEBUG:root:TRAIN: loss.item(): 2.600558280944824, train_running_correct: 18\n"
     ]
    },
    {
     "name": "stdout",
     "output_type": "stream",
     "text": [
      "Epoch: 27/30, Training accuracy: 0.720000, Loss: 2.600558, Validation accuracy: 0.640000\n",
      "--------------------------------------------------\n"
     ]
    },
    {
     "name": "stderr",
     "output_type": "stream",
     "text": [
      "DEBUG:root:EVAL:   loss.item(): 0.15406440198421478 valid_running_correct: 48\n",
      "DEBUG:root:TRAIN: loss.item(): 1.2780426740646362, train_running_correct: 22\n"
     ]
    },
    {
     "name": "stdout",
     "output_type": "stream",
     "text": [
      "Epoch: 28/30, Training accuracy: 0.880000, Loss: 1.278043, Validation accuracy: 0.640000\n",
      "--------------------------------------------------\n"
     ]
    },
    {
     "name": "stderr",
     "output_type": "stream",
     "text": [
      "DEBUG:root:EVAL:   loss.item(): 0.2282499074935913 valid_running_correct: 49\n",
      "DEBUG:root:TRAIN: loss.item(): 1.3810656070709229, train_running_correct: 23\n"
     ]
    },
    {
     "name": "stdout",
     "output_type": "stream",
     "text": [
      "Epoch: 29/30, Training accuracy: 0.920000, Loss: 1.381066, Validation accuracy: 0.653333\n",
      "--------------------------------------------------\n"
     ]
    },
    {
     "name": "stderr",
     "output_type": "stream",
     "text": [
      "DEBUG:root:EVAL:   loss.item(): 0.2951134741306305 valid_running_correct: 49\n",
      "DEBUG:root:TRAIN: loss.item(): 3.3411288261413574, train_running_correct: 21\n"
     ]
    },
    {
     "name": "stdout",
     "output_type": "stream",
     "text": [
      "Epoch: 30/30, Training accuracy: 0.840000, Loss: 3.341129, Validation accuracy: 0.653333\n",
      "--------------------------------------------------\n"
     ]
    },
    {
     "name": "stderr",
     "output_type": "stream",
     "text": [
      "DEBUG:root:EVAL:   loss.item(): 0.2951134741306305 valid_running_correct: 49\n",
      "DEBUG:root:Selecting 5 categories from ['AnnualCrop', 'Forest', 'HerbaceousVegetation', 'Highway', 'Industrial', 'Pasture', 'PermanentCrop', 'Residential', 'River', 'SeaLake'] categories\n",
      "DEBUG:root:Selected categories: ['Forest' 'Residential' 'PermanentCrop' 'River' 'Pasture']\n",
      "DEBUG:root:Selected ['Forest_2459.jpg', 'Forest_655.jpg', 'Forest_869.jpg', 'Forest_1093.jpg', 'Forest_352.jpg', 'Forest_1252.jpg', 'Forest_457.jpg', 'Forest_1253.jpg', 'Forest_330.jpg', 'Forest_2410.jpg', 'Forest_2631.jpg', 'Forest_1714.jpg', 'Forest_1076.jpg', 'Forest_2057.jpg', 'Forest_2800.jpg', 'Forest_451.jpg', 'Forest_2443.jpg', 'Forest_683.jpg', 'Forest_1646.jpg', 'Forest_2398.jpg'] from Forest\n",
      "DEBUG:root:Creating Forest directory\n",
      "DEBUG:root:Selected ['Residential_2773.jpg', 'Residential_2895.jpg', 'Residential_1756.jpg', 'Residential_740.jpg', 'Residential_2971.jpg', 'Residential_1518.jpg', 'Residential_627.jpg', 'Residential_2377.jpg', 'Residential_2700.jpg', 'Residential_1442.jpg', 'Residential_2858.jpg', 'Residential_1391.jpg', 'Residential_2793.jpg', 'Residential_578.jpg', 'Residential_245.jpg', 'Residential_1688.jpg', 'Residential_321.jpg', 'Residential_2281.jpg', 'Residential_1609.jpg', 'Residential_2887.jpg'] from Residential\n",
      "DEBUG:root:Creating Residential directory\n",
      "DEBUG:root:Selected ['PermanentCrop_2222.jpg', 'PermanentCrop_1331.jpg', 'PermanentCrop_1583.jpg', 'PermanentCrop_1139.jpg', 'PermanentCrop_1603.jpg', 'PermanentCrop_2496.jpg', 'PermanentCrop_1586.jpg', 'PermanentCrop_102.jpg', 'PermanentCrop_1667.jpg', 'PermanentCrop_519.jpg', 'PermanentCrop_2164.jpg', 'PermanentCrop_430.jpg', 'PermanentCrop_1831.jpg', 'PermanentCrop_2383.jpg', 'PermanentCrop_954.jpg', 'PermanentCrop_73.jpg', 'PermanentCrop_1955.jpg', 'PermanentCrop_83.jpg', 'PermanentCrop_1994.jpg', 'PermanentCrop_191.jpg'] from PermanentCrop\n",
      "DEBUG:root:Creating PermanentCrop directory\n",
      "DEBUG:root:Selected ['River_2414.jpg', 'River_1020.jpg', 'River_1905.jpg', 'River_1117.jpg', 'River_1098.jpg', 'River_2166.jpg', 'River_2288.jpg', 'River_1315.jpg', 'River_516.jpg', 'River_2337.jpg', 'River_2289.jpg', 'River_1707.jpg', 'River_1786.jpg', 'River_465.jpg', 'River_542.jpg', 'River_1403.jpg', 'River_26.jpg', 'River_1693.jpg', 'River_1270.jpg', 'River_1952.jpg'] from River\n",
      "DEBUG:root:Creating River directory\n",
      "DEBUG:root:Selected ['Pasture_508.jpg', 'Pasture_612.jpg', 'Pasture_458.jpg', 'Pasture_1236.jpg', 'Pasture_408.jpg', 'Pasture_1090.jpg', 'Pasture_1453.jpg', 'Pasture_133.jpg', 'Pasture_920.jpg', 'Pasture_1781.jpg', 'Pasture_1600.jpg', 'Pasture_1932.jpg', 'Pasture_119.jpg', 'Pasture_1752.jpg', 'Pasture_941.jpg', 'Pasture_855.jpg', 'Pasture_1669.jpg', 'Pasture_762.jpg', 'Pasture_1855.jpg', 'Pasture_1958.jpg'] from Pasture\n",
      "DEBUG:root:Creating Pasture directory\n",
      "DEBUG:root:Selected ['Forest_1252.jpg', 'Forest_2398.jpg', 'Forest_2410.jpg', 'Forest_683.jpg', 'Forest_2057.jpg'] for training\n",
      "DEBUG:root:Creating Forest directory\n",
      "DEBUG:root:Selected ['Residential_2887.jpg', 'Residential_1756.jpg', 'Residential_2281.jpg', 'Residential_1442.jpg', 'Residential_2858.jpg'] for training\n",
      "DEBUG:root:Creating Residential directory\n",
      "DEBUG:root:Selected ['PermanentCrop_102.jpg', 'PermanentCrop_1603.jpg', 'PermanentCrop_519.jpg', 'PermanentCrop_954.jpg', 'PermanentCrop_430.jpg'] for training\n",
      "DEBUG:root:Creating PermanentCrop directory\n",
      "DEBUG:root:Selected ['River_1315.jpg', 'River_1693.jpg', 'River_1707.jpg', 'River_542.jpg', 'River_26.jpg'] for training\n",
      "DEBUG:root:Creating River directory\n",
      "DEBUG:root:Selected ['Pasture_458.jpg', 'Pasture_119.jpg', 'Pasture_855.jpg', 'Pasture_612.jpg', 'Pasture_408.jpg'] for training\n",
      "DEBUG:root:Creating Pasture directory\n",
      "DEBUG:root: len(trainLoader.dataset): 25\n",
      "DEBUG:root: len(valLoader.dataset): 75\n"
     ]
    },
    {
     "name": "stdout",
     "output_type": "stream",
     "text": [
      "EuroSAT model 1/11 results: 0.653\n",
      "Training EuroSAT model 2/11\n",
      "Using CUDA\n",
      "Training\n"
     ]
    },
    {
     "name": "stderr",
     "output_type": "stream",
     "text": [
      "DEBUG:root:EVAL:   loss.item(): 3.4643125534057617 valid_running_correct: 14\n",
      "DEBUG:root:TRAIN: loss.item(): 0.6416467428207397, train_running_correct: 5\n"
     ]
    },
    {
     "name": "stdout",
     "output_type": "stream",
     "text": [
      "Epoch: 1/30, Training accuracy: 0.200000, Loss: 0.641647, Validation accuracy: 0.186667\n",
      "--------------------------------------------------\n"
     ]
    },
    {
     "name": "stderr",
     "output_type": "stream",
     "text": [
      "DEBUG:root:EVAL:   loss.item(): 3.257268190383911 valid_running_correct: 11\n",
      "DEBUG:root:TRAIN: loss.item(): 3.794870138168335, train_running_correct: 2\n"
     ]
    },
    {
     "name": "stdout",
     "output_type": "stream",
     "text": [
      "Epoch: 2/30, Training accuracy: 0.080000, Loss: 3.794870, Validation accuracy: 0.146667\n",
      "--------------------------------------------------\n"
     ]
    },
    {
     "name": "stderr",
     "output_type": "stream",
     "text": [
      "DEBUG:root:EVAL:   loss.item(): 1.623162865638733 valid_running_correct: 11\n",
      "DEBUG:root:TRAIN: loss.item(): 1.3992578983306885, train_running_correct: 1\n"
     ]
    },
    {
     "name": "stdout",
     "output_type": "stream",
     "text": [
      "Epoch: 3/30, Training accuracy: 0.040000, Loss: 1.399258, Validation accuracy: 0.146667\n",
      "--------------------------------------------------\n"
     ]
    },
    {
     "name": "stderr",
     "output_type": "stream",
     "text": [
      "DEBUG:root:EVAL:   loss.item(): 0.7733282446861267 valid_running_correct: 11\n",
      "DEBUG:root:TRAIN: loss.item(): 1.2901002168655396, train_running_correct: 2\n"
     ]
    },
    {
     "name": "stdout",
     "output_type": "stream",
     "text": [
      "Epoch: 4/30, Training accuracy: 0.080000, Loss: 1.290100, Validation accuracy: 0.146667\n",
      "--------------------------------------------------\n"
     ]
    },
    {
     "name": "stderr",
     "output_type": "stream",
     "text": [
      "DEBUG:root:EVAL:   loss.item(): 0.39217400550842285 valid_running_correct: 15\n",
      "DEBUG:root:TRAIN: loss.item(): 0.41866618394851685, train_running_correct: 8\n"
     ]
    },
    {
     "name": "stdout",
     "output_type": "stream",
     "text": [
      "Epoch: 5/30, Training accuracy: 0.320000, Loss: 0.418666, Validation accuracy: 0.200000\n",
      "--------------------------------------------------\n"
     ]
    },
    {
     "name": "stderr",
     "output_type": "stream",
     "text": [
      "DEBUG:root:EVAL:   loss.item(): 0.5170006155967712 valid_running_correct: 14\n",
      "DEBUG:root:TRAIN: loss.item(): 2.58294939994812, train_running_correct: 6\n"
     ]
    },
    {
     "name": "stdout",
     "output_type": "stream",
     "text": [
      "Epoch: 6/30, Training accuracy: 0.240000, Loss: 2.582949, Validation accuracy: 0.186667\n",
      "--------------------------------------------------\n"
     ]
    },
    {
     "name": "stderr",
     "output_type": "stream",
     "text": [
      "DEBUG:root:EVAL:   loss.item(): 2.0090370178222656 valid_running_correct: 16\n",
      "DEBUG:root:TRAIN: loss.item(): 0.8575507998466492, train_running_correct: 7\n"
     ]
    },
    {
     "name": "stdout",
     "output_type": "stream",
     "text": [
      "Epoch: 7/30, Training accuracy: 0.280000, Loss: 0.857551, Validation accuracy: 0.213333\n",
      "--------------------------------------------------\n"
     ]
    },
    {
     "name": "stderr",
     "output_type": "stream",
     "text": [
      "DEBUG:root:EVAL:   loss.item(): 3.4213550090789795 valid_running_correct: 17\n",
      "DEBUG:root:TRAIN: loss.item(): 2.550032377243042, train_running_correct: 7\n"
     ]
    },
    {
     "name": "stdout",
     "output_type": "stream",
     "text": [
      "Epoch: 8/30, Training accuracy: 0.280000, Loss: 2.550032, Validation accuracy: 0.226667\n",
      "--------------------------------------------------\n"
     ]
    },
    {
     "name": "stderr",
     "output_type": "stream",
     "text": [
      "DEBUG:root:EVAL:   loss.item(): 3.446701765060425 valid_running_correct: 20\n",
      "DEBUG:root:TRAIN: loss.item(): 1.0016087293624878, train_running_correct: 4\n"
     ]
    },
    {
     "name": "stdout",
     "output_type": "stream",
     "text": [
      "Epoch: 9/30, Training accuracy: 0.160000, Loss: 1.001609, Validation accuracy: 0.266667\n",
      "--------------------------------------------------\n"
     ]
    },
    {
     "name": "stderr",
     "output_type": "stream",
     "text": [
      "DEBUG:root:EVAL:   loss.item(): 3.13179874420166 valid_running_correct: 19\n",
      "DEBUG:root:TRAIN: loss.item(): 3.345672369003296, train_running_correct: 6\n"
     ]
    },
    {
     "name": "stdout",
     "output_type": "stream",
     "text": [
      "Epoch: 10/30, Training accuracy: 0.240000, Loss: 3.345672, Validation accuracy: 0.253333\n",
      "--------------------------------------------------\n"
     ]
    },
    {
     "name": "stderr",
     "output_type": "stream",
     "text": [
      "DEBUG:root:EVAL:   loss.item(): 2.5408999919891357 valid_running_correct: 21\n",
      "DEBUG:root:TRAIN: loss.item(): 3.7303431034088135, train_running_correct: 8\n"
     ]
    },
    {
     "name": "stdout",
     "output_type": "stream",
     "text": [
      "Epoch: 11/30, Training accuracy: 0.320000, Loss: 3.730343, Validation accuracy: 0.280000\n",
      "--------------------------------------------------\n"
     ]
    },
    {
     "name": "stderr",
     "output_type": "stream",
     "text": [
      "DEBUG:root:EVAL:   loss.item(): 1.4528884887695312 valid_running_correct: 23\n",
      "DEBUG:root:TRAIN: loss.item(): 3.816734790802002, train_running_correct: 9\n"
     ]
    },
    {
     "name": "stdout",
     "output_type": "stream",
     "text": [
      "Epoch: 12/30, Training accuracy: 0.360000, Loss: 3.816735, Validation accuracy: 0.306667\n",
      "--------------------------------------------------\n"
     ]
    },
    {
     "name": "stderr",
     "output_type": "stream",
     "text": [
      "DEBUG:root:EVAL:   loss.item(): 1.0181580781936646 valid_running_correct: 30\n",
      "DEBUG:root:TRAIN: loss.item(): 2.715851306915283, train_running_correct: 13\n"
     ]
    },
    {
     "name": "stdout",
     "output_type": "stream",
     "text": [
      "Epoch: 13/30, Training accuracy: 0.520000, Loss: 2.715851, Validation accuracy: 0.400000\n",
      "--------------------------------------------------\n"
     ]
    },
    {
     "name": "stderr",
     "output_type": "stream",
     "text": [
      "DEBUG:root:EVAL:   loss.item(): 1.3307288885116577 valid_running_correct: 26\n",
      "DEBUG:root:TRAIN: loss.item(): 2.052943706512451, train_running_correct: 15\n"
     ]
    },
    {
     "name": "stdout",
     "output_type": "stream",
     "text": [
      "Epoch: 14/30, Training accuracy: 0.600000, Loss: 2.052944, Validation accuracy: 0.346667\n",
      "--------------------------------------------------\n"
     ]
    },
    {
     "name": "stderr",
     "output_type": "stream",
     "text": [
      "DEBUG:root:EVAL:   loss.item(): 1.715994954109192 valid_running_correct: 27\n",
      "DEBUG:root:TRAIN: loss.item(): 4.106675148010254, train_running_correct: 14\n"
     ]
    },
    {
     "name": "stdout",
     "output_type": "stream",
     "text": [
      "Epoch: 15/30, Training accuracy: 0.560000, Loss: 4.106675, Validation accuracy: 0.360000\n",
      "--------------------------------------------------\n"
     ]
    },
    {
     "name": "stderr",
     "output_type": "stream",
     "text": [
      "DEBUG:root:EVAL:   loss.item(): 1.5368846654891968 valid_running_correct: 36\n",
      "DEBUG:root:TRAIN: loss.item(): 1.8626947402954102, train_running_correct: 16\n"
     ]
    },
    {
     "name": "stdout",
     "output_type": "stream",
     "text": [
      "Epoch: 16/30, Training accuracy: 0.640000, Loss: 1.862695, Validation accuracy: 0.480000\n",
      "--------------------------------------------------\n"
     ]
    },
    {
     "name": "stderr",
     "output_type": "stream",
     "text": [
      "DEBUG:root:EVAL:   loss.item(): 0.8615691065788269 valid_running_correct: 32\n",
      "DEBUG:root:TRAIN: loss.item(): 1.8085042238235474, train_running_correct: 20\n"
     ]
    },
    {
     "name": "stdout",
     "output_type": "stream",
     "text": [
      "Epoch: 17/30, Training accuracy: 0.800000, Loss: 1.808504, Validation accuracy: 0.426667\n",
      "--------------------------------------------------\n"
     ]
    },
    {
     "name": "stderr",
     "output_type": "stream",
     "text": [
      "DEBUG:root:EVAL:   loss.item(): 0.7570300102233887 valid_running_correct: 31\n",
      "DEBUG:root:TRAIN: loss.item(): 1.333207368850708, train_running_correct: 14\n"
     ]
    },
    {
     "name": "stdout",
     "output_type": "stream",
     "text": [
      "Epoch: 18/30, Training accuracy: 0.560000, Loss: 1.333207, Validation accuracy: 0.413333\n",
      "--------------------------------------------------\n"
     ]
    },
    {
     "name": "stderr",
     "output_type": "stream",
     "text": [
      "DEBUG:root:EVAL:   loss.item(): 0.5977746844291687 valid_running_correct: 29\n",
      "DEBUG:root:TRAIN: loss.item(): 3.9453768730163574, train_running_correct: 15\n"
     ]
    },
    {
     "name": "stdout",
     "output_type": "stream",
     "text": [
      "Epoch: 19/30, Training accuracy: 0.600000, Loss: 3.945377, Validation accuracy: 0.386667\n",
      "--------------------------------------------------\n"
     ]
    },
    {
     "name": "stderr",
     "output_type": "stream",
     "text": [
      "DEBUG:root:EVAL:   loss.item(): 0.841895341873169 valid_running_correct: 40\n",
      "DEBUG:root:TRAIN: loss.item(): 2.6210155487060547, train_running_correct: 16\n"
     ]
    },
    {
     "name": "stdout",
     "output_type": "stream",
     "text": [
      "Epoch: 20/30, Training accuracy: 0.640000, Loss: 2.621016, Validation accuracy: 0.533333\n",
      "--------------------------------------------------\n"
     ]
    },
    {
     "name": "stderr",
     "output_type": "stream",
     "text": [
      "DEBUG:root:EVAL:   loss.item(): 1.9443912506103516 valid_running_correct: 36\n",
      "DEBUG:root:TRAIN: loss.item(): 2.4285943508148193, train_running_correct: 16\n"
     ]
    },
    {
     "name": "stdout",
     "output_type": "stream",
     "text": [
      "Epoch: 21/30, Training accuracy: 0.640000, Loss: 2.428594, Validation accuracy: 0.480000\n",
      "--------------------------------------------------\n"
     ]
    },
    {
     "name": "stderr",
     "output_type": "stream",
     "text": [
      "DEBUG:root:EVAL:   loss.item(): 2.3724610805511475 valid_running_correct: 34\n",
      "DEBUG:root:TRAIN: loss.item(): 2.7961111068725586, train_running_correct: 19\n"
     ]
    },
    {
     "name": "stdout",
     "output_type": "stream",
     "text": [
      "Epoch: 22/30, Training accuracy: 0.760000, Loss: 2.796111, Validation accuracy: 0.453333\n",
      "--------------------------------------------------\n"
     ]
    },
    {
     "name": "stderr",
     "output_type": "stream",
     "text": [
      "DEBUG:root:EVAL:   loss.item(): 2.1396007537841797 valid_running_correct: 41\n",
      "DEBUG:root:TRAIN: loss.item(): 3.129070281982422, train_running_correct: 17\n"
     ]
    },
    {
     "name": "stdout",
     "output_type": "stream",
     "text": [
      "Epoch: 23/30, Training accuracy: 0.680000, Loss: 3.129070, Validation accuracy: 0.546667\n",
      "--------------------------------------------------\n"
     ]
    },
    {
     "name": "stderr",
     "output_type": "stream",
     "text": [
      "DEBUG:root:EVAL:   loss.item(): 1.1275346279144287 valid_running_correct: 45\n",
      "DEBUG:root:TRAIN: loss.item(): 2.1911425590515137, train_running_correct: 13\n"
     ]
    },
    {
     "name": "stdout",
     "output_type": "stream",
     "text": [
      "Epoch: 24/30, Training accuracy: 0.520000, Loss: 2.191143, Validation accuracy: 0.600000\n",
      "--------------------------------------------------\n"
     ]
    },
    {
     "name": "stderr",
     "output_type": "stream",
     "text": [
      "DEBUG:root:EVAL:   loss.item(): 0.8170909285545349 valid_running_correct: 44\n",
      "DEBUG:root:TRAIN: loss.item(): 1.0943946838378906, train_running_correct: 23\n"
     ]
    },
    {
     "name": "stdout",
     "output_type": "stream",
     "text": [
      "Epoch: 25/30, Training accuracy: 0.920000, Loss: 1.094395, Validation accuracy: 0.586667\n",
      "--------------------------------------------------\n"
     ]
    },
    {
     "name": "stderr",
     "output_type": "stream",
     "text": [
      "DEBUG:root:EVAL:   loss.item(): 0.8444280624389648 valid_running_correct: 40\n",
      "DEBUG:root:TRAIN: loss.item(): 2.409597873687744, train_running_correct: 20\n"
     ]
    },
    {
     "name": "stdout",
     "output_type": "stream",
     "text": [
      "Epoch: 26/30, Training accuracy: 0.800000, Loss: 2.409598, Validation accuracy: 0.533333\n",
      "--------------------------------------------------\n"
     ]
    },
    {
     "name": "stderr",
     "output_type": "stream",
     "text": [
      "DEBUG:root:EVAL:   loss.item(): 0.7477197647094727 valid_running_correct: 47\n",
      "DEBUG:root:TRAIN: loss.item(): 1.382813572883606, train_running_correct: 20\n"
     ]
    },
    {
     "name": "stdout",
     "output_type": "stream",
     "text": [
      "Epoch: 27/30, Training accuracy: 0.800000, Loss: 1.382814, Validation accuracy: 0.626667\n",
      "--------------------------------------------------\n"
     ]
    },
    {
     "name": "stderr",
     "output_type": "stream",
     "text": [
      "DEBUG:root:EVAL:   loss.item(): 0.5406162142753601 valid_running_correct: 40\n",
      "DEBUG:root:TRAIN: loss.item(): 2.848928928375244, train_running_correct: 20\n"
     ]
    },
    {
     "name": "stdout",
     "output_type": "stream",
     "text": [
      "Epoch: 28/30, Training accuracy: 0.800000, Loss: 2.848929, Validation accuracy: 0.533333\n",
      "--------------------------------------------------\n"
     ]
    },
    {
     "name": "stderr",
     "output_type": "stream",
     "text": [
      "DEBUG:root:EVAL:   loss.item(): 0.6636075377464294 valid_running_correct: 47\n",
      "DEBUG:root:TRAIN: loss.item(): 1.0261794328689575, train_running_correct: 21\n"
     ]
    },
    {
     "name": "stdout",
     "output_type": "stream",
     "text": [
      "Epoch: 29/30, Training accuracy: 0.840000, Loss: 1.026179, Validation accuracy: 0.626667\n",
      "--------------------------------------------------\n"
     ]
    },
    {
     "name": "stderr",
     "output_type": "stream",
     "text": [
      "DEBUG:root:EVAL:   loss.item(): 0.6956446170806885 valid_running_correct: 42\n",
      "DEBUG:root:TRAIN: loss.item(): 3.067617416381836, train_running_correct: 20\n"
     ]
    },
    {
     "name": "stdout",
     "output_type": "stream",
     "text": [
      "Epoch: 30/30, Training accuracy: 0.800000, Loss: 3.067617, Validation accuracy: 0.560000\n",
      "--------------------------------------------------\n"
     ]
    },
    {
     "name": "stderr",
     "output_type": "stream",
     "text": [
      "DEBUG:root:EVAL:   loss.item(): 0.6956446170806885 valid_running_correct: 42\n",
      "DEBUG:root:Selecting 5 categories from ['AnnualCrop', 'Forest', 'HerbaceousVegetation', 'Highway', 'Industrial', 'Pasture', 'PermanentCrop', 'Residential', 'River', 'SeaLake'] categories\n",
      "DEBUG:root:Selected categories: ['Residential' 'Highway' 'Pasture' 'HerbaceousVegetation' 'Industrial']\n",
      "DEBUG:root:Selected ['Residential_1997.jpg', 'Residential_2515.jpg', 'Residential_2912.jpg', 'Residential_626.jpg', 'Residential_1735.jpg', 'Residential_571.jpg', 'Residential_2495.jpg', 'Residential_2327.jpg', 'Residential_356.jpg', 'Residential_2868.jpg', 'Residential_1391.jpg', 'Residential_5.jpg', 'Residential_2140.jpg', 'Residential_2404.jpg', 'Residential_1559.jpg', 'Residential_975.jpg', 'Residential_2730.jpg', 'Residential_972.jpg', 'Residential_2296.jpg', 'Residential_2804.jpg'] from Residential\n",
      "DEBUG:root:Creating Residential directory\n",
      "DEBUG:root:Selected ['Highway_916.jpg', 'Highway_767.jpg', 'Highway_867.jpg', 'Highway_138.jpg', 'Highway_369.jpg', 'Highway_1675.jpg', 'Highway_2000.jpg', 'Highway_1693.jpg', 'Highway_1406.jpg', 'Highway_2241.jpg', 'Highway_1962.jpg', 'Highway_1923.jpg', 'Highway_901.jpg', 'Highway_357.jpg', 'Highway_292.jpg', 'Highway_2220.jpg', 'Highway_594.jpg', 'Highway_1087.jpg', 'Highway_2281.jpg', 'Highway_945.jpg'] from Highway\n",
      "DEBUG:root:Creating Highway directory\n",
      "DEBUG:root:Selected ['Pasture_133.jpg', 'Pasture_1583.jpg', 'Pasture_607.jpg', 'Pasture_1226.jpg', 'Pasture_1995.jpg', 'Pasture_193.jpg', 'Pasture_1683.jpg', 'Pasture_416.jpg', 'Pasture_1629.jpg', 'Pasture_1482.jpg', 'Pasture_1718.jpg', 'Pasture_1499.jpg', 'Pasture_1743.jpg', 'Pasture_741.jpg', 'Pasture_821.jpg', 'Pasture_40.jpg', 'Pasture_462.jpg', 'Pasture_927.jpg', 'Pasture_69.jpg', 'Pasture_1518.jpg'] from Pasture\n",
      "DEBUG:root:Creating Pasture directory\n",
      "DEBUG:root:Selected ['HerbaceousVegetation_435.jpg', 'HerbaceousVegetation_94.jpg', 'HerbaceousVegetation_2457.jpg', 'HerbaceousVegetation_1340.jpg', 'HerbaceousVegetation_405.jpg', 'HerbaceousVegetation_1051.jpg', 'HerbaceousVegetation_564.jpg', 'HerbaceousVegetation_2455.jpg', 'HerbaceousVegetation_2284.jpg', 'HerbaceousVegetation_41.jpg', 'HerbaceousVegetation_2653.jpg', 'HerbaceousVegetation_999.jpg', 'HerbaceousVegetation_2315.jpg', 'HerbaceousVegetation_1002.jpg', 'HerbaceousVegetation_2719.jpg', 'HerbaceousVegetation_438.jpg', 'HerbaceousVegetation_2845.jpg', 'HerbaceousVegetation_1846.jpg', 'HerbaceousVegetation_1734.jpg', 'HerbaceousVegetation_1152.jpg'] from HerbaceousVegetation\n",
      "DEBUG:root:Creating HerbaceousVegetation directory\n",
      "DEBUG:root:Selected ['Industrial_341.jpg', 'Industrial_1266.jpg', 'Industrial_1673.jpg', 'Industrial_584.jpg', 'Industrial_2015.jpg', 'Industrial_1059.jpg', 'Industrial_948.jpg', 'Industrial_463.jpg', 'Industrial_1992.jpg', 'Industrial_45.jpg', 'Industrial_2342.jpg', 'Industrial_2120.jpg', 'Industrial_778.jpg', 'Industrial_1977.jpg', 'Industrial_1914.jpg', 'Industrial_422.jpg', 'Industrial_705.jpg', 'Industrial_1923.jpg', 'Industrial_802.jpg', 'Industrial_1691.jpg'] from Industrial\n",
      "DEBUG:root:Creating Industrial directory\n",
      "DEBUG:root:Selected ['Residential_2515.jpg', 'Residential_1735.jpg', 'Residential_2327.jpg', 'Residential_571.jpg', 'Residential_972.jpg'] for training\n",
      "DEBUG:root:Creating Residential directory\n",
      "DEBUG:root:Selected ['Highway_1087.jpg', 'Highway_2281.jpg', 'Highway_2220.jpg', 'Highway_1923.jpg', 'Highway_1962.jpg'] for training\n",
      "DEBUG:root:Creating Highway directory\n",
      "DEBUG:root:Selected ['Pasture_69.jpg', 'Pasture_40.jpg', 'Pasture_1482.jpg', 'Pasture_133.jpg', 'Pasture_1583.jpg'] for training\n",
      "DEBUG:root:Creating Pasture directory\n",
      "DEBUG:root:Selected ['HerbaceousVegetation_1734.jpg', 'HerbaceousVegetation_1846.jpg', 'HerbaceousVegetation_1152.jpg', 'HerbaceousVegetation_2457.jpg', 'HerbaceousVegetation_1340.jpg'] for training\n",
      "DEBUG:root:Creating HerbaceousVegetation directory\n",
      "DEBUG:root:Selected ['Industrial_2015.jpg', 'Industrial_1691.jpg', 'Industrial_45.jpg', 'Industrial_1992.jpg', 'Industrial_341.jpg'] for training\n",
      "DEBUG:root:Creating Industrial directory\n",
      "DEBUG:root: len(trainLoader.dataset): 25\n",
      "DEBUG:root: len(valLoader.dataset): 75\n"
     ]
    },
    {
     "name": "stdout",
     "output_type": "stream",
     "text": [
      "EuroSAT model 2/11 results: 0.560\n",
      "Training EuroSAT model 3/11\n",
      "Using CUDA\n",
      "Training\n"
     ]
    },
    {
     "name": "stderr",
     "output_type": "stream",
     "text": [
      "DEBUG:root:EVAL:   loss.item(): 3.3792521953582764 valid_running_correct: 20\n",
      "DEBUG:root:TRAIN: loss.item(): 2.474241018295288, train_running_correct: 2\n"
     ]
    },
    {
     "name": "stdout",
     "output_type": "stream",
     "text": [
      "Epoch: 1/30, Training accuracy: 0.080000, Loss: 2.474241, Validation accuracy: 0.266667\n",
      "--------------------------------------------------\n"
     ]
    },
    {
     "name": "stderr",
     "output_type": "stream",
     "text": [
      "DEBUG:root:EVAL:   loss.item(): 3.5672054290771484 valid_running_correct: 21\n",
      "DEBUG:root:TRAIN: loss.item(): 2.6023569107055664, train_running_correct: 6\n"
     ]
    },
    {
     "name": "stdout",
     "output_type": "stream",
     "text": [
      "Epoch: 2/30, Training accuracy: 0.240000, Loss: 2.602357, Validation accuracy: 0.280000\n",
      "--------------------------------------------------\n"
     ]
    },
    {
     "name": "stderr",
     "output_type": "stream",
     "text": [
      "DEBUG:root:EVAL:   loss.item(): 3.747957229614258 valid_running_correct: 18\n",
      "DEBUG:root:TRAIN: loss.item(): 2.72108793258667, train_running_correct: 6\n"
     ]
    },
    {
     "name": "stdout",
     "output_type": "stream",
     "text": [
      "Epoch: 3/30, Training accuracy: 0.240000, Loss: 2.721088, Validation accuracy: 0.240000\n",
      "--------------------------------------------------\n"
     ]
    },
    {
     "name": "stderr",
     "output_type": "stream",
     "text": [
      "DEBUG:root:EVAL:   loss.item(): 3.4159348011016846 valid_running_correct: 18\n",
      "DEBUG:root:TRAIN: loss.item(): 2.786129951477051, train_running_correct: 5\n"
     ]
    },
    {
     "name": "stdout",
     "output_type": "stream",
     "text": [
      "Epoch: 4/30, Training accuracy: 0.200000, Loss: 2.786130, Validation accuracy: 0.240000\n",
      "--------------------------------------------------\n"
     ]
    },
    {
     "name": "stderr",
     "output_type": "stream",
     "text": [
      "DEBUG:root:EVAL:   loss.item(): 2.367696523666382 valid_running_correct: 21\n",
      "DEBUG:root:TRAIN: loss.item(): 2.543611526489258, train_running_correct: 9\n"
     ]
    },
    {
     "name": "stdout",
     "output_type": "stream",
     "text": [
      "Epoch: 5/30, Training accuracy: 0.360000, Loss: 2.543612, Validation accuracy: 0.280000\n",
      "--------------------------------------------------\n"
     ]
    },
    {
     "name": "stderr",
     "output_type": "stream",
     "text": [
      "DEBUG:root:EVAL:   loss.item(): 1.8450442552566528 valid_running_correct: 22\n",
      "DEBUG:root:TRAIN: loss.item(): 1.7531546354293823, train_running_correct: 5\n"
     ]
    },
    {
     "name": "stdout",
     "output_type": "stream",
     "text": [
      "Epoch: 6/30, Training accuracy: 0.200000, Loss: 1.753155, Validation accuracy: 0.293333\n",
      "--------------------------------------------------\n"
     ]
    },
    {
     "name": "stderr",
     "output_type": "stream",
     "text": [
      "DEBUG:root:EVAL:   loss.item(): 1.327532410621643 valid_running_correct: 25\n",
      "DEBUG:root:TRAIN: loss.item(): 1.1552948951721191, train_running_correct: 6\n"
     ]
    },
    {
     "name": "stdout",
     "output_type": "stream",
     "text": [
      "Epoch: 7/30, Training accuracy: 0.240000, Loss: 1.155295, Validation accuracy: 0.333333\n",
      "--------------------------------------------------\n"
     ]
    },
    {
     "name": "stderr",
     "output_type": "stream",
     "text": [
      "DEBUG:root:EVAL:   loss.item(): 0.9971578121185303 valid_running_correct: 28\n",
      "DEBUG:root:TRAIN: loss.item(): 3.30643367767334, train_running_correct: 8\n"
     ]
    },
    {
     "name": "stdout",
     "output_type": "stream",
     "text": [
      "Epoch: 8/30, Training accuracy: 0.320000, Loss: 3.306434, Validation accuracy: 0.373333\n",
      "--------------------------------------------------\n"
     ]
    },
    {
     "name": "stderr",
     "output_type": "stream",
     "text": [
      "DEBUG:root:EVAL:   loss.item(): 1.4013999700546265 valid_running_correct: 33\n",
      "DEBUG:root:TRAIN: loss.item(): 1.6942470073699951, train_running_correct: 9\n"
     ]
    },
    {
     "name": "stdout",
     "output_type": "stream",
     "text": [
      "Epoch: 9/30, Training accuracy: 0.360000, Loss: 1.694247, Validation accuracy: 0.440000\n",
      "--------------------------------------------------\n"
     ]
    },
    {
     "name": "stderr",
     "output_type": "stream",
     "text": [
      "DEBUG:root:EVAL:   loss.item(): 1.8715764284133911 valid_running_correct: 34\n",
      "DEBUG:root:TRAIN: loss.item(): 2.4028940200805664, train_running_correct: 8\n"
     ]
    },
    {
     "name": "stdout",
     "output_type": "stream",
     "text": [
      "Epoch: 10/30, Training accuracy: 0.320000, Loss: 2.402894, Validation accuracy: 0.453333\n",
      "--------------------------------------------------\n"
     ]
    },
    {
     "name": "stderr",
     "output_type": "stream",
     "text": [
      "DEBUG:root:EVAL:   loss.item(): 2.0236001014709473 valid_running_correct: 37\n",
      "DEBUG:root:TRAIN: loss.item(): 1.1440725326538086, train_running_correct: 10\n"
     ]
    },
    {
     "name": "stdout",
     "output_type": "stream",
     "text": [
      "Epoch: 11/30, Training accuracy: 0.400000, Loss: 1.144073, Validation accuracy: 0.493333\n",
      "--------------------------------------------------\n"
     ]
    },
    {
     "name": "stderr",
     "output_type": "stream",
     "text": [
      "DEBUG:root:EVAL:   loss.item(): 2.029391050338745 valid_running_correct: 39\n",
      "DEBUG:root:TRAIN: loss.item(): 2.5665035247802734, train_running_correct: 10\n"
     ]
    },
    {
     "name": "stdout",
     "output_type": "stream",
     "text": [
      "Epoch: 12/30, Training accuracy: 0.400000, Loss: 2.566504, Validation accuracy: 0.520000\n",
      "--------------------------------------------------\n"
     ]
    },
    {
     "name": "stderr",
     "output_type": "stream",
     "text": [
      "DEBUG:root:EVAL:   loss.item(): 2.130297899246216 valid_running_correct: 39\n",
      "DEBUG:root:TRAIN: loss.item(): 2.5134787559509277, train_running_correct: 9\n"
     ]
    },
    {
     "name": "stdout",
     "output_type": "stream",
     "text": [
      "Epoch: 13/30, Training accuracy: 0.360000, Loss: 2.513479, Validation accuracy: 0.520000\n",
      "--------------------------------------------------\n"
     ]
    },
    {
     "name": "stderr",
     "output_type": "stream",
     "text": [
      "DEBUG:root:EVAL:   loss.item(): 1.5173524618148804 valid_running_correct: 40\n",
      "DEBUG:root:TRAIN: loss.item(): 2.4342660903930664, train_running_correct: 7\n"
     ]
    },
    {
     "name": "stdout",
     "output_type": "stream",
     "text": [
      "Epoch: 14/30, Training accuracy: 0.280000, Loss: 2.434266, Validation accuracy: 0.533333\n",
      "--------------------------------------------------\n"
     ]
    },
    {
     "name": "stderr",
     "output_type": "stream",
     "text": [
      "DEBUG:root:EVAL:   loss.item(): 0.6408219933509827 valid_running_correct: 34\n",
      "DEBUG:root:TRAIN: loss.item(): 1.5928078889846802, train_running_correct: 15\n"
     ]
    },
    {
     "name": "stdout",
     "output_type": "stream",
     "text": [
      "Epoch: 15/30, Training accuracy: 0.600000, Loss: 1.592808, Validation accuracy: 0.453333\n",
      "--------------------------------------------------\n"
     ]
    },
    {
     "name": "stderr",
     "output_type": "stream",
     "text": [
      "DEBUG:root:EVAL:   loss.item(): 0.41640031337738037 valid_running_correct: 40\n",
      "DEBUG:root:TRAIN: loss.item(): 2.7543938159942627, train_running_correct: 15\n"
     ]
    },
    {
     "name": "stdout",
     "output_type": "stream",
     "text": [
      "Epoch: 16/30, Training accuracy: 0.600000, Loss: 2.754394, Validation accuracy: 0.533333\n",
      "--------------------------------------------------\n"
     ]
    },
    {
     "name": "stderr",
     "output_type": "stream",
     "text": [
      "DEBUG:root:EVAL:   loss.item(): 0.586470901966095 valid_running_correct: 49\n",
      "DEBUG:root:TRAIN: loss.item(): 1.8121308088302612, train_running_correct: 12\n"
     ]
    },
    {
     "name": "stdout",
     "output_type": "stream",
     "text": [
      "Epoch: 17/30, Training accuracy: 0.480000, Loss: 1.812131, Validation accuracy: 0.653333\n",
      "--------------------------------------------------\n"
     ]
    },
    {
     "name": "stderr",
     "output_type": "stream",
     "text": [
      "DEBUG:root:EVAL:   loss.item(): 1.0422676801681519 valid_running_correct: 48\n",
      "DEBUG:root:TRAIN: loss.item(): 2.3510124683380127, train_running_correct: 18\n"
     ]
    },
    {
     "name": "stdout",
     "output_type": "stream",
     "text": [
      "Epoch: 18/30, Training accuracy: 0.720000, Loss: 2.351012, Validation accuracy: 0.640000\n",
      "--------------------------------------------------\n"
     ]
    },
    {
     "name": "stderr",
     "output_type": "stream",
     "text": [
      "DEBUG:root:EVAL:   loss.item(): 1.560076117515564 valid_running_correct: 46\n",
      "DEBUG:root:TRAIN: loss.item(): 2.7558960914611816, train_running_correct: 14\n"
     ]
    },
    {
     "name": "stdout",
     "output_type": "stream",
     "text": [
      "Epoch: 19/30, Training accuracy: 0.560000, Loss: 2.755896, Validation accuracy: 0.613333\n",
      "--------------------------------------------------\n"
     ]
    },
    {
     "name": "stderr",
     "output_type": "stream",
     "text": [
      "DEBUG:root:EVAL:   loss.item(): 1.0461403131484985 valid_running_correct: 50\n",
      "DEBUG:root:TRAIN: loss.item(): 3.195237874984741, train_running_correct: 18\n"
     ]
    },
    {
     "name": "stdout",
     "output_type": "stream",
     "text": [
      "Epoch: 20/30, Training accuracy: 0.720000, Loss: 3.195238, Validation accuracy: 0.666667\n",
      "--------------------------------------------------\n"
     ]
    },
    {
     "name": "stderr",
     "output_type": "stream",
     "text": [
      "DEBUG:root:EVAL:   loss.item(): 0.6408398747444153 valid_running_correct: 45\n",
      "DEBUG:root:TRAIN: loss.item(): 1.3175300359725952, train_running_correct: 16\n"
     ]
    },
    {
     "name": "stdout",
     "output_type": "stream",
     "text": [
      "Epoch: 21/30, Training accuracy: 0.640000, Loss: 1.317530, Validation accuracy: 0.600000\n",
      "--------------------------------------------------\n"
     ]
    },
    {
     "name": "stderr",
     "output_type": "stream",
     "text": [
      "DEBUG:root:EVAL:   loss.item(): 0.39924776554107666 valid_running_correct: 35\n",
      "DEBUG:root:TRAIN: loss.item(): 1.225670576095581, train_running_correct: 18\n"
     ]
    },
    {
     "name": "stdout",
     "output_type": "stream",
     "text": [
      "Epoch: 22/30, Training accuracy: 0.720000, Loss: 1.225671, Validation accuracy: 0.466667\n",
      "--------------------------------------------------\n"
     ]
    },
    {
     "name": "stderr",
     "output_type": "stream",
     "text": [
      "DEBUG:root:EVAL:   loss.item(): 0.18998770415782928 valid_running_correct: 27\n",
      "DEBUG:root:TRAIN: loss.item(): 3.410677909851074, train_running_correct: 14\n"
     ]
    },
    {
     "name": "stdout",
     "output_type": "stream",
     "text": [
      "Epoch: 23/30, Training accuracy: 0.560000, Loss: 3.410678, Validation accuracy: 0.360000\n",
      "--------------------------------------------------\n"
     ]
    },
    {
     "name": "stderr",
     "output_type": "stream",
     "text": [
      "DEBUG:root:EVAL:   loss.item(): 0.23128347098827362 valid_running_correct: 45\n",
      "DEBUG:root:TRAIN: loss.item(): 1.653519630432129, train_running_correct: 13\n"
     ]
    },
    {
     "name": "stdout",
     "output_type": "stream",
     "text": [
      "Epoch: 24/30, Training accuracy: 0.520000, Loss: 1.653520, Validation accuracy: 0.600000\n",
      "--------------------------------------------------\n"
     ]
    },
    {
     "name": "stderr",
     "output_type": "stream",
     "text": [
      "DEBUG:root:EVAL:   loss.item(): 0.5198186039924622 valid_running_correct: 49\n",
      "DEBUG:root:TRAIN: loss.item(): 3.2087206840515137, train_running_correct: 18\n"
     ]
    },
    {
     "name": "stdout",
     "output_type": "stream",
     "text": [
      "Epoch: 25/30, Training accuracy: 0.720000, Loss: 3.208721, Validation accuracy: 0.653333\n",
      "--------------------------------------------------\n"
     ]
    },
    {
     "name": "stderr",
     "output_type": "stream",
     "text": [
      "DEBUG:root:EVAL:   loss.item(): 0.9947729110717773 valid_running_correct: 47\n",
      "DEBUG:root:TRAIN: loss.item(): 0.3201436996459961, train_running_correct: 14\n"
     ]
    },
    {
     "name": "stdout",
     "output_type": "stream",
     "text": [
      "Epoch: 26/30, Training accuracy: 0.560000, Loss: 0.320144, Validation accuracy: 0.626667\n",
      "--------------------------------------------------\n"
     ]
    },
    {
     "name": "stderr",
     "output_type": "stream",
     "text": [
      "DEBUG:root:EVAL:   loss.item(): 1.3144985437393188 valid_running_correct: 44\n",
      "DEBUG:root:TRAIN: loss.item(): 0.8341770172119141, train_running_correct: 15\n"
     ]
    },
    {
     "name": "stdout",
     "output_type": "stream",
     "text": [
      "Epoch: 27/30, Training accuracy: 0.600000, Loss: 0.834177, Validation accuracy: 0.586667\n",
      "--------------------------------------------------\n"
     ]
    },
    {
     "name": "stderr",
     "output_type": "stream",
     "text": [
      "DEBUG:root:EVAL:   loss.item(): 1.1218305826187134 valid_running_correct: 53\n",
      "DEBUG:root:TRAIN: loss.item(): 0.8702118396759033, train_running_correct: 14\n"
     ]
    },
    {
     "name": "stdout",
     "output_type": "stream",
     "text": [
      "Epoch: 28/30, Training accuracy: 0.560000, Loss: 0.870212, Validation accuracy: 0.706667\n",
      "--------------------------------------------------\n"
     ]
    },
    {
     "name": "stderr",
     "output_type": "stream",
     "text": [
      "DEBUG:root:EVAL:   loss.item(): 0.8593618273735046 valid_running_correct: 55\n",
      "DEBUG:root:TRAIN: loss.item(): 1.7468490600585938, train_running_correct: 14\n"
     ]
    },
    {
     "name": "stdout",
     "output_type": "stream",
     "text": [
      "Epoch: 29/30, Training accuracy: 0.560000, Loss: 1.746849, Validation accuracy: 0.733333\n",
      "--------------------------------------------------\n"
     ]
    },
    {
     "name": "stderr",
     "output_type": "stream",
     "text": [
      "DEBUG:root:EVAL:   loss.item(): 0.5547975897789001 valid_running_correct: 56\n",
      "DEBUG:root:TRAIN: loss.item(): 1.1851568222045898, train_running_correct: 18\n"
     ]
    },
    {
     "name": "stdout",
     "output_type": "stream",
     "text": [
      "Epoch: 30/30, Training accuracy: 0.720000, Loss: 1.185157, Validation accuracy: 0.746667\n",
      "--------------------------------------------------\n"
     ]
    },
    {
     "name": "stderr",
     "output_type": "stream",
     "text": [
      "DEBUG:root:EVAL:   loss.item(): 0.5547975897789001 valid_running_correct: 56\n",
      "DEBUG:root:Selecting 5 categories from ['AnnualCrop', 'Forest', 'HerbaceousVegetation', 'Highway', 'Industrial', 'Pasture', 'PermanentCrop', 'Residential', 'River', 'SeaLake'] categories\n",
      "DEBUG:root:Selected categories: ['PermanentCrop' 'HerbaceousVegetation' 'Pasture' 'Residential' 'River']\n",
      "DEBUG:root:Selected ['PermanentCrop_2290.jpg', 'PermanentCrop_2141.jpg', 'PermanentCrop_2272.jpg', 'PermanentCrop_1970.jpg', 'PermanentCrop_769.jpg', 'PermanentCrop_1195.jpg', 'PermanentCrop_2401.jpg', 'PermanentCrop_635.jpg', 'PermanentCrop_1701.jpg', 'PermanentCrop_1047.jpg', 'PermanentCrop_2231.jpg', 'PermanentCrop_918.jpg', 'PermanentCrop_779.jpg', 'PermanentCrop_1575.jpg', 'PermanentCrop_2163.jpg', 'PermanentCrop_1105.jpg', 'PermanentCrop_1388.jpg', 'PermanentCrop_1035.jpg', 'PermanentCrop_305.jpg', 'PermanentCrop_1062.jpg'] from PermanentCrop\n",
      "DEBUG:root:Creating PermanentCrop directory\n",
      "DEBUG:root:Selected ['HerbaceousVegetation_2196.jpg', 'HerbaceousVegetation_641.jpg', 'HerbaceousVegetation_2282.jpg', 'HerbaceousVegetation_228.jpg', 'HerbaceousVegetation_1753.jpg', 'HerbaceousVegetation_1944.jpg', 'HerbaceousVegetation_573.jpg', 'HerbaceousVegetation_2572.jpg', 'HerbaceousVegetation_2593.jpg', 'HerbaceousVegetation_2383.jpg', 'HerbaceousVegetation_274.jpg', 'HerbaceousVegetation_748.jpg', 'HerbaceousVegetation_2934.jpg', 'HerbaceousVegetation_2434.jpg', 'HerbaceousVegetation_2081.jpg', 'HerbaceousVegetation_1626.jpg', 'HerbaceousVegetation_277.jpg', 'HerbaceousVegetation_1025.jpg', 'HerbaceousVegetation_147.jpg', 'HerbaceousVegetation_1603.jpg'] from HerbaceousVegetation\n",
      "DEBUG:root:Creating HerbaceousVegetation directory\n",
      "DEBUG:root:Selected ['Pasture_1634.jpg', 'Pasture_407.jpg', 'Pasture_818.jpg', 'Pasture_1910.jpg', 'Pasture_26.jpg', 'Pasture_1617.jpg', 'Pasture_1398.jpg', 'Pasture_725.jpg', 'Pasture_267.jpg', 'Pasture_1419.jpg', 'Pasture_709.jpg', 'Pasture_1454.jpg', 'Pasture_1192.jpg', 'Pasture_778.jpg', 'Pasture_1047.jpg', 'Pasture_1150.jpg', 'Pasture_1372.jpg', 'Pasture_116.jpg', 'Pasture_254.jpg', 'Pasture_621.jpg'] from Pasture\n",
      "DEBUG:root:Creating Pasture directory\n",
      "DEBUG:root:Selected ['Residential_740.jpg', 'Residential_1117.jpg', 'Residential_1869.jpg', 'Residential_1682.jpg', 'Residential_2742.jpg', 'Residential_2187.jpg', 'Residential_1533.jpg', 'Residential_1283.jpg', 'Residential_1824.jpg', 'Residential_1221.jpg', 'Residential_2128.jpg', 'Residential_1558.jpg', 'Residential_1144.jpg', 'Residential_2510.jpg', 'Residential_1166.jpg', 'Residential_956.jpg', 'Residential_597.jpg', 'Residential_2631.jpg', 'Residential_1121.jpg', 'Residential_2582.jpg'] from Residential\n",
      "DEBUG:root:Creating Residential directory\n",
      "DEBUG:root:Selected ['River_1880.jpg', 'River_888.jpg', 'River_250.jpg', 'River_376.jpg', 'River_1089.jpg', 'River_485.jpg', 'River_61.jpg', 'River_1367.jpg', 'River_1563.jpg', 'River_430.jpg', 'River_787.jpg', 'River_1782.jpg', 'River_1097.jpg', 'River_986.jpg', 'River_1441.jpg', 'River_1315.jpg', 'River_980.jpg', 'River_1234.jpg', 'River_1158.jpg', 'River_1999.jpg'] from River\n",
      "DEBUG:root:Creating River directory\n",
      "DEBUG:root:Selected ['PermanentCrop_1388.jpg', 'PermanentCrop_635.jpg', 'PermanentCrop_1575.jpg', 'PermanentCrop_2163.jpg', 'PermanentCrop_305.jpg'] for training\n",
      "DEBUG:root:Creating PermanentCrop directory\n",
      "DEBUG:root:Selected ['HerbaceousVegetation_2934.jpg', 'HerbaceousVegetation_641.jpg', 'HerbaceousVegetation_1603.jpg', 'HerbaceousVegetation_1626.jpg', 'HerbaceousVegetation_2572.jpg'] for training\n",
      "DEBUG:root:Creating HerbaceousVegetation directory\n",
      "DEBUG:root:Selected ['Pasture_1150.jpg', 'Pasture_725.jpg', 'Pasture_1192.jpg', 'Pasture_1372.jpg', 'Pasture_1634.jpg'] for training\n",
      "DEBUG:root:Creating Pasture directory\n",
      "DEBUG:root:Selected ['Residential_1824.jpg', 'Residential_1682.jpg', 'Residential_597.jpg', 'Residential_2631.jpg', 'Residential_1533.jpg'] for training\n",
      "DEBUG:root:Creating Residential directory\n",
      "DEBUG:root:Selected ['River_1367.jpg', 'River_430.jpg', 'River_1097.jpg', 'River_980.jpg', 'River_61.jpg'] for training\n",
      "DEBUG:root:Creating River directory\n",
      "DEBUG:root: len(trainLoader.dataset): 25\n",
      "DEBUG:root: len(valLoader.dataset): 75\n"
     ]
    },
    {
     "name": "stdout",
     "output_type": "stream",
     "text": [
      "EuroSAT model 3/11 results: 0.747\n",
      "Training EuroSAT model 4/11\n",
      "Using CUDA\n",
      "Training\n"
     ]
    },
    {
     "name": "stderr",
     "output_type": "stream",
     "text": [
      "DEBUG:root:EVAL:   loss.item(): 3.0831851959228516 valid_running_correct: 25\n",
      "DEBUG:root:TRAIN: loss.item(): 0.7189623713493347, train_running_correct: 6\n"
     ]
    },
    {
     "name": "stdout",
     "output_type": "stream",
     "text": [
      "Epoch: 1/30, Training accuracy: 0.240000, Loss: 0.718962, Validation accuracy: 0.333333\n",
      "--------------------------------------------------\n"
     ]
    },
    {
     "name": "stderr",
     "output_type": "stream",
     "text": [
      "DEBUG:root:EVAL:   loss.item(): 3.262697219848633 valid_running_correct: 26\n",
      "DEBUG:root:TRAIN: loss.item(): 0.41777950525283813, train_running_correct: 8\n"
     ]
    },
    {
     "name": "stdout",
     "output_type": "stream",
     "text": [
      "Epoch: 2/30, Training accuracy: 0.320000, Loss: 0.417780, Validation accuracy: 0.346667\n",
      "--------------------------------------------------\n"
     ]
    },
    {
     "name": "stderr",
     "output_type": "stream",
     "text": [
      "DEBUG:root:EVAL:   loss.item(): 3.063898801803589 valid_running_correct: 22\n",
      "DEBUG:root:TRAIN: loss.item(): 2.3128626346588135, train_running_correct: 11\n"
     ]
    },
    {
     "name": "stdout",
     "output_type": "stream",
     "text": [
      "Epoch: 3/30, Training accuracy: 0.440000, Loss: 2.312863, Validation accuracy: 0.293333\n",
      "--------------------------------------------------\n"
     ]
    },
    {
     "name": "stderr",
     "output_type": "stream",
     "text": [
      "DEBUG:root:EVAL:   loss.item(): 2.9976806640625 valid_running_correct: 23\n",
      "DEBUG:root:TRAIN: loss.item(): 2.8932535648345947, train_running_correct: 9\n"
     ]
    },
    {
     "name": "stdout",
     "output_type": "stream",
     "text": [
      "Epoch: 4/30, Training accuracy: 0.360000, Loss: 2.893254, Validation accuracy: 0.306667\n",
      "--------------------------------------------------\n"
     ]
    },
    {
     "name": "stderr",
     "output_type": "stream",
     "text": [
      "DEBUG:root:EVAL:   loss.item(): 2.491988182067871 valid_running_correct: 25\n",
      "DEBUG:root:TRAIN: loss.item(): 2.8601622581481934, train_running_correct: 13\n"
     ]
    },
    {
     "name": "stdout",
     "output_type": "stream",
     "text": [
      "Epoch: 5/30, Training accuracy: 0.520000, Loss: 2.860162, Validation accuracy: 0.333333\n",
      "--------------------------------------------------\n"
     ]
    },
    {
     "name": "stderr",
     "output_type": "stream",
     "text": [
      "DEBUG:root:EVAL:   loss.item(): 2.056701898574829 valid_running_correct: 22\n",
      "DEBUG:root:TRAIN: loss.item(): 0.9743114709854126, train_running_correct: 8\n"
     ]
    },
    {
     "name": "stdout",
     "output_type": "stream",
     "text": [
      "Epoch: 6/30, Training accuracy: 0.320000, Loss: 0.974311, Validation accuracy: 0.293333\n",
      "--------------------------------------------------\n"
     ]
    },
    {
     "name": "stderr",
     "output_type": "stream",
     "text": [
      "DEBUG:root:EVAL:   loss.item(): 2.2714972496032715 valid_running_correct: 28\n",
      "DEBUG:root:TRAIN: loss.item(): 0.45956969261169434, train_running_correct: 11\n"
     ]
    },
    {
     "name": "stdout",
     "output_type": "stream",
     "text": [
      "Epoch: 7/30, Training accuracy: 0.440000, Loss: 0.459570, Validation accuracy: 0.373333\n",
      "--------------------------------------------------\n"
     ]
    },
    {
     "name": "stderr",
     "output_type": "stream",
     "text": [
      "DEBUG:root:EVAL:   loss.item(): 2.520432949066162 valid_running_correct: 31\n",
      "DEBUG:root:TRAIN: loss.item(): 3.8130695819854736, train_running_correct: 14\n"
     ]
    },
    {
     "name": "stdout",
     "output_type": "stream",
     "text": [
      "Epoch: 8/30, Training accuracy: 0.560000, Loss: 3.813070, Validation accuracy: 0.413333\n",
      "--------------------------------------------------\n"
     ]
    },
    {
     "name": "stderr",
     "output_type": "stream",
     "text": [
      "DEBUG:root:EVAL:   loss.item(): 1.9844890832901 valid_running_correct: 30\n",
      "DEBUG:root:TRAIN: loss.item(): 2.6140871047973633, train_running_correct: 14\n"
     ]
    },
    {
     "name": "stdout",
     "output_type": "stream",
     "text": [
      "Epoch: 9/30, Training accuracy: 0.560000, Loss: 2.614087, Validation accuracy: 0.400000\n",
      "--------------------------------------------------\n"
     ]
    },
    {
     "name": "stderr",
     "output_type": "stream",
     "text": [
      "DEBUG:root:EVAL:   loss.item(): 2.3142447471618652 valid_running_correct: 32\n",
      "DEBUG:root:TRAIN: loss.item(): 0.8241479396820068, train_running_correct: 18\n"
     ]
    },
    {
     "name": "stdout",
     "output_type": "stream",
     "text": [
      "Epoch: 10/30, Training accuracy: 0.720000, Loss: 0.824148, Validation accuracy: 0.426667\n",
      "--------------------------------------------------\n"
     ]
    },
    {
     "name": "stderr",
     "output_type": "stream",
     "text": [
      "DEBUG:root:EVAL:   loss.item(): 2.2901315689086914 valid_running_correct: 32\n",
      "DEBUG:root:TRAIN: loss.item(): 3.1250035762786865, train_running_correct: 11\n"
     ]
    },
    {
     "name": "stdout",
     "output_type": "stream",
     "text": [
      "Epoch: 11/30, Training accuracy: 0.440000, Loss: 3.125004, Validation accuracy: 0.426667\n",
      "--------------------------------------------------\n"
     ]
    },
    {
     "name": "stderr",
     "output_type": "stream",
     "text": [
      "DEBUG:root:EVAL:   loss.item(): 1.6138538122177124 valid_running_correct: 28\n",
      "DEBUG:root:TRAIN: loss.item(): 2.3548290729522705, train_running_correct: 12\n"
     ]
    },
    {
     "name": "stdout",
     "output_type": "stream",
     "text": [
      "Epoch: 12/30, Training accuracy: 0.480000, Loss: 2.354829, Validation accuracy: 0.373333\n",
      "--------------------------------------------------\n"
     ]
    },
    {
     "name": "stderr",
     "output_type": "stream",
     "text": [
      "DEBUG:root:EVAL:   loss.item(): 0.941634476184845 valid_running_correct: 32\n",
      "DEBUG:root:TRAIN: loss.item(): 1.1390289068222046, train_running_correct: 14\n"
     ]
    },
    {
     "name": "stdout",
     "output_type": "stream",
     "text": [
      "Epoch: 13/30, Training accuracy: 0.560000, Loss: 1.139029, Validation accuracy: 0.426667\n",
      "--------------------------------------------------\n"
     ]
    },
    {
     "name": "stderr",
     "output_type": "stream",
     "text": [
      "DEBUG:root:EVAL:   loss.item(): 0.8968672156333923 valid_running_correct: 36\n",
      "DEBUG:root:TRAIN: loss.item(): 4.643003940582275, train_running_correct: 14\n"
     ]
    },
    {
     "name": "stdout",
     "output_type": "stream",
     "text": [
      "Epoch: 14/30, Training accuracy: 0.560000, Loss: 4.643004, Validation accuracy: 0.480000\n",
      "--------------------------------------------------\n"
     ]
    },
    {
     "name": "stderr",
     "output_type": "stream",
     "text": [
      "DEBUG:root:EVAL:   loss.item(): 1.5302377939224243 valid_running_correct: 40\n",
      "DEBUG:root:TRAIN: loss.item(): 0.7090116739273071, train_running_correct: 19\n"
     ]
    },
    {
     "name": "stdout",
     "output_type": "stream",
     "text": [
      "Epoch: 15/30, Training accuracy: 0.760000, Loss: 0.709012, Validation accuracy: 0.533333\n",
      "--------------------------------------------------\n"
     ]
    },
    {
     "name": "stderr",
     "output_type": "stream",
     "text": [
      "DEBUG:root:EVAL:   loss.item(): 2.0570313930511475 valid_running_correct: 40\n",
      "DEBUG:root:TRAIN: loss.item(): 4.31550931930542, train_running_correct: 17\n"
     ]
    },
    {
     "name": "stdout",
     "output_type": "stream",
     "text": [
      "Epoch: 16/30, Training accuracy: 0.680000, Loss: 4.315509, Validation accuracy: 0.533333\n",
      "--------------------------------------------------\n"
     ]
    },
    {
     "name": "stderr",
     "output_type": "stream",
     "text": [
      "DEBUG:root:EVAL:   loss.item(): 2.2839009761810303 valid_running_correct: 41\n",
      "DEBUG:root:TRAIN: loss.item(): 2.1373417377471924, train_running_correct: 17\n"
     ]
    },
    {
     "name": "stdout",
     "output_type": "stream",
     "text": [
      "Epoch: 17/30, Training accuracy: 0.680000, Loss: 2.137342, Validation accuracy: 0.546667\n",
      "--------------------------------------------------\n"
     ]
    },
    {
     "name": "stderr",
     "output_type": "stream",
     "text": [
      "DEBUG:root:EVAL:   loss.item(): 2.4826266765594482 valid_running_correct: 45\n",
      "DEBUG:root:TRAIN: loss.item(): 2.847735643386841, train_running_correct: 20\n"
     ]
    },
    {
     "name": "stdout",
     "output_type": "stream",
     "text": [
      "Epoch: 18/30, Training accuracy: 0.800000, Loss: 2.847736, Validation accuracy: 0.600000\n",
      "--------------------------------------------------\n"
     ]
    },
    {
     "name": "stderr",
     "output_type": "stream",
     "text": [
      "DEBUG:root:EVAL:   loss.item(): 1.462933897972107 valid_running_correct: 38\n",
      "DEBUG:root:TRAIN: loss.item(): 3.34270977973938, train_running_correct: 16\n"
     ]
    },
    {
     "name": "stdout",
     "output_type": "stream",
     "text": [
      "Epoch: 19/30, Training accuracy: 0.640000, Loss: 3.342710, Validation accuracy: 0.506667\n",
      "--------------------------------------------------\n"
     ]
    },
    {
     "name": "stderr",
     "output_type": "stream",
     "text": [
      "DEBUG:root:EVAL:   loss.item(): 0.9656365513801575 valid_running_correct: 38\n",
      "DEBUG:root:TRAIN: loss.item(): 1.1388219594955444, train_running_correct: 23\n"
     ]
    },
    {
     "name": "stdout",
     "output_type": "stream",
     "text": [
      "Epoch: 20/30, Training accuracy: 0.920000, Loss: 1.138822, Validation accuracy: 0.506667\n",
      "--------------------------------------------------\n"
     ]
    },
    {
     "name": "stderr",
     "output_type": "stream",
     "text": [
      "DEBUG:root:EVAL:   loss.item(): 0.7351503372192383 valid_running_correct: 37\n",
      "DEBUG:root:TRAIN: loss.item(): 1.2203278541564941, train_running_correct: 20\n"
     ]
    },
    {
     "name": "stdout",
     "output_type": "stream",
     "text": [
      "Epoch: 21/30, Training accuracy: 0.800000, Loss: 1.220328, Validation accuracy: 0.493333\n",
      "--------------------------------------------------\n"
     ]
    },
    {
     "name": "stderr",
     "output_type": "stream",
     "text": [
      "DEBUG:root:EVAL:   loss.item(): 0.5026497840881348 valid_running_correct: 32\n",
      "DEBUG:root:TRAIN: loss.item(): 3.3347079753875732, train_running_correct: 15\n"
     ]
    },
    {
     "name": "stdout",
     "output_type": "stream",
     "text": [
      "Epoch: 22/30, Training accuracy: 0.600000, Loss: 3.334708, Validation accuracy: 0.426667\n",
      "--------------------------------------------------\n"
     ]
    },
    {
     "name": "stderr",
     "output_type": "stream",
     "text": [
      "DEBUG:root:EVAL:   loss.item(): 0.8218470215797424 valid_running_correct: 43\n",
      "DEBUG:root:TRAIN: loss.item(): 2.1692943572998047, train_running_correct: 19\n"
     ]
    },
    {
     "name": "stdout",
     "output_type": "stream",
     "text": [
      "Epoch: 23/30, Training accuracy: 0.760000, Loss: 2.169294, Validation accuracy: 0.573333\n",
      "--------------------------------------------------\n"
     ]
    },
    {
     "name": "stderr",
     "output_type": "stream",
     "text": [
      "DEBUG:root:EVAL:   loss.item(): 2.0302488803863525 valid_running_correct: 48\n",
      "DEBUG:root:TRAIN: loss.item(): 0.5796623229980469, train_running_correct: 23\n"
     ]
    },
    {
     "name": "stdout",
     "output_type": "stream",
     "text": [
      "Epoch: 24/30, Training accuracy: 0.920000, Loss: 0.579662, Validation accuracy: 0.640000\n",
      "--------------------------------------------------\n"
     ]
    },
    {
     "name": "stderr",
     "output_type": "stream",
     "text": [
      "DEBUG:root:EVAL:   loss.item(): 3.430176019668579 valid_running_correct: 44\n",
      "DEBUG:root:TRAIN: loss.item(): 3.681445598602295, train_running_correct: 18\n"
     ]
    },
    {
     "name": "stdout",
     "output_type": "stream",
     "text": [
      "Epoch: 25/30, Training accuracy: 0.720000, Loss: 3.681446, Validation accuracy: 0.586667\n",
      "--------------------------------------------------\n"
     ]
    },
    {
     "name": "stderr",
     "output_type": "stream",
     "text": [
      "DEBUG:root:EVAL:   loss.item(): 3.203596830368042 valid_running_correct: 45\n",
      "DEBUG:root:TRAIN: loss.item(): 3.8919262886047363, train_running_correct: 16\n"
     ]
    },
    {
     "name": "stdout",
     "output_type": "stream",
     "text": [
      "Epoch: 26/30, Training accuracy: 0.640000, Loss: 3.891926, Validation accuracy: 0.600000\n",
      "--------------------------------------------------\n"
     ]
    },
    {
     "name": "stderr",
     "output_type": "stream",
     "text": [
      "DEBUG:root:EVAL:   loss.item(): 2.8468639850616455 valid_running_correct: 37\n",
      "DEBUG:root:TRAIN: loss.item(): 2.4311065673828125, train_running_correct: 19\n"
     ]
    },
    {
     "name": "stdout",
     "output_type": "stream",
     "text": [
      "Epoch: 27/30, Training accuracy: 0.760000, Loss: 2.431107, Validation accuracy: 0.493333\n",
      "--------------------------------------------------\n"
     ]
    },
    {
     "name": "stderr",
     "output_type": "stream",
     "text": [
      "DEBUG:root:EVAL:   loss.item(): 2.906867265701294 valid_running_correct: 45\n",
      "DEBUG:root:TRAIN: loss.item(): 1.2261987924575806, train_running_correct: 18\n"
     ]
    },
    {
     "name": "stdout",
     "output_type": "stream",
     "text": [
      "Epoch: 28/30, Training accuracy: 0.720000, Loss: 1.226199, Validation accuracy: 0.600000\n",
      "--------------------------------------------------\n"
     ]
    },
    {
     "name": "stderr",
     "output_type": "stream",
     "text": [
      "DEBUG:root:EVAL:   loss.item(): 3.0790951251983643 valid_running_correct: 40\n",
      "DEBUG:root:TRAIN: loss.item(): 0.3162994086742401, train_running_correct: 20\n"
     ]
    },
    {
     "name": "stdout",
     "output_type": "stream",
     "text": [
      "Epoch: 29/30, Training accuracy: 0.800000, Loss: 0.316299, Validation accuracy: 0.533333\n",
      "--------------------------------------------------\n"
     ]
    },
    {
     "name": "stderr",
     "output_type": "stream",
     "text": [
      "DEBUG:root:EVAL:   loss.item(): 2.4356584548950195 valid_running_correct: 37\n",
      "DEBUG:root:TRAIN: loss.item(): 4.030773639678955, train_running_correct: 13\n"
     ]
    },
    {
     "name": "stdout",
     "output_type": "stream",
     "text": [
      "Epoch: 30/30, Training accuracy: 0.520000, Loss: 4.030774, Validation accuracy: 0.493333\n",
      "--------------------------------------------------\n"
     ]
    },
    {
     "name": "stderr",
     "output_type": "stream",
     "text": [
      "DEBUG:root:EVAL:   loss.item(): 2.4356584548950195 valid_running_correct: 37\n",
      "DEBUG:root:Selecting 5 categories from ['AnnualCrop', 'Forest', 'HerbaceousVegetation', 'Highway', 'Industrial', 'Pasture', 'PermanentCrop', 'Residential', 'River', 'SeaLake'] categories\n",
      "DEBUG:root:Selected categories: ['Residential' 'PermanentCrop' 'Highway' 'River' 'Industrial']\n",
      "DEBUG:root:Selected ['Residential_998.jpg', 'Residential_1462.jpg', 'Residential_1716.jpg', 'Residential_579.jpg', 'Residential_1955.jpg', 'Residential_1313.jpg', 'Residential_1810.jpg', 'Residential_1670.jpg', 'Residential_2764.jpg', 'Residential_2250.jpg', 'Residential_2479.jpg', 'Residential_160.jpg', 'Residential_2570.jpg', 'Residential_2086.jpg', 'Residential_1353.jpg', 'Residential_958.jpg', 'Residential_709.jpg', 'Residential_965.jpg', 'Residential_1248.jpg', 'Residential_1163.jpg'] from Residential\n",
      "DEBUG:root:Creating Residential directory\n",
      "DEBUG:root:Selected ['PermanentCrop_1202.jpg', 'PermanentCrop_2347.jpg', 'PermanentCrop_773.jpg', 'PermanentCrop_460.jpg', 'PermanentCrop_848.jpg', 'PermanentCrop_57.jpg', 'PermanentCrop_172.jpg', 'PermanentCrop_1397.jpg', 'PermanentCrop_47.jpg', 'PermanentCrop_584.jpg', 'PermanentCrop_448.jpg', 'PermanentCrop_1852.jpg', 'PermanentCrop_2285.jpg', 'PermanentCrop_2408.jpg', 'PermanentCrop_1307.jpg', 'PermanentCrop_1908.jpg', 'PermanentCrop_1508.jpg', 'PermanentCrop_732.jpg', 'PermanentCrop_93.jpg', 'PermanentCrop_1229.jpg'] from PermanentCrop\n",
      "DEBUG:root:Creating PermanentCrop directory\n",
      "DEBUG:root:Selected ['Highway_1822.jpg', 'Highway_2082.jpg', 'Highway_532.jpg', 'Highway_16.jpg', 'Highway_711.jpg', 'Highway_1929.jpg', 'Highway_400.jpg', 'Highway_982.jpg', 'Highway_896.jpg', 'Highway_1151.jpg', 'Highway_710.jpg', 'Highway_1750.jpg', 'Highway_157.jpg', 'Highway_1541.jpg', 'Highway_804.jpg', 'Highway_1196.jpg', 'Highway_1686.jpg', 'Highway_1786.jpg', 'Highway_1473.jpg', 'Highway_2464.jpg'] from Highway\n",
      "DEBUG:root:Creating Highway directory\n",
      "DEBUG:root:Selected ['River_78.jpg', 'River_2090.jpg', 'River_1406.jpg', 'River_166.jpg', 'River_1866.jpg', 'River_478.jpg', 'River_1432.jpg', 'River_457.jpg', 'River_1361.jpg', 'River_1899.jpg', 'River_1540.jpg', 'River_1178.jpg', 'River_1221.jpg', 'River_1518.jpg', 'River_2240.jpg', 'River_2077.jpg', 'River_317.jpg', 'River_2400.jpg', 'River_1986.jpg', 'River_1725.jpg'] from River\n",
      "DEBUG:root:Creating River directory\n",
      "DEBUG:root:Selected ['Industrial_2175.jpg', 'Industrial_1663.jpg', 'Industrial_2126.jpg', 'Industrial_1287.jpg', 'Industrial_2379.jpg', 'Industrial_388.jpg', 'Industrial_930.jpg', 'Industrial_1360.jpg', 'Industrial_1453.jpg', 'Industrial_518.jpg', 'Industrial_281.jpg', 'Industrial_876.jpg', 'Industrial_694.jpg', 'Industrial_180.jpg', 'Industrial_813.jpg', 'Industrial_1492.jpg', 'Industrial_136.jpg', 'Industrial_2307.jpg', 'Industrial_2457.jpg', 'Industrial_923.jpg'] from Industrial\n",
      "DEBUG:root:Creating Industrial directory\n",
      "DEBUG:root:Selected ['Residential_579.jpg', 'Residential_2764.jpg', 'Residential_2479.jpg', 'Residential_2086.jpg', 'Residential_160.jpg'] for training\n",
      "DEBUG:root:Creating Residential directory\n",
      "DEBUG:root:Selected ['PermanentCrop_848.jpg', 'PermanentCrop_460.jpg', 'PermanentCrop_1307.jpg', 'PermanentCrop_1229.jpg', 'PermanentCrop_1397.jpg'] for training\n",
      "DEBUG:root:Creating PermanentCrop directory\n",
      "DEBUG:root:Selected ['Highway_2464.jpg', 'Highway_1473.jpg', 'Highway_16.jpg', 'Highway_1822.jpg', 'Highway_1750.jpg'] for training\n",
      "DEBUG:root:Creating Highway directory\n",
      "DEBUG:root:Selected ['River_478.jpg', 'River_317.jpg', 'River_1725.jpg', 'River_1406.jpg', 'River_166.jpg'] for training\n",
      "DEBUG:root:Creating River directory\n",
      "DEBUG:root:Selected ['Industrial_1663.jpg', 'Industrial_136.jpg', 'Industrial_2457.jpg', 'Industrial_388.jpg', 'Industrial_930.jpg'] for training\n",
      "DEBUG:root:Creating Industrial directory\n",
      "DEBUG:root: len(trainLoader.dataset): 25\n",
      "DEBUG:root: len(valLoader.dataset): 75\n"
     ]
    },
    {
     "name": "stdout",
     "output_type": "stream",
     "text": [
      "EuroSAT model 4/11 results: 0.493\n",
      "Training EuroSAT model 5/11\n",
      "Using CUDA\n",
      "Training\n"
     ]
    },
    {
     "name": "stderr",
     "output_type": "stream",
     "text": [
      "DEBUG:root:EVAL:   loss.item(): 0.31154099106788635 valid_running_correct: 30\n",
      "DEBUG:root:TRAIN: loss.item(): 5.2904462814331055, train_running_correct: 14\n"
     ]
    },
    {
     "name": "stdout",
     "output_type": "stream",
     "text": [
      "Epoch: 1/30, Training accuracy: 0.560000, Loss: 5.290446, Validation accuracy: 0.400000\n",
      "--------------------------------------------------\n"
     ]
    },
    {
     "name": "stderr",
     "output_type": "stream",
     "text": [
      "DEBUG:root:EVAL:   loss.item(): 0.41677942872047424 valid_running_correct: 29\n",
      "DEBUG:root:TRAIN: loss.item(): 1.8870700597763062, train_running_correct: 11\n"
     ]
    },
    {
     "name": "stdout",
     "output_type": "stream",
     "text": [
      "Epoch: 2/30, Training accuracy: 0.440000, Loss: 1.887070, Validation accuracy: 0.386667\n",
      "--------------------------------------------------\n"
     ]
    },
    {
     "name": "stderr",
     "output_type": "stream",
     "text": [
      "DEBUG:root:EVAL:   loss.item(): 0.5697349905967712 valid_running_correct: 16\n",
      "DEBUG:root:TRAIN: loss.item(): 1.4920485019683838, train_running_correct: 9\n"
     ]
    },
    {
     "name": "stdout",
     "output_type": "stream",
     "text": [
      "Epoch: 3/30, Training accuracy: 0.360000, Loss: 1.492049, Validation accuracy: 0.213333\n",
      "--------------------------------------------------\n"
     ]
    },
    {
     "name": "stderr",
     "output_type": "stream",
     "text": [
      "DEBUG:root:EVAL:   loss.item(): 0.9783525466918945 valid_running_correct: 14\n",
      "DEBUG:root:TRAIN: loss.item(): 0.2872227132320404, train_running_correct: 7\n"
     ]
    },
    {
     "name": "stdout",
     "output_type": "stream",
     "text": [
      "Epoch: 4/30, Training accuracy: 0.280000, Loss: 0.287223, Validation accuracy: 0.186667\n",
      "--------------------------------------------------\n"
     ]
    },
    {
     "name": "stderr",
     "output_type": "stream",
     "text": [
      "DEBUG:root:EVAL:   loss.item(): 1.0770372152328491 valid_running_correct: 13\n",
      "DEBUG:root:TRAIN: loss.item(): 0.0931859165430069, train_running_correct: 11\n"
     ]
    },
    {
     "name": "stdout",
     "output_type": "stream",
     "text": [
      "Epoch: 5/30, Training accuracy: 0.440000, Loss: 0.093186, Validation accuracy: 0.173333\n",
      "--------------------------------------------------\n"
     ]
    },
    {
     "name": "stderr",
     "output_type": "stream",
     "text": [
      "DEBUG:root:EVAL:   loss.item(): 0.7562663555145264 valid_running_correct: 15\n",
      "DEBUG:root:TRAIN: loss.item(): 3.9988577365875244, train_running_correct: 6\n"
     ]
    },
    {
     "name": "stdout",
     "output_type": "stream",
     "text": [
      "Epoch: 6/30, Training accuracy: 0.240000, Loss: 3.998858, Validation accuracy: 0.200000\n",
      "--------------------------------------------------\n"
     ]
    },
    {
     "name": "stderr",
     "output_type": "stream",
     "text": [
      "DEBUG:root:EVAL:   loss.item(): 0.26887422800064087 valid_running_correct: 22\n",
      "DEBUG:root:TRAIN: loss.item(): 0.9383091330528259, train_running_correct: 4\n"
     ]
    },
    {
     "name": "stdout",
     "output_type": "stream",
     "text": [
      "Epoch: 7/30, Training accuracy: 0.160000, Loss: 0.938309, Validation accuracy: 0.293333\n",
      "--------------------------------------------------\n"
     ]
    },
    {
     "name": "stderr",
     "output_type": "stream",
     "text": [
      "DEBUG:root:EVAL:   loss.item(): 0.13421499729156494 valid_running_correct: 25\n",
      "DEBUG:root:TRAIN: loss.item(): 2.471487045288086, train_running_correct: 11\n"
     ]
    },
    {
     "name": "stdout",
     "output_type": "stream",
     "text": [
      "Epoch: 8/30, Training accuracy: 0.440000, Loss: 2.471487, Validation accuracy: 0.333333\n",
      "--------------------------------------------------\n"
     ]
    },
    {
     "name": "stderr",
     "output_type": "stream",
     "text": [
      "DEBUG:root:EVAL:   loss.item(): 0.13904784619808197 valid_running_correct: 29\n",
      "DEBUG:root:TRAIN: loss.item(): 2.5773277282714844, train_running_correct: 13\n"
     ]
    },
    {
     "name": "stdout",
     "output_type": "stream",
     "text": [
      "Epoch: 9/30, Training accuracy: 0.520000, Loss: 2.577328, Validation accuracy: 0.386667\n",
      "--------------------------------------------------\n"
     ]
    },
    {
     "name": "stderr",
     "output_type": "stream",
     "text": [
      "DEBUG:root:EVAL:   loss.item(): 0.21819281578063965 valid_running_correct: 25\n",
      "DEBUG:root:TRAIN: loss.item(): 1.9487464427947998, train_running_correct: 13\n"
     ]
    },
    {
     "name": "stdout",
     "output_type": "stream",
     "text": [
      "Epoch: 10/30, Training accuracy: 0.520000, Loss: 1.948746, Validation accuracy: 0.333333\n",
      "--------------------------------------------------\n"
     ]
    },
    {
     "name": "stderr",
     "output_type": "stream",
     "text": [
      "DEBUG:root:EVAL:   loss.item(): 0.2915738523006439 valid_running_correct: 26\n",
      "DEBUG:root:TRAIN: loss.item(): 1.9352874755859375, train_running_correct: 11\n"
     ]
    },
    {
     "name": "stdout",
     "output_type": "stream",
     "text": [
      "Epoch: 11/30, Training accuracy: 0.440000, Loss: 1.935287, Validation accuracy: 0.346667\n",
      "--------------------------------------------------\n"
     ]
    },
    {
     "name": "stderr",
     "output_type": "stream",
     "text": [
      "DEBUG:root:EVAL:   loss.item(): 0.44290080666542053 valid_running_correct: 20\n",
      "DEBUG:root:TRAIN: loss.item(): 1.141161322593689, train_running_correct: 13\n"
     ]
    },
    {
     "name": "stdout",
     "output_type": "stream",
     "text": [
      "Epoch: 12/30, Training accuracy: 0.520000, Loss: 1.141161, Validation accuracy: 0.266667\n",
      "--------------------------------------------------\n"
     ]
    },
    {
     "name": "stderr",
     "output_type": "stream",
     "text": [
      "DEBUG:root:EVAL:   loss.item(): 0.4887676537036896 valid_running_correct: 19\n",
      "DEBUG:root:TRAIN: loss.item(): 1.0301494598388672, train_running_correct: 11\n"
     ]
    },
    {
     "name": "stdout",
     "output_type": "stream",
     "text": [
      "Epoch: 13/30, Training accuracy: 0.440000, Loss: 1.030149, Validation accuracy: 0.253333\n",
      "--------------------------------------------------\n"
     ]
    },
    {
     "name": "stderr",
     "output_type": "stream",
     "text": [
      "DEBUG:root:EVAL:   loss.item(): 0.2894361913204193 valid_running_correct: 23\n",
      "DEBUG:root:TRAIN: loss.item(): 3.304486036300659, train_running_correct: 15\n"
     ]
    },
    {
     "name": "stdout",
     "output_type": "stream",
     "text": [
      "Epoch: 14/30, Training accuracy: 0.600000, Loss: 3.304486, Validation accuracy: 0.306667\n",
      "--------------------------------------------------\n"
     ]
    },
    {
     "name": "stderr",
     "output_type": "stream",
     "text": [
      "DEBUG:root:EVAL:   loss.item(): 0.11712460964918137 valid_running_correct: 27\n",
      "DEBUG:root:TRAIN: loss.item(): 2.061873197555542, train_running_correct: 14\n"
     ]
    },
    {
     "name": "stdout",
     "output_type": "stream",
     "text": [
      "Epoch: 15/30, Training accuracy: 0.560000, Loss: 2.061873, Validation accuracy: 0.360000\n",
      "--------------------------------------------------\n"
     ]
    },
    {
     "name": "stderr",
     "output_type": "stream",
     "text": [
      "DEBUG:root:EVAL:   loss.item(): 0.22279693186283112 valid_running_correct: 29\n",
      "DEBUG:root:TRAIN: loss.item(): 0.8369612693786621, train_running_correct: 18\n"
     ]
    },
    {
     "name": "stdout",
     "output_type": "stream",
     "text": [
      "Epoch: 16/30, Training accuracy: 0.720000, Loss: 0.836961, Validation accuracy: 0.386667\n",
      "--------------------------------------------------\n"
     ]
    },
    {
     "name": "stderr",
     "output_type": "stream",
     "text": [
      "DEBUG:root:EVAL:   loss.item(): 0.439153790473938 valid_running_correct: 29\n",
      "DEBUG:root:TRAIN: loss.item(): 3.9572842121124268, train_running_correct: 14\n"
     ]
    },
    {
     "name": "stdout",
     "output_type": "stream",
     "text": [
      "Epoch: 17/30, Training accuracy: 0.560000, Loss: 3.957284, Validation accuracy: 0.386667\n",
      "--------------------------------------------------\n"
     ]
    },
    {
     "name": "stderr",
     "output_type": "stream",
     "text": [
      "DEBUG:root:EVAL:   loss.item(): 0.2813045084476471 valid_running_correct: 30\n",
      "DEBUG:root:TRAIN: loss.item(): 2.786292552947998, train_running_correct: 11\n"
     ]
    },
    {
     "name": "stdout",
     "output_type": "stream",
     "text": [
      "Epoch: 18/30, Training accuracy: 0.440000, Loss: 2.786293, Validation accuracy: 0.400000\n",
      "--------------------------------------------------\n"
     ]
    },
    {
     "name": "stderr",
     "output_type": "stream",
     "text": [
      "DEBUG:root:EVAL:   loss.item(): 0.20603764057159424 valid_running_correct: 30\n",
      "DEBUG:root:TRAIN: loss.item(): 1.3697352409362793, train_running_correct: 16\n"
     ]
    },
    {
     "name": "stdout",
     "output_type": "stream",
     "text": [
      "Epoch: 19/30, Training accuracy: 0.640000, Loss: 1.369735, Validation accuracy: 0.400000\n",
      "--------------------------------------------------\n"
     ]
    },
    {
     "name": "stderr",
     "output_type": "stream",
     "text": [
      "DEBUG:root:EVAL:   loss.item(): 0.3883775472640991 valid_running_correct: 28\n",
      "DEBUG:root:TRAIN: loss.item(): 3.9602761268615723, train_running_correct: 13\n"
     ]
    },
    {
     "name": "stdout",
     "output_type": "stream",
     "text": [
      "Epoch: 20/30, Training accuracy: 0.520000, Loss: 3.960276, Validation accuracy: 0.373333\n",
      "--------------------------------------------------\n"
     ]
    },
    {
     "name": "stderr",
     "output_type": "stream",
     "text": [
      "DEBUG:root:EVAL:   loss.item(): 0.49428895115852356 valid_running_correct: 29\n",
      "DEBUG:root:TRAIN: loss.item(): 2.1339762210845947, train_running_correct: 14\n"
     ]
    },
    {
     "name": "stdout",
     "output_type": "stream",
     "text": [
      "Epoch: 21/30, Training accuracy: 0.560000, Loss: 2.133976, Validation accuracy: 0.386667\n",
      "--------------------------------------------------\n"
     ]
    },
    {
     "name": "stderr",
     "output_type": "stream",
     "text": [
      "DEBUG:root:EVAL:   loss.item(): 0.3282754719257355 valid_running_correct: 35\n",
      "DEBUG:root:TRAIN: loss.item(): 3.468632936477661, train_running_correct: 16\n"
     ]
    },
    {
     "name": "stdout",
     "output_type": "stream",
     "text": [
      "Epoch: 22/30, Training accuracy: 0.640000, Loss: 3.468633, Validation accuracy: 0.466667\n",
      "--------------------------------------------------\n"
     ]
    },
    {
     "name": "stderr",
     "output_type": "stream",
     "text": [
      "DEBUG:root:EVAL:   loss.item(): 0.14502565562725067 valid_running_correct: 38\n",
      "DEBUG:root:TRAIN: loss.item(): 4.041445255279541, train_running_correct: 16\n"
     ]
    },
    {
     "name": "stdout",
     "output_type": "stream",
     "text": [
      "Epoch: 23/30, Training accuracy: 0.640000, Loss: 4.041445, Validation accuracy: 0.506667\n",
      "--------------------------------------------------\n"
     ]
    },
    {
     "name": "stderr",
     "output_type": "stream",
     "text": [
      "DEBUG:root:EVAL:   loss.item(): 0.24228103458881378 valid_running_correct: 35\n",
      "DEBUG:root:TRAIN: loss.item(): 1.2389304637908936, train_running_correct: 17\n"
     ]
    },
    {
     "name": "stdout",
     "output_type": "stream",
     "text": [
      "Epoch: 24/30, Training accuracy: 0.680000, Loss: 1.238930, Validation accuracy: 0.466667\n",
      "--------------------------------------------------\n"
     ]
    },
    {
     "name": "stderr",
     "output_type": "stream",
     "text": [
      "DEBUG:root:EVAL:   loss.item(): 0.40466031432151794 valid_running_correct: 33\n",
      "DEBUG:root:TRAIN: loss.item(): 1.0623605251312256, train_running_correct: 17\n"
     ]
    },
    {
     "name": "stdout",
     "output_type": "stream",
     "text": [
      "Epoch: 25/30, Training accuracy: 0.680000, Loss: 1.062361, Validation accuracy: 0.440000\n",
      "--------------------------------------------------\n"
     ]
    },
    {
     "name": "stderr",
     "output_type": "stream",
     "text": [
      "DEBUG:root:EVAL:   loss.item(): 0.8766836524009705 valid_running_correct: 28\n",
      "DEBUG:root:TRAIN: loss.item(): 3.6395998001098633, train_running_correct: 13\n"
     ]
    },
    {
     "name": "stdout",
     "output_type": "stream",
     "text": [
      "Epoch: 26/30, Training accuracy: 0.520000, Loss: 3.639600, Validation accuracy: 0.373333\n",
      "--------------------------------------------------\n"
     ]
    },
    {
     "name": "stderr",
     "output_type": "stream",
     "text": [
      "DEBUG:root:EVAL:   loss.item(): 0.627236008644104 valid_running_correct: 35\n",
      "DEBUG:root:TRAIN: loss.item(): 4.494339942932129, train_running_correct: 19\n"
     ]
    },
    {
     "name": "stdout",
     "output_type": "stream",
     "text": [
      "Epoch: 27/30, Training accuracy: 0.760000, Loss: 4.494340, Validation accuracy: 0.466667\n",
      "--------------------------------------------------\n"
     ]
    },
    {
     "name": "stderr",
     "output_type": "stream",
     "text": [
      "DEBUG:root:EVAL:   loss.item(): 0.35293975472450256 valid_running_correct: 42\n",
      "DEBUG:root:TRAIN: loss.item(): 1.884913682937622, train_running_correct: 15\n"
     ]
    },
    {
     "name": "stdout",
     "output_type": "stream",
     "text": [
      "Epoch: 28/30, Training accuracy: 0.600000, Loss: 1.884914, Validation accuracy: 0.560000\n",
      "--------------------------------------------------\n"
     ]
    },
    {
     "name": "stderr",
     "output_type": "stream",
     "text": [
      "DEBUG:root:EVAL:   loss.item(): 0.09438387304544449 valid_running_correct: 38\n",
      "DEBUG:root:TRAIN: loss.item(): 1.5969889163970947, train_running_correct: 20\n"
     ]
    },
    {
     "name": "stdout",
     "output_type": "stream",
     "text": [
      "Epoch: 29/30, Training accuracy: 0.800000, Loss: 1.596989, Validation accuracy: 0.506667\n",
      "--------------------------------------------------\n"
     ]
    },
    {
     "name": "stderr",
     "output_type": "stream",
     "text": [
      "DEBUG:root:EVAL:   loss.item(): 0.1112104058265686 valid_running_correct: 33\n",
      "DEBUG:root:TRAIN: loss.item(): 4.201440334320068, train_running_correct: 16\n"
     ]
    },
    {
     "name": "stdout",
     "output_type": "stream",
     "text": [
      "Epoch: 30/30, Training accuracy: 0.640000, Loss: 4.201440, Validation accuracy: 0.440000\n",
      "--------------------------------------------------\n"
     ]
    },
    {
     "name": "stderr",
     "output_type": "stream",
     "text": [
      "DEBUG:root:EVAL:   loss.item(): 0.1112104058265686 valid_running_correct: 33\n",
      "DEBUG:root:Selecting 5 categories from ['AnnualCrop', 'Forest', 'HerbaceousVegetation', 'Highway', 'Industrial', 'Pasture', 'PermanentCrop', 'Residential', 'River', 'SeaLake'] categories\n",
      "DEBUG:root:Selected categories: ['Forest' 'Highway' 'River' 'AnnualCrop' 'Industrial']\n",
      "DEBUG:root:Selected ['Forest_2636.jpg', 'Forest_2930.jpg', 'Forest_2983.jpg', 'Forest_859.jpg', 'Forest_2775.jpg', 'Forest_24.jpg', 'Forest_1267.jpg', 'Forest_2179.jpg', 'Forest_2225.jpg', 'Forest_619.jpg', 'Forest_1136.jpg', 'Forest_803.jpg', 'Forest_2037.jpg', 'Forest_2189.jpg', 'Forest_1479.jpg', 'Forest_2081.jpg', 'Forest_114.jpg', 'Forest_1521.jpg', 'Forest_2676.jpg', 'Forest_1385.jpg'] from Forest\n",
      "DEBUG:root:Creating Forest directory\n",
      "DEBUG:root:Selected ['Highway_494.jpg', 'Highway_1811.jpg', 'Highway_1316.jpg', 'Highway_1056.jpg', 'Highway_909.jpg', 'Highway_1135.jpg', 'Highway_993.jpg', 'Highway_471.jpg', 'Highway_11.jpg', 'Highway_2118.jpg', 'Highway_117.jpg', 'Highway_141.jpg', 'Highway_1989.jpg', 'Highway_2163.jpg', 'Highway_493.jpg', 'Highway_384.jpg', 'Highway_2021.jpg', 'Highway_1237.jpg', 'Highway_1335.jpg', 'Highway_1723.jpg'] from Highway\n",
      "DEBUG:root:Creating Highway directory\n",
      "DEBUG:root:Selected ['River_2043.jpg', 'River_1475.jpg', 'River_1470.jpg', 'River_801.jpg', 'River_1056.jpg', 'River_1224.jpg', 'River_227.jpg', 'River_2014.jpg', 'River_419.jpg', 'River_2499.jpg', 'River_1563.jpg', 'River_2363.jpg', 'River_1583.jpg', 'River_1385.jpg', 'River_213.jpg', 'River_1212.jpg', 'River_2258.jpg', 'River_260.jpg', 'River_1550.jpg', 'River_1596.jpg'] from River\n",
      "DEBUG:root:Creating River directory\n",
      "DEBUG:root:Selected ['AnnualCrop_63.jpg', 'AnnualCrop_1481.jpg', 'AnnualCrop_400.jpg', 'AnnualCrop_1714.jpg', 'AnnualCrop_2539.jpg', 'AnnualCrop_2623.jpg', 'AnnualCrop_954.jpg', 'AnnualCrop_735.jpg', 'AnnualCrop_1260.jpg', 'AnnualCrop_2235.jpg', 'AnnualCrop_275.jpg', 'AnnualCrop_432.jpg', 'AnnualCrop_814.jpg', 'AnnualCrop_979.jpg', 'AnnualCrop_1391.jpg', 'AnnualCrop_2083.jpg', 'AnnualCrop_203.jpg', 'AnnualCrop_632.jpg', 'AnnualCrop_111.jpg', 'AnnualCrop_2466.jpg'] from AnnualCrop\n",
      "DEBUG:root:Creating AnnualCrop directory\n",
      "DEBUG:root:Selected ['Industrial_2189.jpg', 'Industrial_1045.jpg', 'Industrial_789.jpg', 'Industrial_1402.jpg', 'Industrial_1163.jpg', 'Industrial_2339.jpg', 'Industrial_1145.jpg', 'Industrial_1425.jpg', 'Industrial_1891.jpg', 'Industrial_158.jpg', 'Industrial_2348.jpg', 'Industrial_2134.jpg', 'Industrial_574.jpg', 'Industrial_190.jpg', 'Industrial_1928.jpg', 'Industrial_1531.jpg', 'Industrial_1602.jpg', 'Industrial_1.jpg', 'Industrial_1071.jpg', 'Industrial_2064.jpg'] from Industrial\n",
      "DEBUG:root:Creating Industrial directory\n",
      "DEBUG:root:Selected ['Forest_2676.jpg', 'Forest_2037.jpg', 'Forest_619.jpg', 'Forest_2179.jpg', 'Forest_2225.jpg'] for training\n",
      "DEBUG:root:Creating Forest directory\n",
      "DEBUG:root:Selected ['Highway_2021.jpg', 'Highway_1135.jpg', 'Highway_494.jpg', 'Highway_471.jpg', 'Highway_1316.jpg'] for training\n",
      "DEBUG:root:Creating Highway directory\n",
      "DEBUG:root:Selected ['River_1470.jpg', 'River_2258.jpg', 'River_1563.jpg', 'River_1212.jpg', 'River_1385.jpg'] for training\n",
      "DEBUG:root:Creating River directory\n",
      "DEBUG:root:Selected ['AnnualCrop_2539.jpg', 'AnnualCrop_954.jpg', 'AnnualCrop_275.jpg', 'AnnualCrop_1481.jpg', 'AnnualCrop_432.jpg'] for training\n",
      "DEBUG:root:Creating AnnualCrop directory\n",
      "DEBUG:root:Selected ['Industrial_1928.jpg', 'Industrial_190.jpg', 'Industrial_789.jpg', 'Industrial_1402.jpg', 'Industrial_1891.jpg'] for training\n",
      "DEBUG:root:Creating Industrial directory\n",
      "DEBUG:root: len(trainLoader.dataset): 25\n",
      "DEBUG:root: len(valLoader.dataset): 75\n"
     ]
    },
    {
     "name": "stdout",
     "output_type": "stream",
     "text": [
      "EuroSAT model 5/11 results: 0.440\n",
      "Training EuroSAT model 6/11\n",
      "Using CUDA\n",
      "Training\n"
     ]
    },
    {
     "name": "stderr",
     "output_type": "stream",
     "text": [
      "DEBUG:root:EVAL:   loss.item(): 0.1409447342157364 valid_running_correct: 27\n",
      "DEBUG:root:TRAIN: loss.item(): 2.1629528999328613, train_running_correct: 6\n"
     ]
    },
    {
     "name": "stdout",
     "output_type": "stream",
     "text": [
      "Epoch: 1/30, Training accuracy: 0.240000, Loss: 2.162953, Validation accuracy: 0.360000\n",
      "--------------------------------------------------\n"
     ]
    },
    {
     "name": "stderr",
     "output_type": "stream",
     "text": [
      "DEBUG:root:EVAL:   loss.item(): 0.17825011909008026 valid_running_correct: 25\n",
      "DEBUG:root:TRAIN: loss.item(): 1.319232702255249, train_running_correct: 7\n"
     ]
    },
    {
     "name": "stdout",
     "output_type": "stream",
     "text": [
      "Epoch: 2/30, Training accuracy: 0.280000, Loss: 1.319233, Validation accuracy: 0.333333\n",
      "--------------------------------------------------\n"
     ]
    },
    {
     "name": "stderr",
     "output_type": "stream",
     "text": [
      "DEBUG:root:EVAL:   loss.item(): 0.19718414545059204 valid_running_correct: 25\n",
      "DEBUG:root:TRAIN: loss.item(): 0.9534047245979309, train_running_correct: 6\n"
     ]
    },
    {
     "name": "stdout",
     "output_type": "stream",
     "text": [
      "Epoch: 3/30, Training accuracy: 0.240000, Loss: 0.953405, Validation accuracy: 0.333333\n",
      "--------------------------------------------------\n"
     ]
    },
    {
     "name": "stderr",
     "output_type": "stream",
     "text": [
      "DEBUG:root:EVAL:   loss.item(): 0.37596237659454346 valid_running_correct: 31\n",
      "DEBUG:root:TRAIN: loss.item(): 1.2047803401947021, train_running_correct: 8\n"
     ]
    },
    {
     "name": "stdout",
     "output_type": "stream",
     "text": [
      "Epoch: 4/30, Training accuracy: 0.320000, Loss: 1.204780, Validation accuracy: 0.413333\n",
      "--------------------------------------------------\n"
     ]
    },
    {
     "name": "stderr",
     "output_type": "stream",
     "text": [
      "DEBUG:root:EVAL:   loss.item(): 0.4477948248386383 valid_running_correct: 34\n",
      "DEBUG:root:TRAIN: loss.item(): 1.2833714485168457, train_running_correct: 6\n"
     ]
    },
    {
     "name": "stdout",
     "output_type": "stream",
     "text": [
      "Epoch: 5/30, Training accuracy: 0.240000, Loss: 1.283371, Validation accuracy: 0.453333\n",
      "--------------------------------------------------\n"
     ]
    },
    {
     "name": "stderr",
     "output_type": "stream",
     "text": [
      "DEBUG:root:EVAL:   loss.item(): 0.9333366751670837 valid_running_correct: 31\n",
      "DEBUG:root:TRAIN: loss.item(): 1.3855655193328857, train_running_correct: 9\n"
     ]
    },
    {
     "name": "stdout",
     "output_type": "stream",
     "text": [
      "Epoch: 6/30, Training accuracy: 0.360000, Loss: 1.385566, Validation accuracy: 0.413333\n",
      "--------------------------------------------------\n"
     ]
    },
    {
     "name": "stderr",
     "output_type": "stream",
     "text": [
      "DEBUG:root:EVAL:   loss.item(): 1.4236822128295898 valid_running_correct: 30\n",
      "DEBUG:root:TRAIN: loss.item(): 2.6395699977874756, train_running_correct: 13\n"
     ]
    },
    {
     "name": "stdout",
     "output_type": "stream",
     "text": [
      "Epoch: 7/30, Training accuracy: 0.520000, Loss: 2.639570, Validation accuracy: 0.400000\n",
      "--------------------------------------------------\n"
     ]
    },
    {
     "name": "stderr",
     "output_type": "stream",
     "text": [
      "DEBUG:root:EVAL:   loss.item(): 1.1926745176315308 valid_running_correct: 31\n",
      "DEBUG:root:TRAIN: loss.item(): 3.0497360229492188, train_running_correct: 9\n"
     ]
    },
    {
     "name": "stdout",
     "output_type": "stream",
     "text": [
      "Epoch: 8/30, Training accuracy: 0.360000, Loss: 3.049736, Validation accuracy: 0.413333\n",
      "--------------------------------------------------\n"
     ]
    },
    {
     "name": "stderr",
     "output_type": "stream",
     "text": [
      "DEBUG:root:EVAL:   loss.item(): 0.7478349208831787 valid_running_correct: 37\n",
      "DEBUG:root:TRAIN: loss.item(): 3.0183095932006836, train_running_correct: 12\n"
     ]
    },
    {
     "name": "stdout",
     "output_type": "stream",
     "text": [
      "Epoch: 9/30, Training accuracy: 0.480000, Loss: 3.018310, Validation accuracy: 0.493333\n",
      "--------------------------------------------------\n"
     ]
    },
    {
     "name": "stderr",
     "output_type": "stream",
     "text": [
      "DEBUG:root:EVAL:   loss.item(): 0.22686238586902618 valid_running_correct: 36\n",
      "DEBUG:root:TRAIN: loss.item(): 1.4120845794677734, train_running_correct: 10\n"
     ]
    },
    {
     "name": "stdout",
     "output_type": "stream",
     "text": [
      "Epoch: 10/30, Training accuracy: 0.400000, Loss: 1.412085, Validation accuracy: 0.480000\n",
      "--------------------------------------------------\n"
     ]
    },
    {
     "name": "stderr",
     "output_type": "stream",
     "text": [
      "DEBUG:root:EVAL:   loss.item(): 0.0788431391119957 valid_running_correct: 31\n",
      "DEBUG:root:TRAIN: loss.item(): 2.0894927978515625, train_running_correct: 14\n"
     ]
    },
    {
     "name": "stdout",
     "output_type": "stream",
     "text": [
      "Epoch: 11/30, Training accuracy: 0.560000, Loss: 2.089493, Validation accuracy: 0.413333\n",
      "--------------------------------------------------\n"
     ]
    },
    {
     "name": "stderr",
     "output_type": "stream",
     "text": [
      "DEBUG:root:EVAL:   loss.item(): 0.21154248714447021 valid_running_correct: 35\n",
      "DEBUG:root:TRAIN: loss.item(): 1.2662971019744873, train_running_correct: 9\n"
     ]
    },
    {
     "name": "stdout",
     "output_type": "stream",
     "text": [
      "Epoch: 12/30, Training accuracy: 0.360000, Loss: 1.266297, Validation accuracy: 0.466667\n",
      "--------------------------------------------------\n"
     ]
    },
    {
     "name": "stderr",
     "output_type": "stream",
     "text": [
      "DEBUG:root:EVAL:   loss.item(): 0.9045286178588867 valid_running_correct: 33\n",
      "DEBUG:root:TRAIN: loss.item(): 3.8678834438323975, train_running_correct: 14\n"
     ]
    },
    {
     "name": "stdout",
     "output_type": "stream",
     "text": [
      "Epoch: 13/30, Training accuracy: 0.560000, Loss: 3.867883, Validation accuracy: 0.440000\n",
      "--------------------------------------------------\n"
     ]
    },
    {
     "name": "stderr",
     "output_type": "stream",
     "text": [
      "DEBUG:root:EVAL:   loss.item(): 1.4841899871826172 valid_running_correct: 30\n",
      "DEBUG:root:TRAIN: loss.item(): 0.5245584845542908, train_running_correct: 14\n"
     ]
    },
    {
     "name": "stdout",
     "output_type": "stream",
     "text": [
      "Epoch: 14/30, Training accuracy: 0.560000, Loss: 0.524558, Validation accuracy: 0.400000\n",
      "--------------------------------------------------\n"
     ]
    },
    {
     "name": "stderr",
     "output_type": "stream",
     "text": [
      "DEBUG:root:EVAL:   loss.item(): 1.751561164855957 valid_running_correct: 30\n",
      "DEBUG:root:TRAIN: loss.item(): 3.3826630115509033, train_running_correct: 12\n"
     ]
    },
    {
     "name": "stdout",
     "output_type": "stream",
     "text": [
      "Epoch: 15/30, Training accuracy: 0.480000, Loss: 3.382663, Validation accuracy: 0.400000\n",
      "--------------------------------------------------\n"
     ]
    },
    {
     "name": "stderr",
     "output_type": "stream",
     "text": [
      "DEBUG:root:EVAL:   loss.item(): 0.8768928050994873 valid_running_correct: 34\n",
      "DEBUG:root:TRAIN: loss.item(): 1.8963038921356201, train_running_correct: 15\n"
     ]
    },
    {
     "name": "stdout",
     "output_type": "stream",
     "text": [
      "Epoch: 16/30, Training accuracy: 0.600000, Loss: 1.896304, Validation accuracy: 0.453333\n",
      "--------------------------------------------------\n"
     ]
    },
    {
     "name": "stderr",
     "output_type": "stream",
     "text": [
      "DEBUG:root:EVAL:   loss.item(): 0.4962597191333771 valid_running_correct: 39\n",
      "DEBUG:root:TRAIN: loss.item(): 1.4590215682983398, train_running_correct: 12\n"
     ]
    },
    {
     "name": "stdout",
     "output_type": "stream",
     "text": [
      "Epoch: 17/30, Training accuracy: 0.480000, Loss: 1.459022, Validation accuracy: 0.520000\n",
      "--------------------------------------------------\n"
     ]
    },
    {
     "name": "stderr",
     "output_type": "stream",
     "text": [
      "DEBUG:root:EVAL:   loss.item(): 0.33323201537132263 valid_running_correct: 44\n",
      "DEBUG:root:TRAIN: loss.item(): 0.9281444549560547, train_running_correct: 15\n"
     ]
    },
    {
     "name": "stdout",
     "output_type": "stream",
     "text": [
      "Epoch: 18/30, Training accuracy: 0.600000, Loss: 0.928144, Validation accuracy: 0.586667\n",
      "--------------------------------------------------\n"
     ]
    },
    {
     "name": "stderr",
     "output_type": "stream",
     "text": [
      "DEBUG:root:EVAL:   loss.item(): 0.5621704459190369 valid_running_correct: 44\n",
      "DEBUG:root:TRAIN: loss.item(): 3.9962830543518066, train_running_correct: 17\n"
     ]
    },
    {
     "name": "stdout",
     "output_type": "stream",
     "text": [
      "Epoch: 19/30, Training accuracy: 0.680000, Loss: 3.996283, Validation accuracy: 0.586667\n",
      "--------------------------------------------------\n"
     ]
    },
    {
     "name": "stderr",
     "output_type": "stream",
     "text": [
      "DEBUG:root:EVAL:   loss.item(): 0.533053457736969 valid_running_correct: 51\n",
      "DEBUG:root:TRAIN: loss.item(): 3.4745142459869385, train_running_correct: 18\n"
     ]
    },
    {
     "name": "stdout",
     "output_type": "stream",
     "text": [
      "Epoch: 20/30, Training accuracy: 0.720000, Loss: 3.474514, Validation accuracy: 0.680000\n",
      "--------------------------------------------------\n"
     ]
    },
    {
     "name": "stderr",
     "output_type": "stream",
     "text": [
      "DEBUG:root:EVAL:   loss.item(): 0.9469711184501648 valid_running_correct: 35\n",
      "DEBUG:root:TRAIN: loss.item(): 1.4096192121505737, train_running_correct: 20\n"
     ]
    },
    {
     "name": "stdout",
     "output_type": "stream",
     "text": [
      "Epoch: 21/30, Training accuracy: 0.800000, Loss: 1.409619, Validation accuracy: 0.466667\n",
      "--------------------------------------------------\n"
     ]
    },
    {
     "name": "stderr",
     "output_type": "stream",
     "text": [
      "DEBUG:root:EVAL:   loss.item(): 1.290977120399475 valid_running_correct: 31\n",
      "DEBUG:root:TRAIN: loss.item(): 2.1350064277648926, train_running_correct: 14\n"
     ]
    },
    {
     "name": "stdout",
     "output_type": "stream",
     "text": [
      "Epoch: 22/30, Training accuracy: 0.560000, Loss: 2.135006, Validation accuracy: 0.413333\n",
      "--------------------------------------------------\n"
     ]
    },
    {
     "name": "stderr",
     "output_type": "stream",
     "text": [
      "DEBUG:root:EVAL:   loss.item(): 1.1958688497543335 valid_running_correct: 35\n",
      "DEBUG:root:TRAIN: loss.item(): 3.814701557159424, train_running_correct: 14\n"
     ]
    },
    {
     "name": "stdout",
     "output_type": "stream",
     "text": [
      "Epoch: 23/30, Training accuracy: 0.560000, Loss: 3.814702, Validation accuracy: 0.466667\n",
      "--------------------------------------------------\n"
     ]
    },
    {
     "name": "stderr",
     "output_type": "stream",
     "text": [
      "DEBUG:root:EVAL:   loss.item(): 0.7908113598823547 valid_running_correct: 47\n",
      "DEBUG:root:TRAIN: loss.item(): 3.4091010093688965, train_running_correct: 14\n"
     ]
    },
    {
     "name": "stdout",
     "output_type": "stream",
     "text": [
      "Epoch: 24/30, Training accuracy: 0.560000, Loss: 3.409101, Validation accuracy: 0.626667\n",
      "--------------------------------------------------\n"
     ]
    },
    {
     "name": "stderr",
     "output_type": "stream",
     "text": [
      "DEBUG:root:EVAL:   loss.item(): 0.7966375350952148 valid_running_correct: 55\n",
      "DEBUG:root:TRAIN: loss.item(): 2.050513982772827, train_running_correct: 21\n"
     ]
    },
    {
     "name": "stdout",
     "output_type": "stream",
     "text": [
      "Epoch: 25/30, Training accuracy: 0.840000, Loss: 2.050514, Validation accuracy: 0.733333\n",
      "--------------------------------------------------\n"
     ]
    },
    {
     "name": "stderr",
     "output_type": "stream",
     "text": [
      "DEBUG:root:EVAL:   loss.item(): 0.3409712016582489 valid_running_correct: 51\n",
      "DEBUG:root:TRAIN: loss.item(): 1.5030922889709473, train_running_correct: 21\n"
     ]
    },
    {
     "name": "stdout",
     "output_type": "stream",
     "text": [
      "Epoch: 26/30, Training accuracy: 0.840000, Loss: 1.503092, Validation accuracy: 0.680000\n",
      "--------------------------------------------------\n"
     ]
    },
    {
     "name": "stderr",
     "output_type": "stream",
     "text": [
      "DEBUG:root:EVAL:   loss.item(): 0.2752739191055298 valid_running_correct: 51\n",
      "DEBUG:root:TRAIN: loss.item(): 1.2744380235671997, train_running_correct: 17\n"
     ]
    },
    {
     "name": "stdout",
     "output_type": "stream",
     "text": [
      "Epoch: 27/30, Training accuracy: 0.680000, Loss: 1.274438, Validation accuracy: 0.680000\n",
      "--------------------------------------------------\n"
     ]
    },
    {
     "name": "stderr",
     "output_type": "stream",
     "text": [
      "DEBUG:root:EVAL:   loss.item(): 0.3210609257221222 valid_running_correct: 39\n",
      "DEBUG:root:TRAIN: loss.item(): 1.4279260635375977, train_running_correct: 14\n"
     ]
    },
    {
     "name": "stdout",
     "output_type": "stream",
     "text": [
      "Epoch: 28/30, Training accuracy: 0.560000, Loss: 1.427926, Validation accuracy: 0.520000\n",
      "--------------------------------------------------\n"
     ]
    },
    {
     "name": "stderr",
     "output_type": "stream",
     "text": [
      "DEBUG:root:EVAL:   loss.item(): 0.11092964559793472 valid_running_correct: 41\n",
      "DEBUG:root:TRAIN: loss.item(): 0.7303541898727417, train_running_correct: 15\n"
     ]
    },
    {
     "name": "stdout",
     "output_type": "stream",
     "text": [
      "Epoch: 29/30, Training accuracy: 0.600000, Loss: 0.730354, Validation accuracy: 0.546667\n",
      "--------------------------------------------------\n"
     ]
    },
    {
     "name": "stderr",
     "output_type": "stream",
     "text": [
      "DEBUG:root:EVAL:   loss.item(): 0.08677032589912415 valid_running_correct: 41\n",
      "DEBUG:root:TRAIN: loss.item(): 5.293246269226074, train_running_correct: 15\n"
     ]
    },
    {
     "name": "stdout",
     "output_type": "stream",
     "text": [
      "Epoch: 30/30, Training accuracy: 0.600000, Loss: 5.293246, Validation accuracy: 0.546667\n",
      "--------------------------------------------------\n"
     ]
    },
    {
     "name": "stderr",
     "output_type": "stream",
     "text": [
      "DEBUG:root:EVAL:   loss.item(): 0.08677032589912415 valid_running_correct: 41\n",
      "DEBUG:root:Selecting 5 categories from ['AnnualCrop', 'Forest', 'HerbaceousVegetation', 'Highway', 'Industrial', 'Pasture', 'PermanentCrop', 'Residential', 'River', 'SeaLake'] categories\n",
      "DEBUG:root:Selected categories: ['Pasture' 'SeaLake' 'HerbaceousVegetation' 'River' 'Highway']\n",
      "DEBUG:root:Selected ['Pasture_30.jpg', 'Pasture_789.jpg', 'Pasture_779.jpg', 'Pasture_1012.jpg', 'Pasture_757.jpg', 'Pasture_1423.jpg', 'Pasture_1252.jpg', 'Pasture_32.jpg', 'Pasture_1040.jpg', 'Pasture_861.jpg', 'Pasture_255.jpg', 'Pasture_664.jpg', 'Pasture_1054.jpg', 'Pasture_983.jpg', 'Pasture_345.jpg', 'Pasture_403.jpg', 'Pasture_1665.jpg', 'Pasture_1264.jpg', 'Pasture_1780.jpg', 'Pasture_1405.jpg'] from Pasture\n",
      "DEBUG:root:Creating Pasture directory\n",
      "DEBUG:root:Selected ['SeaLake_1100.jpg', 'SeaLake_1640.jpg', 'SeaLake_991.jpg', 'SeaLake_2443.jpg', 'SeaLake_1229.jpg', 'SeaLake_2525.jpg', 'SeaLake_650.jpg', 'SeaLake_2600.jpg', 'SeaLake_1296.jpg', 'SeaLake_415.jpg', 'SeaLake_758.jpg', 'SeaLake_2123.jpg', 'SeaLake_1852.jpg', 'SeaLake_2402.jpg', 'SeaLake_830.jpg', 'SeaLake_231.jpg', 'SeaLake_813.jpg', 'SeaLake_2690.jpg', 'SeaLake_2508.jpg', 'SeaLake_288.jpg'] from SeaLake\n",
      "DEBUG:root:Creating SeaLake directory\n",
      "DEBUG:root:Selected ['HerbaceousVegetation_1839.jpg', 'HerbaceousVegetation_1397.jpg', 'HerbaceousVegetation_1968.jpg', 'HerbaceousVegetation_782.jpg', 'HerbaceousVegetation_2379.jpg', 'HerbaceousVegetation_1987.jpg', 'HerbaceousVegetation_1892.jpg', 'HerbaceousVegetation_1024.jpg', 'HerbaceousVegetation_530.jpg', 'HerbaceousVegetation_1049.jpg', 'HerbaceousVegetation_402.jpg', 'HerbaceousVegetation_2766.jpg', 'HerbaceousVegetation_2652.jpg', 'HerbaceousVegetation_2441.jpg', 'HerbaceousVegetation_2758.jpg', 'HerbaceousVegetation_2138.jpg', 'HerbaceousVegetation_2819.jpg', 'HerbaceousVegetation_2805.jpg', 'HerbaceousVegetation_787.jpg', 'HerbaceousVegetation_930.jpg'] from HerbaceousVegetation\n",
      "DEBUG:root:Creating HerbaceousVegetation directory\n",
      "DEBUG:root:Selected ['River_240.jpg', 'River_373.jpg', 'River_49.jpg', 'River_2418.jpg', 'River_316.jpg', 'River_82.jpg', 'River_728.jpg', 'River_820.jpg', 'River_1108.jpg', 'River_2075.jpg', 'River_1036.jpg', 'River_1051.jpg', 'River_983.jpg', 'River_2312.jpg', 'River_1380.jpg', 'River_1309.jpg', 'River_1850.jpg', 'River_1970.jpg', 'River_930.jpg', 'River_1811.jpg'] from River\n",
      "DEBUG:root:Creating River directory\n",
      "DEBUG:root:Selected ['Highway_1223.jpg', 'Highway_2214.jpg', 'Highway_1566.jpg', 'Highway_1691.jpg', 'Highway_311.jpg', 'Highway_664.jpg', 'Highway_1546.jpg', 'Highway_1442.jpg', 'Highway_260.jpg', 'Highway_667.jpg', 'Highway_1448.jpg', 'Highway_1074.jpg', 'Highway_1823.jpg', 'Highway_956.jpg', 'Highway_1072.jpg', 'Highway_830.jpg', 'Highway_1858.jpg', 'Highway_17.jpg', 'Highway_1152.jpg', 'Highway_2393.jpg'] from Highway\n",
      "DEBUG:root:Creating Highway directory\n",
      "DEBUG:root:Selected ['Pasture_1405.jpg', 'Pasture_1040.jpg', 'Pasture_757.jpg', 'Pasture_32.jpg', 'Pasture_1252.jpg'] for training\n",
      "DEBUG:root:Creating Pasture directory\n",
      "DEBUG:root:Selected ['SeaLake_2600.jpg', 'SeaLake_1852.jpg', 'SeaLake_1640.jpg', 'SeaLake_2508.jpg', 'SeaLake_813.jpg'] for training\n",
      "DEBUG:root:Creating SeaLake directory\n",
      "DEBUG:root:Selected ['HerbaceousVegetation_1024.jpg', 'HerbaceousVegetation_530.jpg', 'HerbaceousVegetation_2652.jpg', 'HerbaceousVegetation_2138.jpg', 'HerbaceousVegetation_930.jpg'] for training\n",
      "DEBUG:root:Creating HerbaceousVegetation directory\n",
      "DEBUG:root:Selected ['River_1036.jpg', 'River_240.jpg', 'River_2312.jpg', 'River_2075.jpg', 'River_373.jpg'] for training\n",
      "DEBUG:root:Creating River directory\n",
      "DEBUG:root:Selected ['Highway_17.jpg', 'Highway_1074.jpg', 'Highway_1691.jpg', 'Highway_1072.jpg', 'Highway_667.jpg'] for training\n",
      "DEBUG:root:Creating Highway directory\n",
      "DEBUG:root: len(trainLoader.dataset): 25\n",
      "DEBUG:root: len(valLoader.dataset): 75\n"
     ]
    },
    {
     "name": "stdout",
     "output_type": "stream",
     "text": [
      "EuroSAT model 6/11 results: 0.547\n",
      "Training EuroSAT model 7/11\n",
      "Using CUDA\n",
      "Training\n"
     ]
    },
    {
     "name": "stderr",
     "output_type": "stream",
     "text": [
      "DEBUG:root:EVAL:   loss.item(): 0.2971649467945099 valid_running_correct: 17\n",
      "DEBUG:root:TRAIN: loss.item(): 0.5306552052497864, train_running_correct: 4\n"
     ]
    },
    {
     "name": "stdout",
     "output_type": "stream",
     "text": [
      "Epoch: 1/30, Training accuracy: 0.160000, Loss: 0.530655, Validation accuracy: 0.226667\n",
      "--------------------------------------------------\n"
     ]
    },
    {
     "name": "stderr",
     "output_type": "stream",
     "text": [
      "DEBUG:root:EVAL:   loss.item(): 0.5612704157829285 valid_running_correct: 20\n",
      "DEBUG:root:TRAIN: loss.item(): 1.1008323431015015, train_running_correct: 5\n"
     ]
    },
    {
     "name": "stdout",
     "output_type": "stream",
     "text": [
      "Epoch: 2/30, Training accuracy: 0.200000, Loss: 1.100832, Validation accuracy: 0.266667\n",
      "--------------------------------------------------\n"
     ]
    },
    {
     "name": "stderr",
     "output_type": "stream",
     "text": [
      "DEBUG:root:EVAL:   loss.item(): 0.711556613445282 valid_running_correct: 21\n",
      "DEBUG:root:TRAIN: loss.item(): 3.3882553577423096, train_running_correct: 6\n"
     ]
    },
    {
     "name": "stdout",
     "output_type": "stream",
     "text": [
      "Epoch: 3/30, Training accuracy: 0.240000, Loss: 3.388255, Validation accuracy: 0.280000\n",
      "--------------------------------------------------\n"
     ]
    },
    {
     "name": "stderr",
     "output_type": "stream",
     "text": [
      "DEBUG:root:EVAL:   loss.item(): 0.8547134399414062 valid_running_correct: 19\n",
      "DEBUG:root:TRAIN: loss.item(): 0.6689460277557373, train_running_correct: 4\n"
     ]
    },
    {
     "name": "stdout",
     "output_type": "stream",
     "text": [
      "Epoch: 4/30, Training accuracy: 0.160000, Loss: 0.668946, Validation accuracy: 0.253333\n",
      "--------------------------------------------------\n"
     ]
    },
    {
     "name": "stderr",
     "output_type": "stream",
     "text": [
      "DEBUG:root:EVAL:   loss.item(): 0.8359971642494202 valid_running_correct: 19\n",
      "DEBUG:root:TRAIN: loss.item(): 3.903308868408203, train_running_correct: 5\n"
     ]
    },
    {
     "name": "stdout",
     "output_type": "stream",
     "text": [
      "Epoch: 5/30, Training accuracy: 0.200000, Loss: 3.903309, Validation accuracy: 0.253333\n",
      "--------------------------------------------------\n"
     ]
    },
    {
     "name": "stderr",
     "output_type": "stream",
     "text": [
      "DEBUG:root:EVAL:   loss.item(): 0.3770037889480591 valid_running_correct: 27\n",
      "DEBUG:root:TRAIN: loss.item(): 1.996176838874817, train_running_correct: 5\n"
     ]
    },
    {
     "name": "stdout",
     "output_type": "stream",
     "text": [
      "Epoch: 6/30, Training accuracy: 0.200000, Loss: 1.996177, Validation accuracy: 0.360000\n",
      "--------------------------------------------------\n"
     ]
    },
    {
     "name": "stderr",
     "output_type": "stream",
     "text": [
      "DEBUG:root:EVAL:   loss.item(): 0.260837197303772 valid_running_correct: 28\n",
      "DEBUG:root:TRAIN: loss.item(): 2.0700583457946777, train_running_correct: 7\n"
     ]
    },
    {
     "name": "stdout",
     "output_type": "stream",
     "text": [
      "Epoch: 7/30, Training accuracy: 0.280000, Loss: 2.070058, Validation accuracy: 0.373333\n",
      "--------------------------------------------------\n"
     ]
    },
    {
     "name": "stderr",
     "output_type": "stream",
     "text": [
      "DEBUG:root:EVAL:   loss.item(): 0.1844080537557602 valid_running_correct: 28\n",
      "DEBUG:root:TRAIN: loss.item(): 2.1746816635131836, train_running_correct: 9\n"
     ]
    },
    {
     "name": "stdout",
     "output_type": "stream",
     "text": [
      "Epoch: 8/30, Training accuracy: 0.360000, Loss: 2.174682, Validation accuracy: 0.373333\n",
      "--------------------------------------------------\n"
     ]
    },
    {
     "name": "stderr",
     "output_type": "stream",
     "text": [
      "DEBUG:root:EVAL:   loss.item(): 0.1792905479669571 valid_running_correct: 29\n",
      "DEBUG:root:TRAIN: loss.item(): 1.9056347608566284, train_running_correct: 13\n"
     ]
    },
    {
     "name": "stdout",
     "output_type": "stream",
     "text": [
      "Epoch: 9/30, Training accuracy: 0.520000, Loss: 1.905635, Validation accuracy: 0.386667\n",
      "--------------------------------------------------\n"
     ]
    },
    {
     "name": "stderr",
     "output_type": "stream",
     "text": [
      "DEBUG:root:EVAL:   loss.item(): 0.1276576668024063 valid_running_correct: 33\n",
      "DEBUG:root:TRAIN: loss.item(): 1.0025891065597534, train_running_correct: 13\n"
     ]
    },
    {
     "name": "stdout",
     "output_type": "stream",
     "text": [
      "Epoch: 10/30, Training accuracy: 0.520000, Loss: 1.002589, Validation accuracy: 0.440000\n",
      "--------------------------------------------------\n"
     ]
    },
    {
     "name": "stderr",
     "output_type": "stream",
     "text": [
      "DEBUG:root:EVAL:   loss.item(): 0.10326427221298218 valid_running_correct: 34\n",
      "DEBUG:root:TRAIN: loss.item(): 0.48050540685653687, train_running_correct: 10\n"
     ]
    },
    {
     "name": "stdout",
     "output_type": "stream",
     "text": [
      "Epoch: 11/30, Training accuracy: 0.400000, Loss: 0.480505, Validation accuracy: 0.453333\n",
      "--------------------------------------------------\n"
     ]
    },
    {
     "name": "stderr",
     "output_type": "stream",
     "text": [
      "DEBUG:root:EVAL:   loss.item(): 0.10774419456720352 valid_running_correct: 35\n",
      "DEBUG:root:TRAIN: loss.item(): 2.9048898220062256, train_running_correct: 13\n"
     ]
    },
    {
     "name": "stdout",
     "output_type": "stream",
     "text": [
      "Epoch: 12/30, Training accuracy: 0.520000, Loss: 2.904890, Validation accuracy: 0.466667\n",
      "--------------------------------------------------\n"
     ]
    },
    {
     "name": "stderr",
     "output_type": "stream",
     "text": [
      "DEBUG:root:EVAL:   loss.item(): 0.12673123180866241 valid_running_correct: 35\n",
      "DEBUG:root:TRAIN: loss.item(): 1.068925142288208, train_running_correct: 13\n"
     ]
    },
    {
     "name": "stdout",
     "output_type": "stream",
     "text": [
      "Epoch: 13/30, Training accuracy: 0.520000, Loss: 1.068925, Validation accuracy: 0.466667\n",
      "--------------------------------------------------\n"
     ]
    },
    {
     "name": "stderr",
     "output_type": "stream",
     "text": [
      "DEBUG:root:EVAL:   loss.item(): 0.23169703781604767 valid_running_correct: 33\n",
      "DEBUG:root:TRAIN: loss.item(): 3.0141682624816895, train_running_correct: 10\n"
     ]
    },
    {
     "name": "stdout",
     "output_type": "stream",
     "text": [
      "Epoch: 14/30, Training accuracy: 0.400000, Loss: 3.014168, Validation accuracy: 0.440000\n",
      "--------------------------------------------------\n"
     ]
    },
    {
     "name": "stderr",
     "output_type": "stream",
     "text": [
      "DEBUG:root:EVAL:   loss.item(): 0.09501924365758896 valid_running_correct: 32\n",
      "DEBUG:root:TRAIN: loss.item(): 1.2805153131484985, train_running_correct: 16\n"
     ]
    },
    {
     "name": "stdout",
     "output_type": "stream",
     "text": [
      "Epoch: 15/30, Training accuracy: 0.640000, Loss: 1.280515, Validation accuracy: 0.426667\n",
      "--------------------------------------------------\n"
     ]
    },
    {
     "name": "stderr",
     "output_type": "stream",
     "text": [
      "DEBUG:root:EVAL:   loss.item(): 0.094282366335392 valid_running_correct: 32\n",
      "DEBUG:root:TRAIN: loss.item(): 1.910243272781372, train_running_correct: 13\n"
     ]
    },
    {
     "name": "stdout",
     "output_type": "stream",
     "text": [
      "Epoch: 16/30, Training accuracy: 0.520000, Loss: 1.910243, Validation accuracy: 0.426667\n",
      "--------------------------------------------------\n"
     ]
    },
    {
     "name": "stderr",
     "output_type": "stream",
     "text": [
      "DEBUG:root:EVAL:   loss.item(): 0.028607463464140892 valid_running_correct: 29\n",
      "DEBUG:root:TRAIN: loss.item(): 2.000225067138672, train_running_correct: 17\n"
     ]
    },
    {
     "name": "stdout",
     "output_type": "stream",
     "text": [
      "Epoch: 17/30, Training accuracy: 0.680000, Loss: 2.000225, Validation accuracy: 0.386667\n",
      "--------------------------------------------------\n"
     ]
    },
    {
     "name": "stderr",
     "output_type": "stream",
     "text": [
      "DEBUG:root:EVAL:   loss.item(): 0.042417485266923904 valid_running_correct: 30\n",
      "DEBUG:root:TRAIN: loss.item(): 1.117260217666626, train_running_correct: 15\n"
     ]
    },
    {
     "name": "stdout",
     "output_type": "stream",
     "text": [
      "Epoch: 18/30, Training accuracy: 0.600000, Loss: 1.117260, Validation accuracy: 0.400000\n",
      "--------------------------------------------------\n"
     ]
    },
    {
     "name": "stderr",
     "output_type": "stream",
     "text": [
      "DEBUG:root:EVAL:   loss.item(): 0.03616352006793022 valid_running_correct: 30\n",
      "DEBUG:root:TRAIN: loss.item(): 0.9010448455810547, train_running_correct: 15\n"
     ]
    },
    {
     "name": "stdout",
     "output_type": "stream",
     "text": [
      "Epoch: 19/30, Training accuracy: 0.600000, Loss: 0.901045, Validation accuracy: 0.400000\n",
      "--------------------------------------------------\n"
     ]
    },
    {
     "name": "stderr",
     "output_type": "stream",
     "text": [
      "DEBUG:root:EVAL:   loss.item(): 0.031112225726246834 valid_running_correct: 28\n",
      "DEBUG:root:TRAIN: loss.item(): 1.99513578414917, train_running_correct: 17\n"
     ]
    },
    {
     "name": "stdout",
     "output_type": "stream",
     "text": [
      "Epoch: 20/30, Training accuracy: 0.680000, Loss: 1.995136, Validation accuracy: 0.373333\n",
      "--------------------------------------------------\n"
     ]
    },
    {
     "name": "stderr",
     "output_type": "stream",
     "text": [
      "DEBUG:root:EVAL:   loss.item(): 0.049139510840177536 valid_running_correct: 40\n",
      "DEBUG:root:TRAIN: loss.item(): 1.1721220016479492, train_running_correct: 20\n"
     ]
    },
    {
     "name": "stdout",
     "output_type": "stream",
     "text": [
      "Epoch: 21/30, Training accuracy: 0.800000, Loss: 1.172122, Validation accuracy: 0.533333\n",
      "--------------------------------------------------\n"
     ]
    },
    {
     "name": "stderr",
     "output_type": "stream",
     "text": [
      "DEBUG:root:EVAL:   loss.item(): 0.146823450922966 valid_running_correct: 42\n",
      "DEBUG:root:TRAIN: loss.item(): 2.0697851181030273, train_running_correct: 16\n"
     ]
    },
    {
     "name": "stdout",
     "output_type": "stream",
     "text": [
      "Epoch: 22/30, Training accuracy: 0.640000, Loss: 2.069785, Validation accuracy: 0.560000\n",
      "--------------------------------------------------\n"
     ]
    },
    {
     "name": "stderr",
     "output_type": "stream",
     "text": [
      "DEBUG:root:EVAL:   loss.item(): 0.36002016067504883 valid_running_correct: 39\n",
      "DEBUG:root:TRAIN: loss.item(): 0.8623945713043213, train_running_correct: 19\n"
     ]
    },
    {
     "name": "stdout",
     "output_type": "stream",
     "text": [
      "Epoch: 23/30, Training accuracy: 0.760000, Loss: 0.862395, Validation accuracy: 0.520000\n",
      "--------------------------------------------------\n"
     ]
    },
    {
     "name": "stderr",
     "output_type": "stream",
     "text": [
      "DEBUG:root:EVAL:   loss.item(): 0.6333315372467041 valid_running_correct: 33\n",
      "DEBUG:root:TRAIN: loss.item(): 4.938100814819336, train_running_correct: 12\n"
     ]
    },
    {
     "name": "stdout",
     "output_type": "stream",
     "text": [
      "Epoch: 24/30, Training accuracy: 0.480000, Loss: 4.938101, Validation accuracy: 0.440000\n",
      "--------------------------------------------------\n"
     ]
    },
    {
     "name": "stderr",
     "output_type": "stream",
     "text": [
      "DEBUG:root:EVAL:   loss.item(): 0.5306198596954346 valid_running_correct: 39\n",
      "DEBUG:root:TRAIN: loss.item(): 0.42452436685562134, train_running_correct: 18\n"
     ]
    },
    {
     "name": "stdout",
     "output_type": "stream",
     "text": [
      "Epoch: 25/30, Training accuracy: 0.720000, Loss: 0.424524, Validation accuracy: 0.520000\n",
      "--------------------------------------------------\n"
     ]
    },
    {
     "name": "stderr",
     "output_type": "stream",
     "text": [
      "DEBUG:root:EVAL:   loss.item(): 0.2294623851776123 valid_running_correct: 42\n",
      "DEBUG:root:TRAIN: loss.item(): 2.9656691551208496, train_running_correct: 22\n"
     ]
    },
    {
     "name": "stdout",
     "output_type": "stream",
     "text": [
      "Epoch: 26/30, Training accuracy: 0.880000, Loss: 2.965669, Validation accuracy: 0.560000\n",
      "--------------------------------------------------\n"
     ]
    },
    {
     "name": "stderr",
     "output_type": "stream",
     "text": [
      "DEBUG:root:EVAL:   loss.item(): 0.16741840541362762 valid_running_correct: 38\n",
      "DEBUG:root:TRAIN: loss.item(): 1.5883619785308838, train_running_correct: 20\n"
     ]
    },
    {
     "name": "stdout",
     "output_type": "stream",
     "text": [
      "Epoch: 27/30, Training accuracy: 0.800000, Loss: 1.588362, Validation accuracy: 0.506667\n",
      "--------------------------------------------------\n"
     ]
    },
    {
     "name": "stderr",
     "output_type": "stream",
     "text": [
      "DEBUG:root:EVAL:   loss.item(): 0.18562787771224976 valid_running_correct: 39\n",
      "DEBUG:root:TRAIN: loss.item(): 2.1559395790100098, train_running_correct: 19\n"
     ]
    },
    {
     "name": "stdout",
     "output_type": "stream",
     "text": [
      "Epoch: 28/30, Training accuracy: 0.760000, Loss: 2.155940, Validation accuracy: 0.520000\n",
      "--------------------------------------------------\n"
     ]
    },
    {
     "name": "stderr",
     "output_type": "stream",
     "text": [
      "DEBUG:root:EVAL:   loss.item(): 0.2479805201292038 valid_running_correct: 37\n",
      "DEBUG:root:TRAIN: loss.item(): 2.489750385284424, train_running_correct: 19\n"
     ]
    },
    {
     "name": "stdout",
     "output_type": "stream",
     "text": [
      "Epoch: 29/30, Training accuracy: 0.760000, Loss: 2.489750, Validation accuracy: 0.493333\n",
      "--------------------------------------------------\n"
     ]
    },
    {
     "name": "stderr",
     "output_type": "stream",
     "text": [
      "DEBUG:root:EVAL:   loss.item(): 0.10239580273628235 valid_running_correct: 33\n",
      "DEBUG:root:TRAIN: loss.item(): 1.291466236114502, train_running_correct: 16\n"
     ]
    },
    {
     "name": "stdout",
     "output_type": "stream",
     "text": [
      "Epoch: 30/30, Training accuracy: 0.640000, Loss: 1.291466, Validation accuracy: 0.440000\n",
      "--------------------------------------------------\n"
     ]
    },
    {
     "name": "stderr",
     "output_type": "stream",
     "text": [
      "DEBUG:root:EVAL:   loss.item(): 0.10239580273628235 valid_running_correct: 33\n",
      "DEBUG:root:Selecting 5 categories from ['AnnualCrop', 'Forest', 'HerbaceousVegetation', 'Highway', 'Industrial', 'Pasture', 'PermanentCrop', 'Residential', 'River', 'SeaLake'] categories\n",
      "DEBUG:root:Selected categories: ['Residential' 'HerbaceousVegetation' 'Highway' 'Industrial'\n",
      " 'PermanentCrop']\n",
      "DEBUG:root:Selected ['Residential_2821.jpg', 'Residential_399.jpg', 'Residential_2368.jpg', 'Residential_2886.jpg', 'Residential_2655.jpg', 'Residential_934.jpg', 'Residential_1252.jpg', 'Residential_1291.jpg', 'Residential_1846.jpg', 'Residential_2472.jpg', 'Residential_1131.jpg', 'Residential_1482.jpg', 'Residential_2032.jpg', 'Residential_1783.jpg', 'Residential_2664.jpg', 'Residential_1304.jpg', 'Residential_2482.jpg', 'Residential_198.jpg', 'Residential_2880.jpg', 'Residential_1314.jpg'] from Residential\n",
      "DEBUG:root:Creating Residential directory\n",
      "DEBUG:root:Selected ['HerbaceousVegetation_1189.jpg', 'HerbaceousVegetation_809.jpg', 'HerbaceousVegetation_1194.jpg', 'HerbaceousVegetation_766.jpg', 'HerbaceousVegetation_1298.jpg', 'HerbaceousVegetation_1165.jpg', 'HerbaceousVegetation_2816.jpg', 'HerbaceousVegetation_1200.jpg', 'HerbaceousVegetation_737.jpg', 'HerbaceousVegetation_1059.jpg', 'HerbaceousVegetation_685.jpg', 'HerbaceousVegetation_387.jpg', 'HerbaceousVegetation_700.jpg', 'HerbaceousVegetation_2455.jpg', 'HerbaceousVegetation_2139.jpg', 'HerbaceousVegetation_1712.jpg', 'HerbaceousVegetation_2346.jpg', 'HerbaceousVegetation_1435.jpg', 'HerbaceousVegetation_2102.jpg', 'HerbaceousVegetation_1906.jpg'] from HerbaceousVegetation\n",
      "DEBUG:root:Creating HerbaceousVegetation directory\n",
      "DEBUG:root:Selected ['Highway_1625.jpg', 'Highway_1686.jpg', 'Highway_2498.jpg', 'Highway_295.jpg', 'Highway_1587.jpg', 'Highway_2457.jpg', 'Highway_893.jpg', 'Highway_2478.jpg', 'Highway_1369.jpg', 'Highway_2016.jpg', 'Highway_2043.jpg', 'Highway_2047.jpg', 'Highway_227.jpg', 'Highway_2235.jpg', 'Highway_446.jpg', 'Highway_52.jpg', 'Highway_979.jpg', 'Highway_2244.jpg', 'Highway_986.jpg', 'Highway_1025.jpg'] from Highway\n",
      "DEBUG:root:Creating Highway directory\n",
      "DEBUG:root:Selected ['Industrial_427.jpg', 'Industrial_2279.jpg', 'Industrial_71.jpg', 'Industrial_40.jpg', 'Industrial_2186.jpg', 'Industrial_1339.jpg', 'Industrial_250.jpg', 'Industrial_2435.jpg', 'Industrial_459.jpg', 'Industrial_1389.jpg', 'Industrial_2369.jpg', 'Industrial_1657.jpg', 'Industrial_449.jpg', 'Industrial_1734.jpg', 'Industrial_2079.jpg', 'Industrial_810.jpg', 'Industrial_1434.jpg', 'Industrial_1036.jpg', 'Industrial_960.jpg', 'Industrial_200.jpg'] from Industrial\n",
      "DEBUG:root:Creating Industrial directory\n",
      "DEBUG:root:Selected ['PermanentCrop_1092.jpg', 'PermanentCrop_1606.jpg', 'PermanentCrop_601.jpg', 'PermanentCrop_1139.jpg', 'PermanentCrop_1569.jpg', 'PermanentCrop_419.jpg', 'PermanentCrop_954.jpg', 'PermanentCrop_300.jpg', 'PermanentCrop_507.jpg', 'PermanentCrop_1499.jpg', 'PermanentCrop_437.jpg', 'PermanentCrop_990.jpg', 'PermanentCrop_540.jpg', 'PermanentCrop_1965.jpg', 'PermanentCrop_1182.jpg', 'PermanentCrop_1898.jpg', 'PermanentCrop_2430.jpg', 'PermanentCrop_1232.jpg', 'PermanentCrop_1900.jpg', 'PermanentCrop_2444.jpg'] from PermanentCrop\n",
      "DEBUG:root:Creating PermanentCrop directory\n",
      "DEBUG:root:Selected ['Residential_2472.jpg', 'Residential_2482.jpg', 'Residential_2032.jpg', 'Residential_2880.jpg', 'Residential_934.jpg'] for training\n",
      "DEBUG:root:Creating Residential directory\n",
      "DEBUG:root:Selected ['HerbaceousVegetation_1712.jpg', 'HerbaceousVegetation_700.jpg', 'HerbaceousVegetation_1298.jpg', 'HerbaceousVegetation_2139.jpg', 'HerbaceousVegetation_685.jpg'] for training\n",
      "DEBUG:root:Creating HerbaceousVegetation directory\n",
      "DEBUG:root:Selected ['Highway_2047.jpg', 'Highway_2043.jpg', 'Highway_2498.jpg', 'Highway_1587.jpg', 'Highway_52.jpg'] for training\n",
      "DEBUG:root:Creating Highway directory\n",
      "DEBUG:root:Selected ['Industrial_427.jpg', 'Industrial_2279.jpg', 'Industrial_1036.jpg', 'Industrial_1339.jpg', 'Industrial_960.jpg'] for training\n",
      "DEBUG:root:Creating Industrial directory\n",
      "DEBUG:root:Selected ['PermanentCrop_1606.jpg', 'PermanentCrop_1232.jpg', 'PermanentCrop_1182.jpg', 'PermanentCrop_954.jpg', 'PermanentCrop_1898.jpg'] for training\n",
      "DEBUG:root:Creating PermanentCrop directory\n",
      "DEBUG:root: len(trainLoader.dataset): 25\n",
      "DEBUG:root: len(valLoader.dataset): 75\n"
     ]
    },
    {
     "name": "stdout",
     "output_type": "stream",
     "text": [
      "EuroSAT model 7/11 results: 0.440\n",
      "Training EuroSAT model 8/11\n",
      "Using CUDA\n",
      "Training\n"
     ]
    },
    {
     "name": "stderr",
     "output_type": "stream",
     "text": [
      "DEBUG:root:EVAL:   loss.item(): 1.8750308752059937 valid_running_correct: 21\n",
      "DEBUG:root:TRAIN: loss.item(): 2.4287543296813965, train_running_correct: 3\n"
     ]
    },
    {
     "name": "stdout",
     "output_type": "stream",
     "text": [
      "Epoch: 1/30, Training accuracy: 0.120000, Loss: 2.428754, Validation accuracy: 0.280000\n",
      "--------------------------------------------------\n"
     ]
    },
    {
     "name": "stderr",
     "output_type": "stream",
     "text": [
      "DEBUG:root:EVAL:   loss.item(): 1.003735899925232 valid_running_correct: 25\n",
      "DEBUG:root:TRAIN: loss.item(): 1.189710021018982, train_running_correct: 6\n"
     ]
    },
    {
     "name": "stdout",
     "output_type": "stream",
     "text": [
      "Epoch: 2/30, Training accuracy: 0.240000, Loss: 1.189710, Validation accuracy: 0.333333\n",
      "--------------------------------------------------\n"
     ]
    },
    {
     "name": "stderr",
     "output_type": "stream",
     "text": [
      "DEBUG:root:EVAL:   loss.item(): 0.2826533317565918 valid_running_correct: 25\n",
      "DEBUG:root:TRAIN: loss.item(): 0.9532194137573242, train_running_correct: 7\n"
     ]
    },
    {
     "name": "stdout",
     "output_type": "stream",
     "text": [
      "Epoch: 3/30, Training accuracy: 0.280000, Loss: 0.953219, Validation accuracy: 0.333333\n",
      "--------------------------------------------------\n"
     ]
    },
    {
     "name": "stderr",
     "output_type": "stream",
     "text": [
      "DEBUG:root:EVAL:   loss.item(): 0.22179140150547028 valid_running_correct: 24\n",
      "DEBUG:root:TRAIN: loss.item(): 2.1846253871917725, train_running_correct: 7\n"
     ]
    },
    {
     "name": "stdout",
     "output_type": "stream",
     "text": [
      "Epoch: 4/30, Training accuracy: 0.280000, Loss: 2.184625, Validation accuracy: 0.320000\n",
      "--------------------------------------------------\n"
     ]
    },
    {
     "name": "stderr",
     "output_type": "stream",
     "text": [
      "DEBUG:root:EVAL:   loss.item(): 0.342565655708313 valid_running_correct: 28\n",
      "DEBUG:root:TRAIN: loss.item(): 2.439476490020752, train_running_correct: 8\n"
     ]
    },
    {
     "name": "stdout",
     "output_type": "stream",
     "text": [
      "Epoch: 5/30, Training accuracy: 0.320000, Loss: 2.439476, Validation accuracy: 0.373333\n",
      "--------------------------------------------------\n"
     ]
    },
    {
     "name": "stderr",
     "output_type": "stream",
     "text": [
      "DEBUG:root:EVAL:   loss.item(): 1.1461338996887207 valid_running_correct: 26\n",
      "DEBUG:root:TRAIN: loss.item(): 2.711577892303467, train_running_correct: 7\n"
     ]
    },
    {
     "name": "stdout",
     "output_type": "stream",
     "text": [
      "Epoch: 6/30, Training accuracy: 0.280000, Loss: 2.711578, Validation accuracy: 0.346667\n",
      "--------------------------------------------------\n"
     ]
    },
    {
     "name": "stderr",
     "output_type": "stream",
     "text": [
      "DEBUG:root:EVAL:   loss.item(): 2.4918272495269775 valid_running_correct: 16\n",
      "DEBUG:root:TRAIN: loss.item(): 1.3769307136535645, train_running_correct: 7\n"
     ]
    },
    {
     "name": "stdout",
     "output_type": "stream",
     "text": [
      "Epoch: 7/30, Training accuracy: 0.280000, Loss: 1.376931, Validation accuracy: 0.213333\n",
      "--------------------------------------------------\n"
     ]
    },
    {
     "name": "stderr",
     "output_type": "stream",
     "text": [
      "DEBUG:root:EVAL:   loss.item(): 2.9988601207733154 valid_running_correct: 18\n",
      "DEBUG:root:TRAIN: loss.item(): 4.053227424621582, train_running_correct: 8\n"
     ]
    },
    {
     "name": "stdout",
     "output_type": "stream",
     "text": [
      "Epoch: 8/30, Training accuracy: 0.320000, Loss: 4.053227, Validation accuracy: 0.240000\n",
      "--------------------------------------------------\n"
     ]
    },
    {
     "name": "stderr",
     "output_type": "stream",
     "text": [
      "DEBUG:root:EVAL:   loss.item(): 1.3024529218673706 valid_running_correct: 22\n",
      "DEBUG:root:TRAIN: loss.item(): 0.40467721223831177, train_running_correct: 8\n"
     ]
    },
    {
     "name": "stdout",
     "output_type": "stream",
     "text": [
      "Epoch: 9/30, Training accuracy: 0.320000, Loss: 0.404677, Validation accuracy: 0.293333\n",
      "--------------------------------------------------\n"
     ]
    },
    {
     "name": "stderr",
     "output_type": "stream",
     "text": [
      "DEBUG:root:EVAL:   loss.item(): 0.24835999310016632 valid_running_correct: 24\n",
      "DEBUG:root:TRAIN: loss.item(): 2.004955768585205, train_running_correct: 10\n"
     ]
    },
    {
     "name": "stdout",
     "output_type": "stream",
     "text": [
      "Epoch: 10/30, Training accuracy: 0.400000, Loss: 2.004956, Validation accuracy: 0.320000\n",
      "--------------------------------------------------\n"
     ]
    },
    {
     "name": "stderr",
     "output_type": "stream",
     "text": [
      "DEBUG:root:EVAL:   loss.item(): 0.0886637270450592 valid_running_correct: 27\n",
      "DEBUG:root:TRAIN: loss.item(): 3.6219756603240967, train_running_correct: 8\n"
     ]
    },
    {
     "name": "stdout",
     "output_type": "stream",
     "text": [
      "Epoch: 11/30, Training accuracy: 0.320000, Loss: 3.621976, Validation accuracy: 0.360000\n",
      "--------------------------------------------------\n"
     ]
    },
    {
     "name": "stderr",
     "output_type": "stream",
     "text": [
      "DEBUG:root:EVAL:   loss.item(): 0.10048652440309525 valid_running_correct: 34\n",
      "DEBUG:root:TRAIN: loss.item(): 2.2712552547454834, train_running_correct: 9\n"
     ]
    },
    {
     "name": "stdout",
     "output_type": "stream",
     "text": [
      "Epoch: 12/30, Training accuracy: 0.360000, Loss: 2.271255, Validation accuracy: 0.453333\n",
      "--------------------------------------------------\n"
     ]
    },
    {
     "name": "stderr",
     "output_type": "stream",
     "text": [
      "DEBUG:root:EVAL:   loss.item(): 0.20337605476379395 valid_running_correct: 30\n",
      "DEBUG:root:TRAIN: loss.item(): 2.1606359481811523, train_running_correct: 13\n"
     ]
    },
    {
     "name": "stdout",
     "output_type": "stream",
     "text": [
      "Epoch: 13/30, Training accuracy: 0.520000, Loss: 2.160636, Validation accuracy: 0.400000\n",
      "--------------------------------------------------\n"
     ]
    },
    {
     "name": "stderr",
     "output_type": "stream",
     "text": [
      "DEBUG:root:EVAL:   loss.item(): 0.16012471914291382 valid_running_correct: 29\n",
      "DEBUG:root:TRAIN: loss.item(): 0.6224972605705261, train_running_correct: 14\n"
     ]
    },
    {
     "name": "stdout",
     "output_type": "stream",
     "text": [
      "Epoch: 14/30, Training accuracy: 0.560000, Loss: 0.622497, Validation accuracy: 0.386667\n",
      "--------------------------------------------------\n"
     ]
    },
    {
     "name": "stderr",
     "output_type": "stream",
     "text": [
      "DEBUG:root:EVAL:   loss.item(): 0.14648926258087158 valid_running_correct: 28\n",
      "DEBUG:root:TRAIN: loss.item(): 3.028244733810425, train_running_correct: 13\n"
     ]
    },
    {
     "name": "stdout",
     "output_type": "stream",
     "text": [
      "Epoch: 15/30, Training accuracy: 0.520000, Loss: 3.028245, Validation accuracy: 0.373333\n",
      "--------------------------------------------------\n"
     ]
    },
    {
     "name": "stderr",
     "output_type": "stream",
     "text": [
      "DEBUG:root:EVAL:   loss.item(): 0.16606998443603516 valid_running_correct: 35\n",
      "DEBUG:root:TRAIN: loss.item(): 1.2924354076385498, train_running_correct: 13\n"
     ]
    },
    {
     "name": "stdout",
     "output_type": "stream",
     "text": [
      "Epoch: 16/30, Training accuracy: 0.520000, Loss: 1.292435, Validation accuracy: 0.466667\n",
      "--------------------------------------------------\n"
     ]
    },
    {
     "name": "stderr",
     "output_type": "stream",
     "text": [
      "DEBUG:root:EVAL:   loss.item(): 0.1891971379518509 valid_running_correct: 31\n",
      "DEBUG:root:TRAIN: loss.item(): 0.8090262413024902, train_running_correct: 17\n"
     ]
    },
    {
     "name": "stdout",
     "output_type": "stream",
     "text": [
      "Epoch: 17/30, Training accuracy: 0.680000, Loss: 0.809026, Validation accuracy: 0.413333\n",
      "--------------------------------------------------\n"
     ]
    },
    {
     "name": "stderr",
     "output_type": "stream",
     "text": [
      "DEBUG:root:EVAL:   loss.item(): 0.18357110023498535 valid_running_correct: 31\n",
      "DEBUG:root:TRAIN: loss.item(): 2.7506377696990967, train_running_correct: 17\n"
     ]
    },
    {
     "name": "stdout",
     "output_type": "stream",
     "text": [
      "Epoch: 18/30, Training accuracy: 0.680000, Loss: 2.750638, Validation accuracy: 0.413333\n",
      "--------------------------------------------------\n"
     ]
    },
    {
     "name": "stderr",
     "output_type": "stream",
     "text": [
      "DEBUG:root:EVAL:   loss.item(): 0.45353734493255615 valid_running_correct: 37\n",
      "DEBUG:root:TRAIN: loss.item(): 2.099336862564087, train_running_correct: 16\n"
     ]
    },
    {
     "name": "stdout",
     "output_type": "stream",
     "text": [
      "Epoch: 19/30, Training accuracy: 0.640000, Loss: 2.099337, Validation accuracy: 0.493333\n",
      "--------------------------------------------------\n"
     ]
    },
    {
     "name": "stderr",
     "output_type": "stream",
     "text": [
      "DEBUG:root:EVAL:   loss.item(): 1.3142247200012207 valid_running_correct: 38\n",
      "DEBUG:root:TRAIN: loss.item(): 1.7361359596252441, train_running_correct: 18\n"
     ]
    },
    {
     "name": "stdout",
     "output_type": "stream",
     "text": [
      "Epoch: 20/30, Training accuracy: 0.720000, Loss: 1.736136, Validation accuracy: 0.506667\n",
      "--------------------------------------------------\n"
     ]
    },
    {
     "name": "stderr",
     "output_type": "stream",
     "text": [
      "DEBUG:root:EVAL:   loss.item(): 2.182655096054077 valid_running_correct: 34\n",
      "DEBUG:root:TRAIN: loss.item(): 3.1436431407928467, train_running_correct: 13\n"
     ]
    },
    {
     "name": "stdout",
     "output_type": "stream",
     "text": [
      "Epoch: 21/30, Training accuracy: 0.520000, Loss: 3.143643, Validation accuracy: 0.453333\n",
      "--------------------------------------------------\n"
     ]
    },
    {
     "name": "stderr",
     "output_type": "stream",
     "text": [
      "DEBUG:root:EVAL:   loss.item(): 1.524985909461975 valid_running_correct: 38\n",
      "DEBUG:root:TRAIN: loss.item(): 0.8263498544692993, train_running_correct: 15\n"
     ]
    },
    {
     "name": "stdout",
     "output_type": "stream",
     "text": [
      "Epoch: 22/30, Training accuracy: 0.600000, Loss: 0.826350, Validation accuracy: 0.506667\n",
      "--------------------------------------------------\n"
     ]
    },
    {
     "name": "stderr",
     "output_type": "stream",
     "text": [
      "DEBUG:root:EVAL:   loss.item(): 0.995363712310791 valid_running_correct: 36\n",
      "DEBUG:root:TRAIN: loss.item(): 4.1025872230529785, train_running_correct: 14\n"
     ]
    },
    {
     "name": "stdout",
     "output_type": "stream",
     "text": [
      "Epoch: 23/30, Training accuracy: 0.560000, Loss: 4.102587, Validation accuracy: 0.480000\n",
      "--------------------------------------------------\n"
     ]
    },
    {
     "name": "stderr",
     "output_type": "stream",
     "text": [
      "DEBUG:root:EVAL:   loss.item(): 0.4319574534893036 valid_running_correct: 36\n",
      "DEBUG:root:TRAIN: loss.item(): 2.501465320587158, train_running_correct: 17\n"
     ]
    },
    {
     "name": "stdout",
     "output_type": "stream",
     "text": [
      "Epoch: 24/30, Training accuracy: 0.680000, Loss: 2.501465, Validation accuracy: 0.480000\n",
      "--------------------------------------------------\n"
     ]
    },
    {
     "name": "stderr",
     "output_type": "stream",
     "text": [
      "DEBUG:root:EVAL:   loss.item(): 0.514716386795044 valid_running_correct: 36\n",
      "DEBUG:root:TRAIN: loss.item(): 2.8844425678253174, train_running_correct: 18\n"
     ]
    },
    {
     "name": "stdout",
     "output_type": "stream",
     "text": [
      "Epoch: 25/30, Training accuracy: 0.720000, Loss: 2.884443, Validation accuracy: 0.480000\n",
      "--------------------------------------------------\n"
     ]
    },
    {
     "name": "stderr",
     "output_type": "stream",
     "text": [
      "DEBUG:root:EVAL:   loss.item(): 0.491748183965683 valid_running_correct: 35\n",
      "DEBUG:root:TRAIN: loss.item(): 3.2627007961273193, train_running_correct: 20\n"
     ]
    },
    {
     "name": "stdout",
     "output_type": "stream",
     "text": [
      "Epoch: 26/30, Training accuracy: 0.800000, Loss: 3.262701, Validation accuracy: 0.466667\n",
      "--------------------------------------------------\n"
     ]
    },
    {
     "name": "stderr",
     "output_type": "stream",
     "text": [
      "DEBUG:root:EVAL:   loss.item(): 0.9538159370422363 valid_running_correct: 40\n",
      "DEBUG:root:TRAIN: loss.item(): 2.5031251907348633, train_running_correct: 19\n"
     ]
    },
    {
     "name": "stdout",
     "output_type": "stream",
     "text": [
      "Epoch: 27/30, Training accuracy: 0.760000, Loss: 2.503125, Validation accuracy: 0.533333\n",
      "--------------------------------------------------\n"
     ]
    },
    {
     "name": "stderr",
     "output_type": "stream",
     "text": [
      "DEBUG:root:EVAL:   loss.item(): 1.9048010110855103 valid_running_correct: 40\n",
      "DEBUG:root:TRAIN: loss.item(): 2.4897618293762207, train_running_correct: 16\n"
     ]
    },
    {
     "name": "stdout",
     "output_type": "stream",
     "text": [
      "Epoch: 28/30, Training accuracy: 0.640000, Loss: 2.489762, Validation accuracy: 0.533333\n",
      "--------------------------------------------------\n"
     ]
    },
    {
     "name": "stderr",
     "output_type": "stream",
     "text": [
      "DEBUG:root:EVAL:   loss.item(): 1.3469511270523071 valid_running_correct: 38\n",
      "DEBUG:root:TRAIN: loss.item(): 2.4802181720733643, train_running_correct: 17\n"
     ]
    },
    {
     "name": "stdout",
     "output_type": "stream",
     "text": [
      "Epoch: 29/30, Training accuracy: 0.680000, Loss: 2.480218, Validation accuracy: 0.506667\n",
      "--------------------------------------------------\n"
     ]
    },
    {
     "name": "stderr",
     "output_type": "stream",
     "text": [
      "DEBUG:root:EVAL:   loss.item(): 0.7678253054618835 valid_running_correct: 39\n",
      "DEBUG:root:TRAIN: loss.item(): 1.6649583578109741, train_running_correct: 21\n"
     ]
    },
    {
     "name": "stdout",
     "output_type": "stream",
     "text": [
      "Epoch: 30/30, Training accuracy: 0.840000, Loss: 1.664958, Validation accuracy: 0.520000\n",
      "--------------------------------------------------\n"
     ]
    },
    {
     "name": "stderr",
     "output_type": "stream",
     "text": [
      "DEBUG:root:EVAL:   loss.item(): 0.7678253054618835 valid_running_correct: 39\n",
      "DEBUG:root:Selecting 5 categories from ['AnnualCrop', 'Forest', 'HerbaceousVegetation', 'Highway', 'Industrial', 'Pasture', 'PermanentCrop', 'Residential', 'River', 'SeaLake'] categories\n",
      "DEBUG:root:Selected categories: ['HerbaceousVegetation' 'River' 'Pasture' 'Forest' 'SeaLake']\n",
      "DEBUG:root:Selected ['HerbaceousVegetation_1608.jpg', 'HerbaceousVegetation_1771.jpg', 'HerbaceousVegetation_2495.jpg', 'HerbaceousVegetation_2237.jpg', 'HerbaceousVegetation_295.jpg', 'HerbaceousVegetation_2376.jpg', 'HerbaceousVegetation_1397.jpg', 'HerbaceousVegetation_2395.jpg', 'HerbaceousVegetation_414.jpg', 'HerbaceousVegetation_2861.jpg', 'HerbaceousVegetation_1205.jpg', 'HerbaceousVegetation_1072.jpg', 'HerbaceousVegetation_1879.jpg', 'HerbaceousVegetation_2171.jpg', 'HerbaceousVegetation_2184.jpg', 'HerbaceousVegetation_273.jpg', 'HerbaceousVegetation_2562.jpg', 'HerbaceousVegetation_2402.jpg', 'HerbaceousVegetation_2425.jpg', 'HerbaceousVegetation_2160.jpg'] from HerbaceousVegetation\n",
      "DEBUG:root:Creating HerbaceousVegetation directory\n",
      "DEBUG:root:Selected ['River_29.jpg', 'River_1983.jpg', 'River_2006.jpg', 'River_926.jpg', 'River_1393.jpg', 'River_1113.jpg', 'River_1238.jpg', 'River_285.jpg', 'River_1352.jpg', 'River_1828.jpg', 'River_64.jpg', 'River_2003.jpg', 'River_2168.jpg', 'River_1212.jpg', 'River_635.jpg', 'River_2440.jpg', 'River_274.jpg', 'River_502.jpg', 'River_852.jpg', 'River_1678.jpg'] from River\n",
      "DEBUG:root:Creating River directory\n",
      "DEBUG:root:Selected ['Pasture_1522.jpg', 'Pasture_57.jpg', 'Pasture_78.jpg', 'Pasture_596.jpg', 'Pasture_465.jpg', 'Pasture_1809.jpg', 'Pasture_597.jpg', 'Pasture_36.jpg', 'Pasture_1883.jpg', 'Pasture_356.jpg', 'Pasture_351.jpg', 'Pasture_572.jpg', 'Pasture_246.jpg', 'Pasture_908.jpg', 'Pasture_395.jpg', 'Pasture_1329.jpg', 'Pasture_551.jpg', 'Pasture_1435.jpg', 'Pasture_1699.jpg', 'Pasture_158.jpg'] from Pasture\n",
      "DEBUG:root:Creating Pasture directory\n",
      "DEBUG:root:Selected ['Forest_1638.jpg', 'Forest_494.jpg', 'Forest_799.jpg', 'Forest_2521.jpg', 'Forest_893.jpg', 'Forest_786.jpg', 'Forest_794.jpg', 'Forest_1636.jpg', 'Forest_66.jpg', 'Forest_2878.jpg', 'Forest_2266.jpg', 'Forest_1344.jpg', 'Forest_2976.jpg', 'Forest_1421.jpg', 'Forest_2948.jpg', 'Forest_888.jpg', 'Forest_843.jpg', 'Forest_182.jpg', 'Forest_2693.jpg', 'Forest_2746.jpg'] from Forest\n",
      "DEBUG:root:Creating Forest directory\n",
      "DEBUG:root:Selected ['SeaLake_2786.jpg', 'SeaLake_2637.jpg', 'SeaLake_918.jpg', 'SeaLake_2944.jpg', 'SeaLake_2379.jpg', 'SeaLake_1428.jpg', 'SeaLake_1070.jpg', 'SeaLake_725.jpg', 'SeaLake_713.jpg', 'SeaLake_296.jpg', 'SeaLake_2523.jpg', 'SeaLake_792.jpg', 'SeaLake_1736.jpg', 'SeaLake_378.jpg', 'SeaLake_1091.jpg', 'SeaLake_637.jpg', 'SeaLake_514.jpg', 'SeaLake_833.jpg', 'SeaLake_721.jpg', 'SeaLake_1777.jpg'] from SeaLake\n",
      "DEBUG:root:Creating SeaLake directory\n",
      "DEBUG:root:Selected ['HerbaceousVegetation_1072.jpg', 'HerbaceousVegetation_2562.jpg', 'HerbaceousVegetation_295.jpg', 'HerbaceousVegetation_2184.jpg', 'HerbaceousVegetation_2395.jpg'] for training\n",
      "DEBUG:root:Creating HerbaceousVegetation directory\n",
      "DEBUG:root:Selected ['River_2168.jpg', 'River_1113.jpg', 'River_2006.jpg', 'River_1393.jpg', 'River_29.jpg'] for training\n",
      "DEBUG:root:Creating River directory\n",
      "DEBUG:root:Selected ['Pasture_36.jpg', 'Pasture_1883.jpg', 'Pasture_356.jpg', 'Pasture_351.jpg', 'Pasture_1329.jpg'] for training\n",
      "DEBUG:root:Creating Pasture directory\n",
      "DEBUG:root:Selected ['Forest_2746.jpg', 'Forest_888.jpg', 'Forest_2948.jpg', 'Forest_2521.jpg', 'Forest_1636.jpg'] for training\n",
      "DEBUG:root:Creating Forest directory\n",
      "DEBUG:root:Selected ['SeaLake_2637.jpg', 'SeaLake_637.jpg', 'SeaLake_296.jpg', 'SeaLake_1070.jpg', 'SeaLake_713.jpg'] for training\n",
      "DEBUG:root:Creating SeaLake directory\n",
      "DEBUG:root: len(trainLoader.dataset): 25\n",
      "DEBUG:root: len(valLoader.dataset): 75\n"
     ]
    },
    {
     "name": "stdout",
     "output_type": "stream",
     "text": [
      "EuroSAT model 8/11 results: 0.520\n",
      "Training EuroSAT model 9/11\n",
      "Using CUDA\n",
      "Training\n"
     ]
    },
    {
     "name": "stderr",
     "output_type": "stream",
     "text": [
      "DEBUG:root:EVAL:   loss.item(): 0.6393968462944031 valid_running_correct: 24\n",
      "DEBUG:root:TRAIN: loss.item(): 2.462813138961792, train_running_correct: 10\n"
     ]
    },
    {
     "name": "stdout",
     "output_type": "stream",
     "text": [
      "Epoch: 1/30, Training accuracy: 0.400000, Loss: 2.462813, Validation accuracy: 0.320000\n",
      "--------------------------------------------------\n"
     ]
    },
    {
     "name": "stderr",
     "output_type": "stream",
     "text": [
      "DEBUG:root:EVAL:   loss.item(): 0.7601925730705261 valid_running_correct: 25\n",
      "DEBUG:root:TRAIN: loss.item(): 2.0291197299957275, train_running_correct: 7\n"
     ]
    },
    {
     "name": "stdout",
     "output_type": "stream",
     "text": [
      "Epoch: 2/30, Training accuracy: 0.280000, Loss: 2.029120, Validation accuracy: 0.333333\n",
      "--------------------------------------------------\n"
     ]
    },
    {
     "name": "stderr",
     "output_type": "stream",
     "text": [
      "DEBUG:root:EVAL:   loss.item(): 0.8488306999206543 valid_running_correct: 27\n",
      "DEBUG:root:TRAIN: loss.item(): 3.254729747772217, train_running_correct: 9\n"
     ]
    },
    {
     "name": "stdout",
     "output_type": "stream",
     "text": [
      "Epoch: 3/30, Training accuracy: 0.360000, Loss: 3.254730, Validation accuracy: 0.360000\n",
      "--------------------------------------------------\n"
     ]
    },
    {
     "name": "stderr",
     "output_type": "stream",
     "text": [
      "DEBUG:root:EVAL:   loss.item(): 0.954503059387207 valid_running_correct: 30\n",
      "DEBUG:root:TRAIN: loss.item(): 2.461557388305664, train_running_correct: 11\n"
     ]
    },
    {
     "name": "stdout",
     "output_type": "stream",
     "text": [
      "Epoch: 4/30, Training accuracy: 0.440000, Loss: 2.461557, Validation accuracy: 0.400000\n",
      "--------------------------------------------------\n"
     ]
    },
    {
     "name": "stderr",
     "output_type": "stream",
     "text": [
      "DEBUG:root:EVAL:   loss.item(): 1.2663698196411133 valid_running_correct: 33\n",
      "DEBUG:root:TRAIN: loss.item(): 1.837866187095642, train_running_correct: 11\n"
     ]
    },
    {
     "name": "stdout",
     "output_type": "stream",
     "text": [
      "Epoch: 5/30, Training accuracy: 0.440000, Loss: 1.837866, Validation accuracy: 0.440000\n",
      "--------------------------------------------------\n"
     ]
    },
    {
     "name": "stderr",
     "output_type": "stream",
     "text": [
      "DEBUG:root:EVAL:   loss.item(): 1.4953476190567017 valid_running_correct: 35\n",
      "DEBUG:root:TRAIN: loss.item(): 2.581364631652832, train_running_correct: 9\n"
     ]
    },
    {
     "name": "stdout",
     "output_type": "stream",
     "text": [
      "Epoch: 6/30, Training accuracy: 0.360000, Loss: 2.581365, Validation accuracy: 0.466667\n",
      "--------------------------------------------------\n"
     ]
    },
    {
     "name": "stderr",
     "output_type": "stream",
     "text": [
      "DEBUG:root:EVAL:   loss.item(): 1.0117069482803345 valid_running_correct: 34\n",
      "DEBUG:root:TRAIN: loss.item(): 1.772700309753418, train_running_correct: 14\n"
     ]
    },
    {
     "name": "stdout",
     "output_type": "stream",
     "text": [
      "Epoch: 7/30, Training accuracy: 0.560000, Loss: 1.772700, Validation accuracy: 0.453333\n",
      "--------------------------------------------------\n"
     ]
    },
    {
     "name": "stderr",
     "output_type": "stream",
     "text": [
      "DEBUG:root:EVAL:   loss.item(): 0.6171196103096008 valid_running_correct: 27\n",
      "DEBUG:root:TRAIN: loss.item(): 0.5977922677993774, train_running_correct: 17\n"
     ]
    },
    {
     "name": "stdout",
     "output_type": "stream",
     "text": [
      "Epoch: 8/30, Training accuracy: 0.680000, Loss: 0.597792, Validation accuracy: 0.360000\n",
      "--------------------------------------------------\n"
     ]
    },
    {
     "name": "stderr",
     "output_type": "stream",
     "text": [
      "DEBUG:root:EVAL:   loss.item(): 0.4501633644104004 valid_running_correct: 25\n",
      "DEBUG:root:TRAIN: loss.item(): 2.252267599105835, train_running_correct: 10\n"
     ]
    },
    {
     "name": "stdout",
     "output_type": "stream",
     "text": [
      "Epoch: 9/30, Training accuracy: 0.400000, Loss: 2.252268, Validation accuracy: 0.333333\n",
      "--------------------------------------------------\n"
     ]
    },
    {
     "name": "stderr",
     "output_type": "stream",
     "text": [
      "DEBUG:root:EVAL:   loss.item(): 0.7849543690681458 valid_running_correct: 34\n",
      "DEBUG:root:TRAIN: loss.item(): 3.2711567878723145, train_running_correct: 13\n"
     ]
    },
    {
     "name": "stdout",
     "output_type": "stream",
     "text": [
      "Epoch: 10/30, Training accuracy: 0.520000, Loss: 3.271157, Validation accuracy: 0.453333\n",
      "--------------------------------------------------\n"
     ]
    },
    {
     "name": "stderr",
     "output_type": "stream",
     "text": [
      "DEBUG:root:EVAL:   loss.item(): 1.310267686843872 valid_running_correct: 36\n",
      "DEBUG:root:TRAIN: loss.item(): 1.9279370307922363, train_running_correct: 14\n"
     ]
    },
    {
     "name": "stdout",
     "output_type": "stream",
     "text": [
      "Epoch: 11/30, Training accuracy: 0.560000, Loss: 1.927937, Validation accuracy: 0.480000\n",
      "--------------------------------------------------\n"
     ]
    },
    {
     "name": "stderr",
     "output_type": "stream",
     "text": [
      "DEBUG:root:EVAL:   loss.item(): 2.3086745738983154 valid_running_correct: 34\n",
      "DEBUG:root:TRAIN: loss.item(): 1.335033655166626, train_running_correct: 17\n"
     ]
    },
    {
     "name": "stdout",
     "output_type": "stream",
     "text": [
      "Epoch: 12/30, Training accuracy: 0.680000, Loss: 1.335034, Validation accuracy: 0.453333\n",
      "--------------------------------------------------\n"
     ]
    },
    {
     "name": "stderr",
     "output_type": "stream",
     "text": [
      "DEBUG:root:EVAL:   loss.item(): 2.156804323196411 valid_running_correct: 35\n",
      "DEBUG:root:TRAIN: loss.item(): 2.9850006103515625, train_running_correct: 15\n"
     ]
    },
    {
     "name": "stdout",
     "output_type": "stream",
     "text": [
      "Epoch: 13/30, Training accuracy: 0.600000, Loss: 2.985001, Validation accuracy: 0.466667\n",
      "--------------------------------------------------\n"
     ]
    },
    {
     "name": "stderr",
     "output_type": "stream",
     "text": [
      "DEBUG:root:EVAL:   loss.item(): 2.535301446914673 valid_running_correct: 37\n",
      "DEBUG:root:TRAIN: loss.item(): 0.6610130071640015, train_running_correct: 15\n"
     ]
    },
    {
     "name": "stdout",
     "output_type": "stream",
     "text": [
      "Epoch: 14/30, Training accuracy: 0.600000, Loss: 0.661013, Validation accuracy: 0.493333\n",
      "--------------------------------------------------\n"
     ]
    },
    {
     "name": "stderr",
     "output_type": "stream",
     "text": [
      "DEBUG:root:EVAL:   loss.item(): 2.570574998855591 valid_running_correct: 37\n",
      "DEBUG:root:TRAIN: loss.item(): 0.7951176166534424, train_running_correct: 17\n"
     ]
    },
    {
     "name": "stdout",
     "output_type": "stream",
     "text": [
      "Epoch: 15/30, Training accuracy: 0.680000, Loss: 0.795118, Validation accuracy: 0.493333\n",
      "--------------------------------------------------\n"
     ]
    },
    {
     "name": "stderr",
     "output_type": "stream",
     "text": [
      "DEBUG:root:EVAL:   loss.item(): 2.280287027359009 valid_running_correct: 40\n",
      "DEBUG:root:TRAIN: loss.item(): 5.053630352020264, train_running_correct: 16\n"
     ]
    },
    {
     "name": "stdout",
     "output_type": "stream",
     "text": [
      "Epoch: 16/30, Training accuracy: 0.640000, Loss: 5.053630, Validation accuracy: 0.533333\n",
      "--------------------------------------------------\n"
     ]
    },
    {
     "name": "stderr",
     "output_type": "stream",
     "text": [
      "DEBUG:root:EVAL:   loss.item(): 1.2660542726516724 valid_running_correct: 45\n",
      "DEBUG:root:TRAIN: loss.item(): 0.9976967573165894, train_running_correct: 17\n"
     ]
    },
    {
     "name": "stdout",
     "output_type": "stream",
     "text": [
      "Epoch: 17/30, Training accuracy: 0.680000, Loss: 0.997697, Validation accuracy: 0.600000\n",
      "--------------------------------------------------\n"
     ]
    },
    {
     "name": "stderr",
     "output_type": "stream",
     "text": [
      "DEBUG:root:EVAL:   loss.item(): 0.8751130104064941 valid_running_correct: 41\n",
      "DEBUG:root:TRAIN: loss.item(): 2.197662353515625, train_running_correct: 18\n"
     ]
    },
    {
     "name": "stdout",
     "output_type": "stream",
     "text": [
      "Epoch: 18/30, Training accuracy: 0.720000, Loss: 2.197662, Validation accuracy: 0.546667\n",
      "--------------------------------------------------\n"
     ]
    },
    {
     "name": "stderr",
     "output_type": "stream",
     "text": [
      "DEBUG:root:EVAL:   loss.item(): 0.854017436504364 valid_running_correct: 41\n",
      "DEBUG:root:TRAIN: loss.item(): 1.5633622407913208, train_running_correct: 17\n"
     ]
    },
    {
     "name": "stdout",
     "output_type": "stream",
     "text": [
      "Epoch: 19/30, Training accuracy: 0.680000, Loss: 1.563362, Validation accuracy: 0.546667\n",
      "--------------------------------------------------\n"
     ]
    },
    {
     "name": "stderr",
     "output_type": "stream",
     "text": [
      "DEBUG:root:EVAL:   loss.item(): 1.1395403146743774 valid_running_correct: 42\n",
      "DEBUG:root:TRAIN: loss.item(): 1.7279850244522095, train_running_correct: 20\n"
     ]
    },
    {
     "name": "stdout",
     "output_type": "stream",
     "text": [
      "Epoch: 20/30, Training accuracy: 0.800000, Loss: 1.727985, Validation accuracy: 0.560000\n",
      "--------------------------------------------------\n"
     ]
    },
    {
     "name": "stderr",
     "output_type": "stream",
     "text": [
      "DEBUG:root:EVAL:   loss.item(): 0.9360654354095459 valid_running_correct: 40\n",
      "DEBUG:root:TRAIN: loss.item(): 0.6848518252372742, train_running_correct: 17\n"
     ]
    },
    {
     "name": "stdout",
     "output_type": "stream",
     "text": [
      "Epoch: 21/30, Training accuracy: 0.680000, Loss: 0.684852, Validation accuracy: 0.533333\n",
      "--------------------------------------------------\n"
     ]
    },
    {
     "name": "stderr",
     "output_type": "stream",
     "text": [
      "DEBUG:root:EVAL:   loss.item(): 0.8578431010246277 valid_running_correct: 41\n",
      "DEBUG:root:TRAIN: loss.item(): 3.2029905319213867, train_running_correct: 18\n"
     ]
    },
    {
     "name": "stdout",
     "output_type": "stream",
     "text": [
      "Epoch: 22/30, Training accuracy: 0.720000, Loss: 3.202991, Validation accuracy: 0.546667\n",
      "--------------------------------------------------\n"
     ]
    },
    {
     "name": "stderr",
     "output_type": "stream",
     "text": [
      "DEBUG:root:EVAL:   loss.item(): 0.8758924007415771 valid_running_correct: 45\n",
      "DEBUG:root:TRAIN: loss.item(): 2.231616497039795, train_running_correct: 15\n"
     ]
    },
    {
     "name": "stdout",
     "output_type": "stream",
     "text": [
      "Epoch: 23/30, Training accuracy: 0.600000, Loss: 2.231616, Validation accuracy: 0.600000\n",
      "--------------------------------------------------\n"
     ]
    },
    {
     "name": "stderr",
     "output_type": "stream",
     "text": [
      "DEBUG:root:EVAL:   loss.item(): 1.4639915227890015 valid_running_correct: 45\n",
      "DEBUG:root:TRAIN: loss.item(): 2.3154852390289307, train_running_correct: 21\n"
     ]
    },
    {
     "name": "stdout",
     "output_type": "stream",
     "text": [
      "Epoch: 24/30, Training accuracy: 0.840000, Loss: 2.315485, Validation accuracy: 0.600000\n",
      "--------------------------------------------------\n"
     ]
    },
    {
     "name": "stderr",
     "output_type": "stream",
     "text": [
      "DEBUG:root:EVAL:   loss.item(): 1.287063717842102 valid_running_correct: 48\n",
      "DEBUG:root:TRAIN: loss.item(): 0.9364110231399536, train_running_correct: 19\n"
     ]
    },
    {
     "name": "stdout",
     "output_type": "stream",
     "text": [
      "Epoch: 25/30, Training accuracy: 0.760000, Loss: 0.936411, Validation accuracy: 0.640000\n",
      "--------------------------------------------------\n"
     ]
    },
    {
     "name": "stderr",
     "output_type": "stream",
     "text": [
      "DEBUG:root:EVAL:   loss.item(): 1.3139222860336304 valid_running_correct: 49\n",
      "DEBUG:root:TRAIN: loss.item(): 2.1084818840026855, train_running_correct: 21\n"
     ]
    },
    {
     "name": "stdout",
     "output_type": "stream",
     "text": [
      "Epoch: 26/30, Training accuracy: 0.840000, Loss: 2.108482, Validation accuracy: 0.653333\n",
      "--------------------------------------------------\n"
     ]
    },
    {
     "name": "stderr",
     "output_type": "stream",
     "text": [
      "DEBUG:root:EVAL:   loss.item(): 1.3085094690322876 valid_running_correct: 46\n",
      "DEBUG:root:TRAIN: loss.item(): 0.9451946020126343, train_running_correct: 19\n"
     ]
    },
    {
     "name": "stdout",
     "output_type": "stream",
     "text": [
      "Epoch: 27/30, Training accuracy: 0.760000, Loss: 0.945195, Validation accuracy: 0.613333\n",
      "--------------------------------------------------\n"
     ]
    },
    {
     "name": "stderr",
     "output_type": "stream",
     "text": [
      "DEBUG:root:EVAL:   loss.item(): 1.57313072681427 valid_running_correct: 45\n",
      "DEBUG:root:TRAIN: loss.item(): 2.423859119415283, train_running_correct: 17\n"
     ]
    },
    {
     "name": "stdout",
     "output_type": "stream",
     "text": [
      "Epoch: 28/30, Training accuracy: 0.680000, Loss: 2.423859, Validation accuracy: 0.600000\n",
      "--------------------------------------------------\n"
     ]
    },
    {
     "name": "stderr",
     "output_type": "stream",
     "text": [
      "DEBUG:root:EVAL:   loss.item(): 1.756548523902893 valid_running_correct: 48\n",
      "DEBUG:root:TRAIN: loss.item(): 1.7620803117752075, train_running_correct: 20\n"
     ]
    },
    {
     "name": "stdout",
     "output_type": "stream",
     "text": [
      "Epoch: 29/30, Training accuracy: 0.800000, Loss: 1.762080, Validation accuracy: 0.640000\n",
      "--------------------------------------------------\n"
     ]
    },
    {
     "name": "stderr",
     "output_type": "stream",
     "text": [
      "DEBUG:root:EVAL:   loss.item(): 2.060992479324341 valid_running_correct: 44\n",
      "DEBUG:root:TRAIN: loss.item(): 2.4616806507110596, train_running_correct: 19\n"
     ]
    },
    {
     "name": "stdout",
     "output_type": "stream",
     "text": [
      "Epoch: 30/30, Training accuracy: 0.760000, Loss: 2.461681, Validation accuracy: 0.586667\n",
      "--------------------------------------------------\n"
     ]
    },
    {
     "name": "stderr",
     "output_type": "stream",
     "text": [
      "DEBUG:root:EVAL:   loss.item(): 2.060992479324341 valid_running_correct: 44\n",
      "DEBUG:root:Selecting 5 categories from ['AnnualCrop', 'Forest', 'HerbaceousVegetation', 'Highway', 'Industrial', 'Pasture', 'PermanentCrop', 'Residential', 'River', 'SeaLake'] categories\n",
      "DEBUG:root:Selected categories: ['Residential' 'Industrial' 'AnnualCrop' 'Pasture' 'Forest']\n",
      "DEBUG:root:Selected ['Residential_1125.jpg', 'Residential_1359.jpg', 'Residential_1245.jpg', 'Residential_1141.jpg', 'Residential_1397.jpg', 'Residential_172.jpg', 'Residential_650.jpg', 'Residential_2644.jpg', 'Residential_2531.jpg', 'Residential_2562.jpg', 'Residential_2587.jpg', 'Residential_1679.jpg', 'Residential_1316.jpg', 'Residential_2759.jpg', 'Residential_244.jpg', 'Residential_520.jpg', 'Residential_163.jpg', 'Residential_2994.jpg', 'Residential_2218.jpg', 'Residential_1873.jpg'] from Residential\n",
      "DEBUG:root:Creating Residential directory\n",
      "DEBUG:root:Selected ['Industrial_1855.jpg', 'Industrial_2072.jpg', 'Industrial_160.jpg', 'Industrial_1298.jpg', 'Industrial_253.jpg', 'Industrial_1908.jpg', 'Industrial_2458.jpg', 'Industrial_1871.jpg', 'Industrial_868.jpg', 'Industrial_1158.jpg', 'Industrial_1597.jpg', 'Industrial_2284.jpg', 'Industrial_581.jpg', 'Industrial_494.jpg', 'Industrial_1357.jpg', 'Industrial_2129.jpg', 'Industrial_1978.jpg', 'Industrial_1342.jpg', 'Industrial_398.jpg', 'Industrial_1814.jpg'] from Industrial\n",
      "DEBUG:root:Creating Industrial directory\n",
      "DEBUG:root:Selected ['AnnualCrop_2184.jpg', 'AnnualCrop_2204.jpg', 'AnnualCrop_1303.jpg', 'AnnualCrop_2741.jpg', 'AnnualCrop_1205.jpg', 'AnnualCrop_2229.jpg', 'AnnualCrop_261.jpg', 'AnnualCrop_1605.jpg', 'AnnualCrop_2166.jpg', 'AnnualCrop_1345.jpg', 'AnnualCrop_1505.jpg', 'AnnualCrop_872.jpg', 'AnnualCrop_1695.jpg', 'AnnualCrop_279.jpg', 'AnnualCrop_2983.jpg', 'AnnualCrop_982.jpg', 'AnnualCrop_2892.jpg', 'AnnualCrop_1476.jpg', 'AnnualCrop_2763.jpg', 'AnnualCrop_1121.jpg'] from AnnualCrop\n",
      "DEBUG:root:Creating AnnualCrop directory\n",
      "DEBUG:root:Selected ['Pasture_424.jpg', 'Pasture_651.jpg', 'Pasture_1655.jpg', 'Pasture_1089.jpg', 'Pasture_142.jpg', 'Pasture_1404.jpg', 'Pasture_1358.jpg', 'Pasture_735.jpg', 'Pasture_699.jpg', 'Pasture_1949.jpg', 'Pasture_575.jpg', 'Pasture_1865.jpg', 'Pasture_1305.jpg', 'Pasture_1036.jpg', 'Pasture_1362.jpg', 'Pasture_1712.jpg', 'Pasture_2000.jpg', 'Pasture_1524.jpg', 'Pasture_1136.jpg', 'Pasture_1382.jpg'] from Pasture\n",
      "DEBUG:root:Creating Pasture directory\n",
      "DEBUG:root:Selected ['Forest_498.jpg', 'Forest_31.jpg', 'Forest_2922.jpg', 'Forest_1411.jpg', 'Forest_2588.jpg', 'Forest_478.jpg', 'Forest_2668.jpg', 'Forest_2974.jpg', 'Forest_795.jpg', 'Forest_1707.jpg', 'Forest_2317.jpg', 'Forest_2787.jpg', 'Forest_2573.jpg', 'Forest_2216.jpg', 'Forest_2367.jpg', 'Forest_2566.jpg', 'Forest_907.jpg', 'Forest_507.jpg', 'Forest_1581.jpg', 'Forest_2679.jpg'] from Forest\n",
      "DEBUG:root:Creating Forest directory\n",
      "DEBUG:root:Selected ['Residential_2218.jpg', 'Residential_1245.jpg', 'Residential_163.jpg', 'Residential_2759.jpg', 'Residential_1141.jpg'] for training\n",
      "DEBUG:root:Creating Residential directory\n",
      "DEBUG:root:Selected ['Industrial_581.jpg', 'Industrial_2284.jpg', 'Industrial_1597.jpg', 'Industrial_1342.jpg', 'Industrial_494.jpg'] for training\n",
      "DEBUG:root:Creating Industrial directory\n",
      "DEBUG:root:Selected ['AnnualCrop_2892.jpg', 'AnnualCrop_872.jpg', 'AnnualCrop_982.jpg', 'AnnualCrop_1303.jpg', 'AnnualCrop_2229.jpg'] for training\n",
      "DEBUG:root:Creating AnnualCrop directory\n",
      "DEBUG:root:Selected ['Pasture_1358.jpg', 'Pasture_1524.jpg', 'Pasture_1036.jpg', 'Pasture_1865.jpg', 'Pasture_424.jpg'] for training\n",
      "DEBUG:root:Creating Pasture directory\n",
      "DEBUG:root:Selected ['Forest_2566.jpg', 'Forest_1707.jpg', 'Forest_1581.jpg', 'Forest_1411.jpg', 'Forest_31.jpg'] for training\n",
      "DEBUG:root:Creating Forest directory\n",
      "DEBUG:root: len(trainLoader.dataset): 25\n",
      "DEBUG:root: len(valLoader.dataset): 75\n"
     ]
    },
    {
     "name": "stdout",
     "output_type": "stream",
     "text": [
      "EuroSAT model 9/11 results: 0.587\n",
      "Training EuroSAT model 10/11\n",
      "Using CUDA\n",
      "Training\n"
     ]
    },
    {
     "name": "stderr",
     "output_type": "stream",
     "text": [
      "DEBUG:root:EVAL:   loss.item(): 3.5794312953948975 valid_running_correct: 20\n",
      "DEBUG:root:TRAIN: loss.item(): 2.2177419662475586, train_running_correct: 7\n"
     ]
    },
    {
     "name": "stdout",
     "output_type": "stream",
     "text": [
      "Epoch: 1/30, Training accuracy: 0.280000, Loss: 2.217742, Validation accuracy: 0.266667\n",
      "--------------------------------------------------\n"
     ]
    },
    {
     "name": "stderr",
     "output_type": "stream",
     "text": [
      "DEBUG:root:EVAL:   loss.item(): 1.8737374544143677 valid_running_correct: 25\n",
      "DEBUG:root:TRAIN: loss.item(): 1.9742907285690308, train_running_correct: 6\n"
     ]
    },
    {
     "name": "stdout",
     "output_type": "stream",
     "text": [
      "Epoch: 2/30, Training accuracy: 0.240000, Loss: 1.974291, Validation accuracy: 0.333333\n",
      "--------------------------------------------------\n"
     ]
    },
    {
     "name": "stderr",
     "output_type": "stream",
     "text": [
      "DEBUG:root:EVAL:   loss.item(): 0.80892014503479 valid_running_correct: 29\n",
      "DEBUG:root:TRAIN: loss.item(): 1.617879867553711, train_running_correct: 9\n"
     ]
    },
    {
     "name": "stdout",
     "output_type": "stream",
     "text": [
      "Epoch: 3/30, Training accuracy: 0.360000, Loss: 1.617880, Validation accuracy: 0.386667\n",
      "--------------------------------------------------\n"
     ]
    },
    {
     "name": "stderr",
     "output_type": "stream",
     "text": [
      "DEBUG:root:EVAL:   loss.item(): 0.20451553165912628 valid_running_correct: 27\n",
      "DEBUG:root:TRAIN: loss.item(): 1.641794204711914, train_running_correct: 7\n"
     ]
    },
    {
     "name": "stdout",
     "output_type": "stream",
     "text": [
      "Epoch: 4/30, Training accuracy: 0.280000, Loss: 1.641794, Validation accuracy: 0.360000\n",
      "--------------------------------------------------\n"
     ]
    },
    {
     "name": "stderr",
     "output_type": "stream",
     "text": [
      "DEBUG:root:EVAL:   loss.item(): 0.15666340291500092 valid_running_correct: 25\n",
      "DEBUG:root:TRAIN: loss.item(): 2.2113327980041504, train_running_correct: 7\n"
     ]
    },
    {
     "name": "stdout",
     "output_type": "stream",
     "text": [
      "Epoch: 5/30, Training accuracy: 0.280000, Loss: 2.211333, Validation accuracy: 0.333333\n",
      "--------------------------------------------------\n"
     ]
    },
    {
     "name": "stderr",
     "output_type": "stream",
     "text": [
      "DEBUG:root:EVAL:   loss.item(): 0.21522508561611176 valid_running_correct: 28\n",
      "DEBUG:root:TRAIN: loss.item(): 0.6282551288604736, train_running_correct: 11\n"
     ]
    },
    {
     "name": "stdout",
     "output_type": "stream",
     "text": [
      "Epoch: 6/30, Training accuracy: 0.440000, Loss: 0.628255, Validation accuracy: 0.373333\n",
      "--------------------------------------------------\n"
     ]
    },
    {
     "name": "stderr",
     "output_type": "stream",
     "text": [
      "DEBUG:root:EVAL:   loss.item(): 0.14420096576213837 valid_running_correct: 28\n",
      "DEBUG:root:TRAIN: loss.item(): 0.5644208788871765, train_running_correct: 9\n"
     ]
    },
    {
     "name": "stdout",
     "output_type": "stream",
     "text": [
      "Epoch: 7/30, Training accuracy: 0.360000, Loss: 0.564421, Validation accuracy: 0.373333\n",
      "--------------------------------------------------\n"
     ]
    },
    {
     "name": "stderr",
     "output_type": "stream",
     "text": [
      "DEBUG:root:EVAL:   loss.item(): 0.21116286516189575 valid_running_correct: 29\n",
      "DEBUG:root:TRAIN: loss.item(): 3.4974896907806396, train_running_correct: 11\n"
     ]
    },
    {
     "name": "stdout",
     "output_type": "stream",
     "text": [
      "Epoch: 8/30, Training accuracy: 0.440000, Loss: 3.497490, Validation accuracy: 0.386667\n",
      "--------------------------------------------------\n"
     ]
    },
    {
     "name": "stderr",
     "output_type": "stream",
     "text": [
      "DEBUG:root:EVAL:   loss.item(): 0.7113868594169617 valid_running_correct: 30\n",
      "DEBUG:root:TRAIN: loss.item(): 1.5993952751159668, train_running_correct: 11\n"
     ]
    },
    {
     "name": "stdout",
     "output_type": "stream",
     "text": [
      "Epoch: 9/30, Training accuracy: 0.440000, Loss: 1.599395, Validation accuracy: 0.400000\n",
      "--------------------------------------------------\n"
     ]
    },
    {
     "name": "stderr",
     "output_type": "stream",
     "text": [
      "DEBUG:root:EVAL:   loss.item(): 1.8727601766586304 valid_running_correct: 33\n",
      "DEBUG:root:TRAIN: loss.item(): 0.7854508757591248, train_running_correct: 11\n"
     ]
    },
    {
     "name": "stdout",
     "output_type": "stream",
     "text": [
      "Epoch: 10/30, Training accuracy: 0.440000, Loss: 0.785451, Validation accuracy: 0.440000\n",
      "--------------------------------------------------\n"
     ]
    },
    {
     "name": "stderr",
     "output_type": "stream",
     "text": [
      "DEBUG:root:EVAL:   loss.item(): 2.6424472332000732 valid_running_correct: 34\n",
      "DEBUG:root:TRAIN: loss.item(): 2.5572733879089355, train_running_correct: 14\n"
     ]
    },
    {
     "name": "stdout",
     "output_type": "stream",
     "text": [
      "Epoch: 11/30, Training accuracy: 0.560000, Loss: 2.557273, Validation accuracy: 0.453333\n",
      "--------------------------------------------------\n"
     ]
    },
    {
     "name": "stderr",
     "output_type": "stream",
     "text": [
      "DEBUG:root:EVAL:   loss.item(): 2.3712456226348877 valid_running_correct: 37\n",
      "DEBUG:root:TRAIN: loss.item(): 3.2061069011688232, train_running_correct: 15\n"
     ]
    },
    {
     "name": "stdout",
     "output_type": "stream",
     "text": [
      "Epoch: 12/30, Training accuracy: 0.600000, Loss: 3.206107, Validation accuracy: 0.493333\n",
      "--------------------------------------------------\n"
     ]
    },
    {
     "name": "stderr",
     "output_type": "stream",
     "text": [
      "DEBUG:root:EVAL:   loss.item(): 1.6228965520858765 valid_running_correct: 42\n",
      "DEBUG:root:TRAIN: loss.item(): 1.645208716392517, train_running_correct: 16\n"
     ]
    },
    {
     "name": "stdout",
     "output_type": "stream",
     "text": [
      "Epoch: 13/30, Training accuracy: 0.640000, Loss: 1.645209, Validation accuracy: 0.560000\n",
      "--------------------------------------------------\n"
     ]
    },
    {
     "name": "stderr",
     "output_type": "stream",
     "text": [
      "DEBUG:root:EVAL:   loss.item(): 1.48125159740448 valid_running_correct: 35\n",
      "DEBUG:root:TRAIN: loss.item(): 0.28978532552719116, train_running_correct: 15\n"
     ]
    },
    {
     "name": "stdout",
     "output_type": "stream",
     "text": [
      "Epoch: 14/30, Training accuracy: 0.600000, Loss: 0.289785, Validation accuracy: 0.466667\n",
      "--------------------------------------------------\n"
     ]
    },
    {
     "name": "stderr",
     "output_type": "stream",
     "text": [
      "DEBUG:root:EVAL:   loss.item(): 1.471138834953308 valid_running_correct: 28\n",
      "DEBUG:root:TRAIN: loss.item(): 0.07156124711036682, train_running_correct: 13\n"
     ]
    },
    {
     "name": "stdout",
     "output_type": "stream",
     "text": [
      "Epoch: 15/30, Training accuracy: 0.520000, Loss: 0.071561, Validation accuracy: 0.373333\n",
      "--------------------------------------------------\n"
     ]
    },
    {
     "name": "stderr",
     "output_type": "stream",
     "text": [
      "DEBUG:root:EVAL:   loss.item(): 0.8228890895843506 valid_running_correct: 38\n",
      "DEBUG:root:TRAIN: loss.item(): 0.11576971411705017, train_running_correct: 7\n"
     ]
    },
    {
     "name": "stdout",
     "output_type": "stream",
     "text": [
      "Epoch: 16/30, Training accuracy: 0.280000, Loss: 0.115770, Validation accuracy: 0.506667\n",
      "--------------------------------------------------\n"
     ]
    },
    {
     "name": "stderr",
     "output_type": "stream",
     "text": [
      "DEBUG:root:EVAL:   loss.item(): 0.35455790162086487 valid_running_correct: 36\n",
      "DEBUG:root:TRAIN: loss.item(): 0.418939471244812, train_running_correct: 14\n"
     ]
    },
    {
     "name": "stdout",
     "output_type": "stream",
     "text": [
      "Epoch: 17/30, Training accuracy: 0.560000, Loss: 0.418939, Validation accuracy: 0.480000\n",
      "--------------------------------------------------\n"
     ]
    },
    {
     "name": "stderr",
     "output_type": "stream",
     "text": [
      "DEBUG:root:EVAL:   loss.item(): 0.1406192034482956 valid_running_correct: 36\n",
      "DEBUG:root:TRAIN: loss.item(): 0.9951963424682617, train_running_correct: 19\n"
     ]
    },
    {
     "name": "stdout",
     "output_type": "stream",
     "text": [
      "Epoch: 18/30, Training accuracy: 0.760000, Loss: 0.995196, Validation accuracy: 0.480000\n",
      "--------------------------------------------------\n"
     ]
    },
    {
     "name": "stderr",
     "output_type": "stream",
     "text": [
      "DEBUG:root:EVAL:   loss.item(): 0.05335506424307823 valid_running_correct: 37\n",
      "DEBUG:root:TRAIN: loss.item(): 0.4547980725765228, train_running_correct: 18\n"
     ]
    },
    {
     "name": "stdout",
     "output_type": "stream",
     "text": [
      "Epoch: 19/30, Training accuracy: 0.720000, Loss: 0.454798, Validation accuracy: 0.493333\n",
      "--------------------------------------------------\n"
     ]
    },
    {
     "name": "stderr",
     "output_type": "stream",
     "text": [
      "DEBUG:root:EVAL:   loss.item(): 0.04298470914363861 valid_running_correct: 40\n",
      "DEBUG:root:TRAIN: loss.item(): 2.5354809761047363, train_running_correct: 21\n"
     ]
    },
    {
     "name": "stdout",
     "output_type": "stream",
     "text": [
      "Epoch: 20/30, Training accuracy: 0.840000, Loss: 2.535481, Validation accuracy: 0.533333\n",
      "--------------------------------------------------\n"
     ]
    },
    {
     "name": "stderr",
     "output_type": "stream",
     "text": [
      "DEBUG:root:EVAL:   loss.item(): 0.26538974046707153 valid_running_correct: 47\n",
      "DEBUG:root:TRAIN: loss.item(): 2.3223462104797363, train_running_correct: 20\n"
     ]
    },
    {
     "name": "stdout",
     "output_type": "stream",
     "text": [
      "Epoch: 21/30, Training accuracy: 0.800000, Loss: 2.322346, Validation accuracy: 0.626667\n",
      "--------------------------------------------------\n"
     ]
    },
    {
     "name": "stderr",
     "output_type": "stream",
     "text": [
      "DEBUG:root:EVAL:   loss.item(): 0.6592453122138977 valid_running_correct: 50\n",
      "DEBUG:root:TRAIN: loss.item(): 2.133723258972168, train_running_correct: 19\n"
     ]
    },
    {
     "name": "stdout",
     "output_type": "stream",
     "text": [
      "Epoch: 22/30, Training accuracy: 0.760000, Loss: 2.133723, Validation accuracy: 0.666667\n",
      "--------------------------------------------------\n"
     ]
    },
    {
     "name": "stderr",
     "output_type": "stream",
     "text": [
      "DEBUG:root:EVAL:   loss.item(): 0.3318779170513153 valid_running_correct: 51\n",
      "DEBUG:root:TRAIN: loss.item(): 2.9257616996765137, train_running_correct: 19\n"
     ]
    },
    {
     "name": "stdout",
     "output_type": "stream",
     "text": [
      "Epoch: 23/30, Training accuracy: 0.760000, Loss: 2.925762, Validation accuracy: 0.680000\n",
      "--------------------------------------------------\n"
     ]
    },
    {
     "name": "stderr",
     "output_type": "stream",
     "text": [
      "DEBUG:root:EVAL:   loss.item(): 0.35847222805023193 valid_running_correct: 44\n",
      "DEBUG:root:TRAIN: loss.item(): 1.5322952270507812, train_running_correct: 20\n"
     ]
    },
    {
     "name": "stdout",
     "output_type": "stream",
     "text": [
      "Epoch: 24/30, Training accuracy: 0.800000, Loss: 1.532295, Validation accuracy: 0.586667\n",
      "--------------------------------------------------\n"
     ]
    },
    {
     "name": "stderr",
     "output_type": "stream",
     "text": [
      "DEBUG:root:EVAL:   loss.item(): 0.16915397346019745 valid_running_correct: 38\n",
      "DEBUG:root:TRAIN: loss.item(): 0.7208218574523926, train_running_correct: 19\n"
     ]
    },
    {
     "name": "stdout",
     "output_type": "stream",
     "text": [
      "Epoch: 25/30, Training accuracy: 0.760000, Loss: 0.720822, Validation accuracy: 0.506667\n",
      "--------------------------------------------------\n"
     ]
    },
    {
     "name": "stderr",
     "output_type": "stream",
     "text": [
      "DEBUG:root:EVAL:   loss.item(): 0.01935749687254429 valid_running_correct: 45\n",
      "DEBUG:root:TRAIN: loss.item(): 2.2989890575408936, train_running_correct: 19\n"
     ]
    },
    {
     "name": "stdout",
     "output_type": "stream",
     "text": [
      "Epoch: 26/30, Training accuracy: 0.760000, Loss: 2.298989, Validation accuracy: 0.600000\n",
      "--------------------------------------------------\n"
     ]
    },
    {
     "name": "stderr",
     "output_type": "stream",
     "text": [
      "DEBUG:root:EVAL:   loss.item(): 0.12833188474178314 valid_running_correct: 41\n",
      "DEBUG:root:TRAIN: loss.item(): 0.6217187643051147, train_running_correct: 16\n"
     ]
    },
    {
     "name": "stdout",
     "output_type": "stream",
     "text": [
      "Epoch: 27/30, Training accuracy: 0.640000, Loss: 0.621719, Validation accuracy: 0.546667\n",
      "--------------------------------------------------\n"
     ]
    },
    {
     "name": "stderr",
     "output_type": "stream",
     "text": [
      "DEBUG:root:EVAL:   loss.item(): 0.04966404661536217 valid_running_correct: 47\n",
      "DEBUG:root:TRAIN: loss.item(): 1.0274372100830078, train_running_correct: 19\n"
     ]
    },
    {
     "name": "stdout",
     "output_type": "stream",
     "text": [
      "Epoch: 28/30, Training accuracy: 0.760000, Loss: 1.027437, Validation accuracy: 0.626667\n",
      "--------------------------------------------------\n"
     ]
    },
    {
     "name": "stderr",
     "output_type": "stream",
     "text": [
      "DEBUG:root:EVAL:   loss.item(): 0.16216112673282623 valid_running_correct: 52\n",
      "DEBUG:root:TRAIN: loss.item(): 0.49654945731163025, train_running_correct: 23\n"
     ]
    },
    {
     "name": "stdout",
     "output_type": "stream",
     "text": [
      "Epoch: 29/30, Training accuracy: 0.920000, Loss: 0.496549, Validation accuracy: 0.693333\n",
      "--------------------------------------------------\n"
     ]
    },
    {
     "name": "stderr",
     "output_type": "stream",
     "text": [
      "DEBUG:root:EVAL:   loss.item(): 0.2584262788295746 valid_running_correct: 47\n",
      "DEBUG:root:TRAIN: loss.item(): 2.9075751304626465, train_running_correct: 21\n"
     ]
    },
    {
     "name": "stdout",
     "output_type": "stream",
     "text": [
      "Epoch: 30/30, Training accuracy: 0.840000, Loss: 2.907575, Validation accuracy: 0.626667\n",
      "--------------------------------------------------\n"
     ]
    },
    {
     "name": "stderr",
     "output_type": "stream",
     "text": [
      "DEBUG:root:EVAL:   loss.item(): 0.2584262788295746 valid_running_correct: 47\n",
      "DEBUG:root:Selecting 5 categories from ['AnnualCrop', 'Forest', 'HerbaceousVegetation', 'Highway', 'Industrial', 'Pasture', 'PermanentCrop', 'Residential', 'River', 'SeaLake'] categories\n",
      "DEBUG:root:Selected categories: ['SeaLake' 'AnnualCrop' 'PermanentCrop' 'Residential'\n",
      " 'HerbaceousVegetation']\n",
      "DEBUG:root:Selected ['SeaLake_1803.jpg', 'SeaLake_1421.jpg', 'SeaLake_40.jpg', 'SeaLake_2134.jpg', 'SeaLake_2694.jpg', 'SeaLake_176.jpg', 'SeaLake_745.jpg', 'SeaLake_2975.jpg', 'SeaLake_1247.jpg', 'SeaLake_1595.jpg', 'SeaLake_1643.jpg', 'SeaLake_503.jpg', 'SeaLake_2819.jpg', 'SeaLake_1393.jpg', 'SeaLake_1024.jpg', 'SeaLake_2766.jpg', 'SeaLake_2.jpg', 'SeaLake_1793.jpg', 'SeaLake_2930.jpg', 'SeaLake_47.jpg'] from SeaLake\n",
      "DEBUG:root:Creating SeaLake directory\n",
      "DEBUG:root:Selected ['AnnualCrop_2005.jpg', 'AnnualCrop_928.jpg', 'AnnualCrop_762.jpg', 'AnnualCrop_1300.jpg', 'AnnualCrop_2688.jpg', 'AnnualCrop_2238.jpg', 'AnnualCrop_1163.jpg', 'AnnualCrop_1727.jpg', 'AnnualCrop_2759.jpg', 'AnnualCrop_1728.jpg', 'AnnualCrop_847.jpg', 'AnnualCrop_534.jpg', 'AnnualCrop_34.jpg', 'AnnualCrop_1028.jpg', 'AnnualCrop_1160.jpg', 'AnnualCrop_956.jpg', 'AnnualCrop_700.jpg', 'AnnualCrop_2867.jpg', 'AnnualCrop_135.jpg', 'AnnualCrop_2047.jpg'] from AnnualCrop\n",
      "DEBUG:root:Creating AnnualCrop directory\n",
      "DEBUG:root:Selected ['PermanentCrop_2195.jpg', 'PermanentCrop_1173.jpg', 'PermanentCrop_1316.jpg', 'PermanentCrop_2248.jpg', 'PermanentCrop_1530.jpg', 'PermanentCrop_1982.jpg', 'PermanentCrop_801.jpg', 'PermanentCrop_2412.jpg', 'PermanentCrop_1153.jpg', 'PermanentCrop_2285.jpg', 'PermanentCrop_278.jpg', 'PermanentCrop_876.jpg', 'PermanentCrop_1195.jpg', 'PermanentCrop_1839.jpg', 'PermanentCrop_1388.jpg', 'PermanentCrop_112.jpg', 'PermanentCrop_918.jpg', 'PermanentCrop_1063.jpg', 'PermanentCrop_2398.jpg', 'PermanentCrop_1227.jpg'] from PermanentCrop\n",
      "DEBUG:root:Creating PermanentCrop directory\n",
      "DEBUG:root:Selected ['Residential_1845.jpg', 'Residential_386.jpg', 'Residential_304.jpg', 'Residential_2361.jpg', 'Residential_2735.jpg', 'Residential_1397.jpg', 'Residential_2990.jpg', 'Residential_2235.jpg', 'Residential_495.jpg', 'Residential_1645.jpg', 'Residential_1449.jpg', 'Residential_2476.jpg', 'Residential_1502.jpg', 'Residential_821.jpg', 'Residential_989.jpg', 'Residential_1540.jpg', 'Residential_2532.jpg', 'Residential_1465.jpg', 'Residential_1161.jpg', 'Residential_497.jpg'] from Residential\n",
      "DEBUG:root:Creating Residential directory\n",
      "DEBUG:root:Selected ['HerbaceousVegetation_351.jpg', 'HerbaceousVegetation_2373.jpg', 'HerbaceousVegetation_2488.jpg', 'HerbaceousVegetation_505.jpg', 'HerbaceousVegetation_1439.jpg', 'HerbaceousVegetation_112.jpg', 'HerbaceousVegetation_245.jpg', 'HerbaceousVegetation_1675.jpg', 'HerbaceousVegetation_1216.jpg', 'HerbaceousVegetation_436.jpg', 'HerbaceousVegetation_247.jpg', 'HerbaceousVegetation_148.jpg', 'HerbaceousVegetation_1191.jpg', 'HerbaceousVegetation_2989.jpg', 'HerbaceousVegetation_51.jpg', 'HerbaceousVegetation_2727.jpg', 'HerbaceousVegetation_2357.jpg', 'HerbaceousVegetation_2618.jpg', 'HerbaceousVegetation_551.jpg', 'HerbaceousVegetation_2970.jpg'] from HerbaceousVegetation\n",
      "DEBUG:root:Creating HerbaceousVegetation directory\n",
      "DEBUG:root:Selected ['SeaLake_1793.jpg', 'SeaLake_1247.jpg', 'SeaLake_47.jpg', 'SeaLake_40.jpg', 'SeaLake_745.jpg'] for training\n",
      "DEBUG:root:Creating SeaLake directory\n",
      "DEBUG:root:Selected ['AnnualCrop_1028.jpg', 'AnnualCrop_2047.jpg', 'AnnualCrop_34.jpg', 'AnnualCrop_762.jpg', 'AnnualCrop_1728.jpg'] for training\n",
      "DEBUG:root:Creating AnnualCrop directory\n",
      "DEBUG:root:Selected ['PermanentCrop_1388.jpg', 'PermanentCrop_2248.jpg', 'PermanentCrop_2398.jpg', 'PermanentCrop_1227.jpg', 'PermanentCrop_2195.jpg'] for training\n",
      "DEBUG:root:Creating PermanentCrop directory\n",
      "DEBUG:root:Selected ['Residential_495.jpg', 'Residential_2532.jpg', 'Residential_1645.jpg', 'Residential_2476.jpg', 'Residential_497.jpg'] for training\n",
      "DEBUG:root:Creating Residential directory\n",
      "DEBUG:root:Selected ['HerbaceousVegetation_2357.jpg', 'HerbaceousVegetation_148.jpg', 'HerbaceousVegetation_112.jpg', 'HerbaceousVegetation_247.jpg', 'HerbaceousVegetation_2727.jpg'] for training\n",
      "DEBUG:root:Creating HerbaceousVegetation directory\n",
      "DEBUG:root: len(trainLoader.dataset): 25\n",
      "DEBUG:root: len(valLoader.dataset): 75\n"
     ]
    },
    {
     "name": "stdout",
     "output_type": "stream",
     "text": [
      "EuroSAT model 10/11 results: 0.627\n",
      "Training EuroSAT model 11/11\n",
      "Using CUDA\n",
      "Training\n"
     ]
    },
    {
     "name": "stderr",
     "output_type": "stream",
     "text": [
      "DEBUG:root:EVAL:   loss.item(): 0.5098819732666016 valid_running_correct: 30\n",
      "DEBUG:root:TRAIN: loss.item(): 0.6382547616958618, train_running_correct: 11\n"
     ]
    },
    {
     "name": "stdout",
     "output_type": "stream",
     "text": [
      "Epoch: 1/30, Training accuracy: 0.440000, Loss: 0.638255, Validation accuracy: 0.400000\n",
      "--------------------------------------------------\n"
     ]
    },
    {
     "name": "stderr",
     "output_type": "stream",
     "text": [
      "DEBUG:root:EVAL:   loss.item(): 0.2364255040884018 valid_running_correct: 29\n",
      "DEBUG:root:TRAIN: loss.item(): 1.6600310802459717, train_running_correct: 14\n"
     ]
    },
    {
     "name": "stdout",
     "output_type": "stream",
     "text": [
      "Epoch: 2/30, Training accuracy: 0.560000, Loss: 1.660031, Validation accuracy: 0.386667\n",
      "--------------------------------------------------\n"
     ]
    },
    {
     "name": "stderr",
     "output_type": "stream",
     "text": [
      "DEBUG:root:EVAL:   loss.item(): 0.2561343014240265 valid_running_correct: 30\n",
      "DEBUG:root:TRAIN: loss.item(): 2.1592042446136475, train_running_correct: 13\n"
     ]
    },
    {
     "name": "stdout",
     "output_type": "stream",
     "text": [
      "Epoch: 3/30, Training accuracy: 0.520000, Loss: 2.159204, Validation accuracy: 0.400000\n",
      "--------------------------------------------------\n"
     ]
    },
    {
     "name": "stderr",
     "output_type": "stream",
     "text": [
      "DEBUG:root:EVAL:   loss.item(): 0.507923424243927 valid_running_correct: 26\n",
      "DEBUG:root:TRAIN: loss.item(): 2.894691228866577, train_running_correct: 13\n"
     ]
    },
    {
     "name": "stdout",
     "output_type": "stream",
     "text": [
      "Epoch: 4/30, Training accuracy: 0.520000, Loss: 2.894691, Validation accuracy: 0.346667\n",
      "--------------------------------------------------\n"
     ]
    },
    {
     "name": "stderr",
     "output_type": "stream",
     "text": [
      "DEBUG:root:EVAL:   loss.item(): 1.1128337383270264 valid_running_correct: 36\n",
      "DEBUG:root:TRAIN: loss.item(): 2.1765403747558594, train_running_correct: 10\n"
     ]
    },
    {
     "name": "stdout",
     "output_type": "stream",
     "text": [
      "Epoch: 5/30, Training accuracy: 0.400000, Loss: 2.176540, Validation accuracy: 0.480000\n",
      "--------------------------------------------------\n"
     ]
    },
    {
     "name": "stderr",
     "output_type": "stream",
     "text": [
      "DEBUG:root:EVAL:   loss.item(): 0.7393749356269836 valid_running_correct: 37\n",
      "DEBUG:root:TRAIN: loss.item(): 2.2177488803863525, train_running_correct: 11\n"
     ]
    },
    {
     "name": "stdout",
     "output_type": "stream",
     "text": [
      "Epoch: 6/30, Training accuracy: 0.440000, Loss: 2.217749, Validation accuracy: 0.493333\n",
      "--------------------------------------------------\n"
     ]
    },
    {
     "name": "stderr",
     "output_type": "stream",
     "text": [
      "DEBUG:root:EVAL:   loss.item(): 0.7517826557159424 valid_running_correct: 39\n",
      "DEBUG:root:TRAIN: loss.item(): 1.498558759689331, train_running_correct: 17\n"
     ]
    },
    {
     "name": "stdout",
     "output_type": "stream",
     "text": [
      "Epoch: 7/30, Training accuracy: 0.680000, Loss: 1.498559, Validation accuracy: 0.520000\n",
      "--------------------------------------------------\n"
     ]
    },
    {
     "name": "stderr",
     "output_type": "stream",
     "text": [
      "DEBUG:root:EVAL:   loss.item(): 1.688105583190918 valid_running_correct: 36\n",
      "DEBUG:root:TRAIN: loss.item(): 1.6470874547958374, train_running_correct: 15\n"
     ]
    },
    {
     "name": "stdout",
     "output_type": "stream",
     "text": [
      "Epoch: 8/30, Training accuracy: 0.600000, Loss: 1.647087, Validation accuracy: 0.480000\n",
      "--------------------------------------------------\n"
     ]
    },
    {
     "name": "stderr",
     "output_type": "stream",
     "text": [
      "DEBUG:root:EVAL:   loss.item(): 2.570005178451538 valid_running_correct: 30\n",
      "DEBUG:root:TRAIN: loss.item(): 1.3085057735443115, train_running_correct: 11\n"
     ]
    },
    {
     "name": "stdout",
     "output_type": "stream",
     "text": [
      "Epoch: 9/30, Training accuracy: 0.440000, Loss: 1.308506, Validation accuracy: 0.400000\n",
      "--------------------------------------------------\n"
     ]
    },
    {
     "name": "stderr",
     "output_type": "stream",
     "text": [
      "DEBUG:root:EVAL:   loss.item(): 0.9979855418205261 valid_running_correct: 32\n",
      "DEBUG:root:TRAIN: loss.item(): 1.9043521881103516, train_running_correct: 15\n"
     ]
    },
    {
     "name": "stdout",
     "output_type": "stream",
     "text": [
      "Epoch: 10/30, Training accuracy: 0.600000, Loss: 1.904352, Validation accuracy: 0.426667\n",
      "--------------------------------------------------\n"
     ]
    },
    {
     "name": "stderr",
     "output_type": "stream",
     "text": [
      "DEBUG:root:EVAL:   loss.item(): 0.4384554624557495 valid_running_correct: 39\n",
      "DEBUG:root:TRAIN: loss.item(): 3.434497356414795, train_running_correct: 17\n"
     ]
    },
    {
     "name": "stdout",
     "output_type": "stream",
     "text": [
      "Epoch: 11/30, Training accuracy: 0.680000, Loss: 3.434497, Validation accuracy: 0.520000\n",
      "--------------------------------------------------\n"
     ]
    },
    {
     "name": "stderr",
     "output_type": "stream",
     "text": [
      "DEBUG:root:EVAL:   loss.item(): 0.14965938031673431 valid_running_correct: 44\n",
      "DEBUG:root:TRAIN: loss.item(): 1.7161238193511963, train_running_correct: 16\n"
     ]
    },
    {
     "name": "stdout",
     "output_type": "stream",
     "text": [
      "Epoch: 12/30, Training accuracy: 0.640000, Loss: 1.716124, Validation accuracy: 0.586667\n",
      "--------------------------------------------------\n"
     ]
    },
    {
     "name": "stderr",
     "output_type": "stream",
     "text": [
      "DEBUG:root:EVAL:   loss.item(): 0.04870772361755371 valid_running_correct: 44\n",
      "DEBUG:root:TRAIN: loss.item(): 2.013014793395996, train_running_correct: 21\n"
     ]
    },
    {
     "name": "stdout",
     "output_type": "stream",
     "text": [
      "Epoch: 13/30, Training accuracy: 0.840000, Loss: 2.013015, Validation accuracy: 0.586667\n",
      "--------------------------------------------------\n"
     ]
    },
    {
     "name": "stderr",
     "output_type": "stream",
     "text": [
      "DEBUG:root:EVAL:   loss.item(): 0.027467792853713036 valid_running_correct: 48\n",
      "DEBUG:root:TRAIN: loss.item(): 0.2836988866329193, train_running_correct: 18\n"
     ]
    },
    {
     "name": "stdout",
     "output_type": "stream",
     "text": [
      "Epoch: 14/30, Training accuracy: 0.720000, Loss: 0.283699, Validation accuracy: 0.640000\n",
      "--------------------------------------------------\n"
     ]
    },
    {
     "name": "stderr",
     "output_type": "stream",
     "text": [
      "DEBUG:root:EVAL:   loss.item(): 0.013107617385685444 valid_running_correct: 50\n",
      "DEBUG:root:TRAIN: loss.item(): 4.098271369934082, train_running_correct: 19\n"
     ]
    },
    {
     "name": "stdout",
     "output_type": "stream",
     "text": [
      "Epoch: 15/30, Training accuracy: 0.760000, Loss: 4.098271, Validation accuracy: 0.666667\n",
      "--------------------------------------------------\n"
     ]
    },
    {
     "name": "stderr",
     "output_type": "stream",
     "text": [
      "DEBUG:root:EVAL:   loss.item(): 0.024361712858080864 valid_running_correct: 48\n",
      "DEBUG:root:TRAIN: loss.item(): 2.257596015930176, train_running_correct: 19\n"
     ]
    },
    {
     "name": "stdout",
     "output_type": "stream",
     "text": [
      "Epoch: 16/30, Training accuracy: 0.760000, Loss: 2.257596, Validation accuracy: 0.640000\n",
      "--------------------------------------------------\n"
     ]
    },
    {
     "name": "stderr",
     "output_type": "stream",
     "text": [
      "DEBUG:root:EVAL:   loss.item(): 0.02537410520017147 valid_running_correct: 42\n",
      "DEBUG:root:TRAIN: loss.item(): 3.0169012546539307, train_running_correct: 19\n"
     ]
    },
    {
     "name": "stdout",
     "output_type": "stream",
     "text": [
      "Epoch: 17/30, Training accuracy: 0.760000, Loss: 3.016901, Validation accuracy: 0.560000\n",
      "--------------------------------------------------\n"
     ]
    },
    {
     "name": "stderr",
     "output_type": "stream",
     "text": [
      "DEBUG:root:EVAL:   loss.item(): 0.01448023971170187 valid_running_correct: 38\n",
      "DEBUG:root:TRAIN: loss.item(): 2.1561532020568848, train_running_correct: 17\n"
     ]
    },
    {
     "name": "stdout",
     "output_type": "stream",
     "text": [
      "Epoch: 18/30, Training accuracy: 0.680000, Loss: 2.156153, Validation accuracy: 0.506667\n",
      "--------------------------------------------------\n"
     ]
    },
    {
     "name": "stderr",
     "output_type": "stream",
     "text": [
      "DEBUG:root:EVAL:   loss.item(): 0.010142599232494831 valid_running_correct: 38\n",
      "DEBUG:root:TRAIN: loss.item(): 1.6203408241271973, train_running_correct: 16\n"
     ]
    },
    {
     "name": "stdout",
     "output_type": "stream",
     "text": [
      "Epoch: 19/30, Training accuracy: 0.640000, Loss: 1.620341, Validation accuracy: 0.506667\n",
      "--------------------------------------------------\n"
     ]
    },
    {
     "name": "stderr",
     "output_type": "stream",
     "text": [
      "DEBUG:root:EVAL:   loss.item(): 0.008123130537569523 valid_running_correct: 37\n",
      "DEBUG:root:TRAIN: loss.item(): 3.1031601428985596, train_running_correct: 16\n"
     ]
    },
    {
     "name": "stdout",
     "output_type": "stream",
     "text": [
      "Epoch: 20/30, Training accuracy: 0.640000, Loss: 3.103160, Validation accuracy: 0.493333\n",
      "--------------------------------------------------\n"
     ]
    },
    {
     "name": "stderr",
     "output_type": "stream",
     "text": [
      "DEBUG:root:EVAL:   loss.item(): 0.012353010475635529 valid_running_correct: 38\n",
      "DEBUG:root:TRAIN: loss.item(): 1.0146344900131226, train_running_correct: 15\n"
     ]
    },
    {
     "name": "stdout",
     "output_type": "stream",
     "text": [
      "Epoch: 21/30, Training accuracy: 0.600000, Loss: 1.014634, Validation accuracy: 0.506667\n",
      "--------------------------------------------------\n"
     ]
    },
    {
     "name": "stderr",
     "output_type": "stream",
     "text": [
      "DEBUG:root:EVAL:   loss.item(): 0.006471648812294006 valid_running_correct: 42\n",
      "DEBUG:root:TRAIN: loss.item(): 2.931144952774048, train_running_correct: 18\n"
     ]
    },
    {
     "name": "stdout",
     "output_type": "stream",
     "text": [
      "Epoch: 22/30, Training accuracy: 0.720000, Loss: 2.931145, Validation accuracy: 0.560000\n",
      "--------------------------------------------------\n"
     ]
    },
    {
     "name": "stderr",
     "output_type": "stream",
     "text": [
      "DEBUG:root:EVAL:   loss.item(): 0.00767243979498744 valid_running_correct: 44\n",
      "DEBUG:root:TRAIN: loss.item(): 1.2812519073486328, train_running_correct: 21\n"
     ]
    },
    {
     "name": "stdout",
     "output_type": "stream",
     "text": [
      "Epoch: 23/30, Training accuracy: 0.840000, Loss: 1.281252, Validation accuracy: 0.586667\n",
      "--------------------------------------------------\n"
     ]
    },
    {
     "name": "stderr",
     "output_type": "stream",
     "text": [
      "DEBUG:root:EVAL:   loss.item(): 0.02836824767291546 valid_running_correct: 48\n",
      "DEBUG:root:TRAIN: loss.item(): 3.2413270473480225, train_running_correct: 22\n"
     ]
    },
    {
     "name": "stdout",
     "output_type": "stream",
     "text": [
      "Epoch: 24/30, Training accuracy: 0.880000, Loss: 3.241327, Validation accuracy: 0.640000\n",
      "--------------------------------------------------\n"
     ]
    },
    {
     "name": "stderr",
     "output_type": "stream",
     "text": [
      "DEBUG:root:EVAL:   loss.item(): 0.01396497804671526 valid_running_correct: 48\n",
      "DEBUG:root:TRAIN: loss.item(): 2.0967979431152344, train_running_correct: 17\n"
     ]
    },
    {
     "name": "stdout",
     "output_type": "stream",
     "text": [
      "Epoch: 25/30, Training accuracy: 0.680000, Loss: 2.096798, Validation accuracy: 0.640000\n",
      "--------------------------------------------------\n"
     ]
    },
    {
     "name": "stderr",
     "output_type": "stream",
     "text": [
      "DEBUG:root:EVAL:   loss.item(): 0.01503076869994402 valid_running_correct: 43\n",
      "DEBUG:root:TRAIN: loss.item(): 1.8247102499008179, train_running_correct: 17\n"
     ]
    },
    {
     "name": "stdout",
     "output_type": "stream",
     "text": [
      "Epoch: 26/30, Training accuracy: 0.680000, Loss: 1.824710, Validation accuracy: 0.573333\n",
      "--------------------------------------------------\n"
     ]
    },
    {
     "name": "stderr",
     "output_type": "stream",
     "text": [
      "DEBUG:root:EVAL:   loss.item(): 0.010668783448636532 valid_running_correct: 42\n",
      "DEBUG:root:TRAIN: loss.item(): 1.2859165668487549, train_running_correct: 21\n"
     ]
    },
    {
     "name": "stdout",
     "output_type": "stream",
     "text": [
      "Epoch: 27/30, Training accuracy: 0.840000, Loss: 1.285917, Validation accuracy: 0.560000\n",
      "--------------------------------------------------\n"
     ]
    },
    {
     "name": "stderr",
     "output_type": "stream",
     "text": [
      "DEBUG:root:EVAL:   loss.item(): 0.008823283948004246 valid_running_correct: 39\n",
      "DEBUG:root:TRAIN: loss.item(): 0.5132747292518616, train_running_correct: 22\n"
     ]
    },
    {
     "name": "stdout",
     "output_type": "stream",
     "text": [
      "Epoch: 28/30, Training accuracy: 0.880000, Loss: 0.513275, Validation accuracy: 0.520000\n",
      "--------------------------------------------------\n"
     ]
    },
    {
     "name": "stderr",
     "output_type": "stream",
     "text": [
      "DEBUG:root:EVAL:   loss.item(): 0.0018558803712949157 valid_running_correct: 36\n",
      "DEBUG:root:TRAIN: loss.item(): 3.5117762088775635, train_running_correct: 21\n"
     ]
    },
    {
     "name": "stdout",
     "output_type": "stream",
     "text": [
      "Epoch: 29/30, Training accuracy: 0.840000, Loss: 3.511776, Validation accuracy: 0.480000\n",
      "--------------------------------------------------\n"
     ]
    },
    {
     "name": "stderr",
     "output_type": "stream",
     "text": [
      "DEBUG:root:EVAL:   loss.item(): 0.0025831619277596474 valid_running_correct: 42\n",
      "DEBUG:root:TRAIN: loss.item(): 1.904750108718872, train_running_correct: 17\n"
     ]
    },
    {
     "name": "stdout",
     "output_type": "stream",
     "text": [
      "Epoch: 30/30, Training accuracy: 0.680000, Loss: 1.904750, Validation accuracy: 0.560000\n",
      "--------------------------------------------------\n"
     ]
    },
    {
     "name": "stderr",
     "output_type": "stream",
     "text": [
      "DEBUG:root:EVAL:   loss.item(): 0.0025831619277596474 valid_running_correct: 42\n"
     ]
    },
    {
     "name": "stdout",
     "output_type": "stream",
     "text": [
      "EuroSAT model 11/11 results: 0.560\n"
     ]
    }
   ],
   "source": [
    "i = 11\n",
    "j = 1\n",
    "\n",
    "for j in range(i):\n",
    "    print(f\"Training EuroSAT model {j+1}/{i}\")\n",
    "    eurosat_dataloader_train, eurosat_dataloader_validation = load_euro_datasets()\n",
    "    eurosat_trained_model = train(eurosat_trained_model, eurosat_dataloader_train, eurosat_dataloader_validation, criterion, optimizer, num_epochs, device)\n",
    "    results = evaluate(eurosat_trained_model, eurosat_dataloader_validation, device, criterion)\n",
    "    print(f\"EuroSAT model {j+1}/{i} results: {results:.3f}\")\n",
    "    # Save the results to results.txt\n",
    "    with open(\"results.txt\", \"a\") as f:\n",
    "        f.write(f\"{eurosat_trained_model.name} {j} Time: {time.strftime('%d/%m/%Y, %H:%M:%S')} Epochs: {num_epochs} | Results: {results:.6f}\\n\")\n",
    "        f.close()"
   ]
  },
  {
   "cell_type": "markdown",
   "metadata": {},
   "source": [
    "## RESNET 34"
   ]
  },
  {
   "cell_type": "code",
   "execution_count": null,
   "metadata": {},
   "outputs": [],
   "source": [
    "# Image Size\n",
    "image_size = 224\n",
    "\n",
    "# Batch size during training\n",
    "batch_size = 128\n",
    "num_workers = 1\n",
    "\n",
    "# Learning rate for optimizers (id not good, decrease learning rate (try 0.001, 0.0001, 0.00001))\n",
    "lr = 0.001\n",
    "\n",
    "# Momentum\n",
    "momentum = 0.9\n",
    "\n",
    "# Number of training epochs\n",
    "num_epochs = 10\n",
    "\n",
    "# Weight decay (if not good, increase weight_decay (try 1e-4, 1e-3, 1e-2))\n",
    "weight_decay=1e-2"
   ]
  },
  {
   "cell_type": "code",
   "execution_count": null,
   "metadata": {},
   "outputs": [],
   "source": [
    "# Define the used model\n",
    "model = model_resnet34\n",
    "model.name = \"resnet34\"     # Set name for saving\n",
    "\n",
    "model.fc = torch.nn.Linear(model.fc.in_features, num_classes)\n",
    "\n",
    "# Define loss function\n",
    "criterion = nn.CrossEntropyLoss()\n",
    "\n",
    "# Define optimizer\n",
    "optimizer = optim.SGD(model.parameters(), lr=lr, momentum=momentum)\n",
    "#optimizer = optim.Adam(model.parameters(), lr=lr, weight_decay=weight_decay)"
   ]
  },
  {
   "cell_type": "code",
   "execution_count": null,
   "metadata": {},
   "outputs": [],
   "source": [
    "pretrained_model = train(model, train_loader, val_loader, criterion, optimizer, num_epochs, device)"
   ]
  },
  {
   "cell_type": "code",
   "execution_count": null,
   "metadata": {},
   "outputs": [],
   "source": [
    "save_model(pretrained_model)"
   ]
  },
  {
   "cell_type": "code",
   "execution_count": null,
   "metadata": {},
   "outputs": [],
   "source": [
    "# validate_loss, validate_acc = evaluate(trained_model, dataloader_validation, criterion, device)\n",
    "# print(f\"Validation loss: {validate_loss:.3f}, validation acc: {validate_acc:.3f}\")\n",
    "test_acc = evaluate(pretrained_model, test_loader, device, criterion)\n",
    "print(f\"test acc: {test_acc:.3f}\")"
   ]
  },
  {
   "cell_type": "code",
   "execution_count": null,
   "metadata": {},
   "outputs": [],
   "source": [
    "batch_size = 12"
   ]
  },
  {
   "cell_type": "code",
   "execution_count": null,
   "metadata": {},
   "outputs": [],
   "source": [
    "# Load the pretrained model\n",
    "model_resnet34_fine = load_model(\"resnet34\")\n",
    "\n",
    "for param in model_resnet34_fine.parameters():\n",
    "    param.requires_grad = False\n",
    "\n",
    "model_resnet34_fine.fc = nn.Linear(model_resnet34_fine.fc.in_features, 5)\n",
    "\n",
    "# Define loss function and optimizer for fine-tuning\n",
    "criterion = nn.CrossEntropyLoss()\n",
    "optimizer = optim.SGD(model_resnet34_fine.parameters(), lr=0.001, momentum=0.9)\n",
    "\n",
    "num_epochs = 30\n",
    "\n",
    "# Load the EuroSAT dataset\n",
    "eurosat_dataloader_train, eurosat_dataloader_validation = load_euro_datasets()\n",
    "\n",
    "eurosat_trained_model = train(model_resnet34_fine, eurosat_dataloader_train, eurosat_dataloader_validation, criterion, optimizer, num_epochs, device)\n"
   ]
  },
  {
   "cell_type": "code",
   "execution_count": null,
   "metadata": {},
   "outputs": [],
   "source": [
    "i = 11\n",
    "\n",
    "for j in range(i):\n",
    "    print(f\"Training EuroSAT model {j+1}/{i}\")\n",
    "    eurosat_dataloader_train, eurosat_dataloader_validation = load_euro_datasets()\n",
    "    eurosat_trained_model = train(eurosat_trained_model, eurosat_dataloader_train, eurosat_dataloader_validation, criterion, optimizer, num_epochs, device)\n",
    "    results = evaluate(eurosat_trained_model, eurosat_dataloader_validation, device, criterion)\n",
    "    print(f\"EuroSAT model {j+1}/{i} results: {results:.3f}\")\n",
    "    # Save the results to results.txt\n",
    "    with open(\"results.txt\", \"a\") as f:\n",
    "        f.write(f\"{eurosat_trained_model.name} {j} Time: {time.strftime('%d/%m/%Y, %H:%M:%S')} Epochs: {num_epochs} | Results: {results:.6f}\\n\")\n",
    "        f.close()"
   ]
  },
  {
   "cell_type": "markdown",
   "metadata": {},
   "source": [
    "## RESNET 50"
   ]
  },
  {
   "cell_type": "code",
   "execution_count": null,
   "metadata": {},
   "outputs": [],
   "source": [
    "# Image Size\n",
    "image_size = 224\n",
    "\n",
    "# Batch size during training\n",
    "batch_size = 128\n",
    "num_workers = 1\n",
    "\n",
    "# Learning rate for optimizers (id not good, decrease learning rate (try 0.001, 0.0001, 0.00001))\n",
    "lr = 0.001\n",
    "\n",
    "# Momentum\n",
    "momentum = 0.9\n",
    "\n",
    "# Number of training epochs\n",
    "num_epochs = 10\n",
    "\n",
    "# Weight decay (if not good, increase weight_decay (try 1e-4, 1e-3, 1e-2))\n",
    "weight_decay=1e-2\n",
    "\n",
    "\n",
    "# Define the used model\n",
    "model = model_resnet50\n",
    "model.name = \"resnet50\"     # Set name for saving\n",
    "\n",
    "model.fc = torch.nn.Linear(model.fc.in_features, num_classes)\n",
    "\n",
    "# Define loss function\n",
    "criterion = nn.CrossEntropyLoss()\n",
    "\n",
    "# Define optimizer\n",
    "optimizer = optim.SGD(model.parameters(), lr=lr, momentum=momentum)\n",
    "#optimizer = optim.Adam(model.parameters(), lr=lr, weight_decay=weight_decay)\n",
    "\n",
    "pretrained_model = train(model, train_loader, val_loader, criterion, optimizer, num_epochs, device)"
   ]
  },
  {
   "cell_type": "code",
   "execution_count": null,
   "metadata": {},
   "outputs": [],
   "source": [
    "save_model(pretrained_model)\n",
    "\n",
    "# validate_loss, validate_acc = evaluate(trained_model, dataloader_validation, criterion, device)\n",
    "# print(f\"Validation loss: {validate_loss:.3f}, validation acc: {validate_acc:.3f}\")\n",
    "test_acc = evaluate(pretrained_model, test_loader, device, criterion)\n",
    "print(f\"test acc: {test_acc:.3f}\")"
   ]
  },
  {
   "cell_type": "code",
   "execution_count": null,
   "metadata": {},
   "outputs": [],
   "source": [
    "batch_size = 12\n",
    "\n",
    "\n",
    "# Load the pretrained model\n",
    "model_resnet50_fine = load_model(\"resnet50\")\n",
    "\n",
    "for param in model_resnet50_fine.parameters():\n",
    "    param.requires_grad = False\n",
    "\n",
    "model_resnet50_fine.fc = nn.Linear(model_resnet50_fine.fc.in_features, 5)\n",
    "\n",
    "# Define loss function and optimizer for fine-tuning\n",
    "criterion = nn.CrossEntropyLoss()\n",
    "optimizer = optim.SGD(model_resnet50_fine.parameters(), lr=0.001, momentum=0.9)\n",
    "\n",
    "num_epochs = 30\n",
    "\n",
    "# Load the EuroSAT dataset\n",
    "eurosat_dataloader_train, eurosat_dataloader_validation = load_euro_datasets()\n",
    "\n",
    "eurosat_trained_model = train(model_resnet50_fine, eurosat_dataloader_train, eurosat_dataloader_validation, criterion, optimizer, num_epochs, device)"
   ]
  },
  {
   "cell_type": "code",
   "execution_count": null,
   "metadata": {},
   "outputs": [],
   "source": [
    "i = 11\n",
    "j = 1\n",
    "\n",
    "for j in range(i):\n",
    "    print(f\"Training EuroSAT model {j+1}/{i}\")\n",
    "    eurosat_dataloader_train, eurosat_dataloader_validation = load_euro_datasets()\n",
    "    eurosat_trained_model = train(eurosat_trained_model, eurosat_dataloader_train, eurosat_dataloader_validation, criterion, optimizer, num_epochs, device)\n",
    "    results = evaluate(eurosat_trained_model, eurosat_dataloader_validation, device, criterion)\n",
    "    print(f\"EuroSAT model {j+1}/{i} results: {results:.3f}\")\n",
    "    # Save the results to results.txt\n",
    "    with open(\"results.txt\", \"a\") as f:\n",
    "        f.write(f\"{j} Time: {time.strftime('%d/%m/%Y, %H:%M:%S')} Epochs: {num_epochs} | Results: {results:.6f}\\n\")\n",
    "        f.close()"
   ]
  },
  {
   "cell_type": "markdown",
   "metadata": {},
   "source": [
    "## DATASET: CUB"
   ]
  },
  {
   "cell_type": "code",
   "execution_count": 42,
   "metadata": {},
   "outputs": [],
   "source": [
    "batch_size = 16"
   ]
  },
  {
   "cell_type": "code",
   "execution_count": 51,
   "metadata": {},
   "outputs": [
    {
     "name": "stdout",
     "output_type": "stream",
     "text": [
      "Number of samples in the validation set: 11788\n"
     ]
    }
   ],
   "source": [
    "cub_dataset = torchvision.datasets.ImageFolder(root='./data/CUB_200_2011/images')\n",
    "\n",
    "# Transform functions\n",
    "transform_eval = transforms.Compose([\n",
    "    transforms.Resize(256),\n",
    "    transforms.CenterCrop(224),\n",
    "    transforms.ToTensor(),\n",
    "    transforms.Normalize([0.485, 0.456, 0.406], [0.229, 0.224, 0.225]), # mean and std for ImageNet dataset\n",
    "])\n",
    "\n",
    "cub_dataset.transform = transform_eval\n",
    "\n",
    "# Loading the ImageFolder dataset\n",
    "\n",
    "\n",
    "# Getting the number of classes\n",
    "cub_num_classes = len(cub_dataset.classes)\n",
    "\n",
    "cub_val_loader = DataLoader(cub_dataset, batch_size=batch_size, shuffle=False, num_workers=1)\n",
    "\n",
    "# Printing the sizes of the resulting sets\n",
    "print(f\"Number of samples in the validation set: {len(cub_dataset)}\")\n"
   ]
  },
  {
   "cell_type": "code",
   "execution_count": 52,
   "metadata": {},
   "outputs": [
    {
     "name": "stdout",
     "output_type": "stream",
     "text": [
      "Loading Model resnet18\n"
     ]
    },
    {
     "ename": "RuntimeError",
     "evalue": "CUDA error: device-side assert triggered\nCUDA kernel errors might be asynchronously reported at some other API call, so the stacktrace below might be incorrect.\nFor debugging consider passing CUDA_LAUNCH_BLOCKING=1.\nCompile with `TORCH_USE_CUDA_DSA` to enable device-side assertions.\n",
     "output_type": "error",
     "traceback": [
      "\u001b[1;31m---------------------------------------------------------------------------\u001b[0m",
      "\u001b[1;31mRuntimeError\u001b[0m                              Traceback (most recent call last)",
      "Cell \u001b[1;32mIn[52], line 12\u001b[0m\n\u001b[0;32m      8\u001b[0m weight_decay\u001b[38;5;241m=\u001b[39m\u001b[38;5;241m1e-2\u001b[39m\n\u001b[0;32m     11\u001b[0m \u001b[38;5;66;03m# Load the pretrained model\u001b[39;00m\n\u001b[1;32m---> 12\u001b[0m model_resnet18_fine \u001b[38;5;241m=\u001b[39m \u001b[43mload_model\u001b[49m\u001b[43m(\u001b[49m\u001b[38;5;124;43m\"\u001b[39;49m\u001b[38;5;124;43mresnet18\u001b[39;49m\u001b[38;5;124;43m\"\u001b[39;49m\u001b[43m)\u001b[49m\n\u001b[0;32m     14\u001b[0m \u001b[38;5;28;01mfor\u001b[39;00m param \u001b[38;5;129;01min\u001b[39;00m model_resnet18_fine\u001b[38;5;241m.\u001b[39mparameters():\n\u001b[0;32m     15\u001b[0m     param\u001b[38;5;241m.\u001b[39mrequires_grad \u001b[38;5;241m=\u001b[39m \u001b[38;5;28;01mFalse\u001b[39;00m\n",
      "Cell \u001b[1;32mIn[33], line 17\u001b[0m, in \u001b[0;36mload_model\u001b[1;34m(model_name)\u001b[0m\n\u001b[0;32m     15\u001b[0m     \u001b[38;5;28;01mreturn\u001b[39;00m \u001b[38;5;28;01mNone\u001b[39;00m\n\u001b[0;32m     16\u001b[0m \u001b[38;5;28mprint\u001b[39m(\u001b[38;5;124mf\u001b[39m\u001b[38;5;124m'\u001b[39m\u001b[38;5;124mLoading Model \u001b[39m\u001b[38;5;132;01m{\u001b[39;00mmodel_name\u001b[38;5;132;01m}\u001b[39;00m\u001b[38;5;124m'\u001b[39m)\n\u001b[1;32m---> 17\u001b[0m model \u001b[38;5;241m=\u001b[39m \u001b[43mtorch\u001b[49m\u001b[38;5;241;43m.\u001b[39;49m\u001b[43mload\u001b[49m\u001b[43m(\u001b[49m\u001b[38;5;124;43mf\u001b[39;49m\u001b[38;5;124;43m'\u001b[39;49m\u001b[38;5;124;43m./models/\u001b[39;49m\u001b[38;5;132;43;01m{\u001b[39;49;00m\u001b[43mmodel_name\u001b[49m\u001b[38;5;132;43;01m}\u001b[39;49;00m\u001b[38;5;124;43m.pth\u001b[39;49m\u001b[38;5;124;43m'\u001b[39;49m\u001b[43m)\u001b[49m\n\u001b[0;32m     18\u001b[0m model\u001b[38;5;241m.\u001b[39meval()\n\u001b[0;32m     19\u001b[0m \u001b[38;5;28;01mreturn\u001b[39;00m model\n",
      "File \u001b[1;32mc:\\Users\\joona\\.conda\\envs\\CUDA\\Lib\\site-packages\\torch\\serialization.py:1014\u001b[0m, in \u001b[0;36mload\u001b[1;34m(f, map_location, pickle_module, weights_only, mmap, **pickle_load_args)\u001b[0m\n\u001b[0;32m   1012\u001b[0m             \u001b[38;5;28;01mexcept\u001b[39;00m \u001b[38;5;167;01mRuntimeError\u001b[39;00m \u001b[38;5;28;01mas\u001b[39;00m e:\n\u001b[0;32m   1013\u001b[0m                 \u001b[38;5;28;01mraise\u001b[39;00m pickle\u001b[38;5;241m.\u001b[39mUnpicklingError(UNSAFE_MESSAGE \u001b[38;5;241m+\u001b[39m \u001b[38;5;28mstr\u001b[39m(e)) \u001b[38;5;28;01mfrom\u001b[39;00m \u001b[38;5;28;01mNone\u001b[39;00m\n\u001b[1;32m-> 1014\u001b[0m         \u001b[38;5;28;01mreturn\u001b[39;00m \u001b[43m_load\u001b[49m\u001b[43m(\u001b[49m\u001b[43mopened_zipfile\u001b[49m\u001b[43m,\u001b[49m\n\u001b[0;32m   1015\u001b[0m \u001b[43m                     \u001b[49m\u001b[43mmap_location\u001b[49m\u001b[43m,\u001b[49m\n\u001b[0;32m   1016\u001b[0m \u001b[43m                     \u001b[49m\u001b[43mpickle_module\u001b[49m\u001b[43m,\u001b[49m\n\u001b[0;32m   1017\u001b[0m \u001b[43m                     \u001b[49m\u001b[43moverall_storage\u001b[49m\u001b[38;5;241;43m=\u001b[39;49m\u001b[43moverall_storage\u001b[49m\u001b[43m,\u001b[49m\n\u001b[0;32m   1018\u001b[0m \u001b[43m                     \u001b[49m\u001b[38;5;241;43m*\u001b[39;49m\u001b[38;5;241;43m*\u001b[39;49m\u001b[43mpickle_load_args\u001b[49m\u001b[43m)\u001b[49m\n\u001b[0;32m   1019\u001b[0m \u001b[38;5;28;01mif\u001b[39;00m mmap:\n\u001b[0;32m   1020\u001b[0m     \u001b[38;5;28;01mraise\u001b[39;00m \u001b[38;5;167;01mRuntimeError\u001b[39;00m(\u001b[38;5;124m\"\u001b[39m\u001b[38;5;124mmmap can only be used with files saved with \u001b[39m\u001b[38;5;124m\"\u001b[39m,\n\u001b[0;32m   1021\u001b[0m                        \u001b[38;5;124m\"\u001b[39m\u001b[38;5;124m`torch.save(_use_new_zipfile_serialization=True), \u001b[39m\u001b[38;5;124m\"\u001b[39m\n\u001b[0;32m   1022\u001b[0m                        \u001b[38;5;124m\"\u001b[39m\u001b[38;5;124mplease torch.save your checkpoint with this option in order to use mmap.\u001b[39m\u001b[38;5;124m\"\u001b[39m)\n",
      "File \u001b[1;32mc:\\Users\\joona\\.conda\\envs\\CUDA\\Lib\\site-packages\\torch\\serialization.py:1422\u001b[0m, in \u001b[0;36m_load\u001b[1;34m(zip_file, map_location, pickle_module, pickle_file, overall_storage, **pickle_load_args)\u001b[0m\n\u001b[0;32m   1420\u001b[0m unpickler \u001b[38;5;241m=\u001b[39m UnpicklerWrapper(data_file, \u001b[38;5;241m*\u001b[39m\u001b[38;5;241m*\u001b[39mpickle_load_args)\n\u001b[0;32m   1421\u001b[0m unpickler\u001b[38;5;241m.\u001b[39mpersistent_load \u001b[38;5;241m=\u001b[39m persistent_load\n\u001b[1;32m-> 1422\u001b[0m result \u001b[38;5;241m=\u001b[39m \u001b[43munpickler\u001b[49m\u001b[38;5;241;43m.\u001b[39;49m\u001b[43mload\u001b[49m\u001b[43m(\u001b[49m\u001b[43m)\u001b[49m\n\u001b[0;32m   1424\u001b[0m torch\u001b[38;5;241m.\u001b[39m_utils\u001b[38;5;241m.\u001b[39m_validate_loaded_sparse_tensors()\n\u001b[0;32m   1425\u001b[0m torch\u001b[38;5;241m.\u001b[39m_C\u001b[38;5;241m.\u001b[39m_log_api_usage_metadata(\n\u001b[0;32m   1426\u001b[0m     \u001b[38;5;124m\"\u001b[39m\u001b[38;5;124mtorch.load.metadata\u001b[39m\u001b[38;5;124m\"\u001b[39m, {\u001b[38;5;124m\"\u001b[39m\u001b[38;5;124mserialization_id\u001b[39m\u001b[38;5;124m\"\u001b[39m: zip_file\u001b[38;5;241m.\u001b[39mserialization_id()}\n\u001b[0;32m   1427\u001b[0m )\n",
      "File \u001b[1;32mc:\\Users\\joona\\.conda\\envs\\CUDA\\Lib\\site-packages\\torch\\serialization.py:1392\u001b[0m, in \u001b[0;36m_load.<locals>.persistent_load\u001b[1;34m(saved_id)\u001b[0m\n\u001b[0;32m   1390\u001b[0m \u001b[38;5;28;01melse\u001b[39;00m:\n\u001b[0;32m   1391\u001b[0m     nbytes \u001b[38;5;241m=\u001b[39m numel \u001b[38;5;241m*\u001b[39m torch\u001b[38;5;241m.\u001b[39m_utils\u001b[38;5;241m.\u001b[39m_element_size(dtype)\n\u001b[1;32m-> 1392\u001b[0m     typed_storage \u001b[38;5;241m=\u001b[39m \u001b[43mload_tensor\u001b[49m\u001b[43m(\u001b[49m\u001b[43mdtype\u001b[49m\u001b[43m,\u001b[49m\u001b[43m \u001b[49m\u001b[43mnbytes\u001b[49m\u001b[43m,\u001b[49m\u001b[43m \u001b[49m\u001b[43mkey\u001b[49m\u001b[43m,\u001b[49m\u001b[43m \u001b[49m\u001b[43m_maybe_decode_ascii\u001b[49m\u001b[43m(\u001b[49m\u001b[43mlocation\u001b[49m\u001b[43m)\u001b[49m\u001b[43m)\u001b[49m\n\u001b[0;32m   1394\u001b[0m \u001b[38;5;28;01mreturn\u001b[39;00m typed_storage\n",
      "File \u001b[1;32mc:\\Users\\joona\\.conda\\envs\\CUDA\\Lib\\site-packages\\torch\\serialization.py:1366\u001b[0m, in \u001b[0;36m_load.<locals>.load_tensor\u001b[1;34m(dtype, numel, key, location)\u001b[0m\n\u001b[0;32m   1361\u001b[0m         storage\u001b[38;5;241m.\u001b[39mbyteswap(dtype)\n\u001b[0;32m   1363\u001b[0m \u001b[38;5;66;03m# TODO: Once we decide to break serialization FC, we can\u001b[39;00m\n\u001b[0;32m   1364\u001b[0m \u001b[38;5;66;03m# stop wrapping with TypedStorage\u001b[39;00m\n\u001b[0;32m   1365\u001b[0m typed_storage \u001b[38;5;241m=\u001b[39m torch\u001b[38;5;241m.\u001b[39mstorage\u001b[38;5;241m.\u001b[39mTypedStorage(\n\u001b[1;32m-> 1366\u001b[0m     wrap_storage\u001b[38;5;241m=\u001b[39m\u001b[43mrestore_location\u001b[49m\u001b[43m(\u001b[49m\u001b[43mstorage\u001b[49m\u001b[43m,\u001b[49m\u001b[43m \u001b[49m\u001b[43mlocation\u001b[49m\u001b[43m)\u001b[49m,\n\u001b[0;32m   1367\u001b[0m     dtype\u001b[38;5;241m=\u001b[39mdtype,\n\u001b[0;32m   1368\u001b[0m     _internal\u001b[38;5;241m=\u001b[39m\u001b[38;5;28;01mTrue\u001b[39;00m)\n\u001b[0;32m   1370\u001b[0m \u001b[38;5;28;01mif\u001b[39;00m typed_storage\u001b[38;5;241m.\u001b[39m_data_ptr() \u001b[38;5;241m!=\u001b[39m \u001b[38;5;241m0\u001b[39m:\n\u001b[0;32m   1371\u001b[0m     loaded_storages[key] \u001b[38;5;241m=\u001b[39m typed_storage\n",
      "File \u001b[1;32mc:\\Users\\joona\\.conda\\envs\\CUDA\\Lib\\site-packages\\torch\\serialization.py:381\u001b[0m, in \u001b[0;36mdefault_restore_location\u001b[1;34m(storage, location)\u001b[0m\n\u001b[0;32m    379\u001b[0m \u001b[38;5;28;01mdef\u001b[39;00m \u001b[38;5;21mdefault_restore_location\u001b[39m(storage, location):\n\u001b[0;32m    380\u001b[0m     \u001b[38;5;28;01mfor\u001b[39;00m _, _, fn \u001b[38;5;129;01min\u001b[39;00m _package_registry:\n\u001b[1;32m--> 381\u001b[0m         result \u001b[38;5;241m=\u001b[39m \u001b[43mfn\u001b[49m\u001b[43m(\u001b[49m\u001b[43mstorage\u001b[49m\u001b[43m,\u001b[49m\u001b[43m \u001b[49m\u001b[43mlocation\u001b[49m\u001b[43m)\u001b[49m\n\u001b[0;32m    382\u001b[0m         \u001b[38;5;28;01mif\u001b[39;00m result \u001b[38;5;129;01mis\u001b[39;00m \u001b[38;5;129;01mnot\u001b[39;00m \u001b[38;5;28;01mNone\u001b[39;00m:\n\u001b[0;32m    383\u001b[0m             \u001b[38;5;28;01mreturn\u001b[39;00m result\n",
      "File \u001b[1;32mc:\\Users\\joona\\.conda\\envs\\CUDA\\Lib\\site-packages\\torch\\serialization.py:279\u001b[0m, in \u001b[0;36m_cuda_deserialize\u001b[1;34m(obj, location)\u001b[0m\n\u001b[0;32m    277\u001b[0m         \u001b[38;5;28;01mreturn\u001b[39;00m torch\u001b[38;5;241m.\u001b[39mUntypedStorage(obj\u001b[38;5;241m.\u001b[39mnbytes(), device\u001b[38;5;241m=\u001b[39mtorch\u001b[38;5;241m.\u001b[39mdevice(location))\n\u001b[0;32m    278\u001b[0m \u001b[38;5;28;01melse\u001b[39;00m:\n\u001b[1;32m--> 279\u001b[0m     \u001b[38;5;28;01mreturn\u001b[39;00m \u001b[43mobj\u001b[49m\u001b[38;5;241;43m.\u001b[39;49m\u001b[43mcuda\u001b[49m\u001b[43m(\u001b[49m\u001b[43mdevice\u001b[49m\u001b[43m)\u001b[49m\n",
      "File \u001b[1;32mc:\\Users\\joona\\.conda\\envs\\CUDA\\Lib\\site-packages\\torch\\_utils.py:117\u001b[0m, in \u001b[0;36m_cuda\u001b[1;34m(self, device, non_blocking, **kwargs)\u001b[0m\n\u001b[0;32m    113\u001b[0m \u001b[38;5;28;01melse\u001b[39;00m:\n\u001b[0;32m    114\u001b[0m     untyped_storage \u001b[38;5;241m=\u001b[39m torch\u001b[38;5;241m.\u001b[39mUntypedStorage(\n\u001b[0;32m    115\u001b[0m         \u001b[38;5;28mself\u001b[39m\u001b[38;5;241m.\u001b[39msize(), device\u001b[38;5;241m=\u001b[39mtorch\u001b[38;5;241m.\u001b[39mdevice(\u001b[38;5;124m\"\u001b[39m\u001b[38;5;124mcuda\u001b[39m\u001b[38;5;124m\"\u001b[39m)\n\u001b[0;32m    116\u001b[0m     )\n\u001b[1;32m--> 117\u001b[0m     \u001b[43muntyped_storage\u001b[49m\u001b[38;5;241;43m.\u001b[39;49m\u001b[43mcopy_\u001b[49m\u001b[43m(\u001b[49m\u001b[38;5;28;43mself\u001b[39;49m\u001b[43m,\u001b[49m\u001b[43m \u001b[49m\u001b[43mnon_blocking\u001b[49m\u001b[43m)\u001b[49m\n\u001b[0;32m    118\u001b[0m     \u001b[38;5;28;01mreturn\u001b[39;00m untyped_storage\n",
      "\u001b[1;31mRuntimeError\u001b[0m: CUDA error: device-side assert triggered\nCUDA kernel errors might be asynchronously reported at some other API call, so the stacktrace below might be incorrect.\nFor debugging consider passing CUDA_LAUNCH_BLOCKING=1.\nCompile with `TORCH_USE_CUDA_DSA` to enable device-side assertions.\n"
     ]
    }
   ],
   "source": [
    "# Batch size during training\n",
    "num_workers = 1\n",
    "\n",
    "# Number of training epochs\n",
    "num_epochs = 10\n",
    "\n",
    "# Weight decay (if not good, increase weight_decay (try 1e-4, 1e-3, 1e-2))\n",
    "weight_decay=1e-2\n",
    "\n",
    "\n",
    "# Load the pretrained model\n",
    "model_resnet18_fine = load_model(\"resnet18\")\n",
    "\n",
    "for param in model_resnet18_fine.parameters():\n",
    "    param.requires_grad = False\n",
    "\n",
    "\n",
    "model_resnet18_fine.fc = nn.Linear(model_resnet18_fine.fc.in_features, 5)\n",
    "\n",
    "# Define loss function and optimizer for fine-tuning\n",
    "criterion = nn.CrossEntropyLoss()\n",
    "optimizer = optim.SGD(model_resnet18_fine.parameters(), lr=0.001, momentum=0.9)\n",
    "\n",
    "model_resnet18_fine.to(device)\n",
    "\n",
    "if torch.cuda.is_available():\n",
    "    print(\"Using CUDA\")\n",
    "\n",
    "cub_model = evaluate(model_resnet18_fine, cub_val_loader, device, criterion)"
   ]
  }
 ],
 "metadata": {
  "kernelspec": {
   "display_name": "Python 3 (ipykernel)",
   "language": "python",
   "name": "python3"
  },
  "language_info": {
   "codemirror_mode": {
    "name": "ipython",
    "version": 3
   },
   "file_extension": ".py",
   "mimetype": "text/x-python",
   "name": "python",
   "nbconvert_exporter": "python",
   "pygments_lexer": "ipython3",
   "version": "3.11.6"
  }
 },
 "nbformat": 4,
 "nbformat_minor": 4
}
